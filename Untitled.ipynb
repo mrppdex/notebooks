{
 "cells": [
  {
   "cell_type": "code",
   "execution_count": 1,
   "metadata": {},
   "outputs": [],
   "source": [
    "import ipywidgets as wg\n",
    "from IPython.display import display \n",
    "import numpy as np\n",
    "%matplotlib inline\n",
    "import matplotlib.pyplot as plt"
   ]
  },
  {
   "cell_type": "code",
   "execution_count": 2,
   "metadata": {},
   "outputs": [],
   "source": [
    "def fopdtPlot(K,tau,theta):\n",
    "    n = 100 # time points to plot\n",
    "    t = np.linspace(0,20,100) # create time vector\n",
    "    # create 0 -> 1 step at t=theta\n",
    "    delay = np.empty_like(t)\n",
    "    for i in range(n):\n",
    "        if t[i] < theta:\n",
    "            delay[i] = 0.0\n",
    "        else:\n",
    "            delay[i] = 1.0\n",
    "    # calculate response to step input\n",
    "    x = K * (1.0-np.exp(-(t-theta)/tau))\n",
    "    y = x * delay\n",
    "    # plot response\n",
    "    plt.figure(1,figsize=(15,7))\n",
    "    plt.subplot(1,2,1)\n",
    "    plt.plot(t,y,'k-',linewidth=4,label=r'$y(t)=x(t-\\theta)*S(t-\\theta)$')\n",
    "    plt.legend(loc='best')\n",
    "    plt.ylim([-10,10])\n",
    "    plt.xlim([0,20])\n",
    "    plt.subplot(1,2,2)\n",
    "    plt.plot(t,x,'r--',linewidth=2,label=r'$x(t-\\theta)=K\\;(1-\\exp(-(t-\\theta)/\\tau))$')\n",
    "    plt.plot(t,delay,'g:',linewidth=2,label=r'$S(t-\\theta)$')\n",
    "    plt.xlabel('time')\n",
    "    plt.legend(loc='best')\n",
    "    plt.ylim([-10,10])\n",
    "    plt.xlim([0,20])"
   ]
  },
  {
   "cell_type": "code",
   "execution_count": 3,
   "metadata": {},
   "outputs": [
    {
     "data": {
      "application/vnd.jupyter.widget-view+json": {
       "model_id": "530954fbbb6e42d5a45ec347a46fdd47",
       "version_major": 2,
       "version_minor": 0
      },
      "text/plain": [
       "interactive(children=(FloatSlider(value=8.0, description='K', max=10.0, min=-10.0), FloatSlider(value=5.0, des…"
      ]
     },
     "metadata": {},
     "output_type": "display_data"
    },
    {
     "data": {
      "text/plain": [
       "<function __main__.fopdtPlot(K, tau, theta)>"
      ]
     },
     "execution_count": 3,
     "metadata": {},
     "output_type": "execute_result"
    }
   ],
   "source": [
    "K_slide = wg.FloatSlider(value=8.0,min=-10.0,max=10.0,step=0.1)\n",
    "tau_slide = wg.FloatSlider(value=5.0,min=0.1,max=10.0,step=0.1)\n",
    "theta_slide = wg.FloatSlider(value=4.0,min=0.1,max=15.0,step=0.1)\n",
    "wg.interact(fopdtPlot, K=K_slide, tau=tau_slide, theta=theta_slide)"
   ]
  },
  {
   "cell_type": "code",
   "execution_count": 4,
   "metadata": {},
   "outputs": [
    {
     "data": {
      "text/plain": [
       "0.6321205588285577"
      ]
     },
     "execution_count": 4,
     "metadata": {},
     "output_type": "execute_result"
    }
   ],
   "source": [
    "1-np.exp(-1)"
   ]
  },
  {
   "cell_type": "code",
   "execution_count": 1,
   "metadata": {},
   "outputs": [
    {
     "name": "stdout",
     "output_type": "stream",
     "text": [
      "IPython console for SymPy 1.3 (Python 3.7.1-64-bit) (ground types: gmpy)\n",
      "\n",
      "These commands were executed:\n",
      ">>> from __future__ import division\n",
      ">>> from sympy import *\n",
      ">>> x, y, z, t = symbols('x y z t')\n",
      ">>> k, m, n = symbols('k m n', integer=True)\n",
      ">>> f, g, h = symbols('f g h', cls=Function)\n",
      ">>> init_printing()\n",
      "\n",
      "Documentation can be found at http://docs.sympy.org/1.3/\n",
      "\n",
      "U\n",
      "5/s**2\n",
      "X\n",
      "5*t*Heaviside(t)\n",
      "F\n",
      "(5*s + 5)/(s + 3)**2\n",
      "G\n",
      "5/(s + 3) - 10/(s + 3)**2\n",
      "d2\n",
      "s**4 + 7*s**3 + 16*s**2 + 13*s + 3\n",
      "{-1: 1, -3: 1, -3/2 - sqrt(5)/2: 1, -3/2 + sqrt(5)/2: 1}\n"
     ]
    }
   ],
   "source": [
    "import sympy as sym\n",
    "from sympy.abc import s,t,x,y,z\n",
    "from sympy.integrals import laplace_transform\n",
    "from sympy.integrals import inverse_laplace_transform\n",
    "from sympy import init_session\n",
    "\n",
    "init_session()\n",
    "\n",
    "# Laplace transform (t->s)\n",
    "U = laplace_transform(5*t, t, s)\n",
    "print('U')\n",
    "print(U[0])\n",
    "# Result: 5/s**2\n",
    "\n",
    "# Inverse Laplace transform (s->t)\n",
    "X = inverse_laplace_transform(U[0],s,t)\n",
    "print('X')\n",
    "print(X)\n",
    "# Result: 5*t*Heaviside(t)\n",
    "\n",
    "# Function\n",
    "F = 5*(s+1)/(s+3)**2\n",
    "print('F')\n",
    "print(F)\n",
    "# Result: (5*s + 5)/(s + 3)**2\n",
    "\n",
    "# Partial fraction decomposition\n",
    "G = sym.apart(F)\n",
    "print('G')\n",
    "print(G)\n",
    "# Result: 5/(s + 3) - 10/(s + 3)**2\n",
    "\n",
    "# denominator of transfer function\n",
    "d1 = (s+1)*(s+3)*(s**2+3*s+1)\n",
    "\n",
    "# expand polynomial\n",
    "d2 = sym.expand(d1)\n",
    "print('d2')\n",
    "print(d2)\n",
    "# Result: s**4 + 7*s**3 + 16*s**2 + 13*s + 3\n",
    "\n",
    "# find roots\n",
    "print(sym.roots(d2))\n",
    "# Result: {-1: 1, -3: 1, -3/2 - sqrt(5)/2: 1, -3/2 + sqrt(5)/2: 1}"
   ]
  },
  {
   "cell_type": "code",
   "execution_count": null,
   "metadata": {},
   "outputs": [],
   "source": []
  }
 ],
 "metadata": {
  "kernelspec": {
   "display_name": "Python 3",
   "language": "python",
   "name": "python3"
  },
  "language_info": {
   "codemirror_mode": {
    "name": "ipython",
    "version": 3
   },
   "file_extension": ".py",
   "mimetype": "text/x-python",
   "name": "python",
   "nbconvert_exporter": "python",
   "pygments_lexer": "ipython3",
   "version": "3.7.1"
  }
 },
 "nbformat": 4,
 "nbformat_minor": 2
}
