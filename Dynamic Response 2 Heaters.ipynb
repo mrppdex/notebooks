{
 "cells": [
  {
   "cell_type": "code",
   "execution_count": 1,
   "metadata": {},
   "outputs": [],
   "source": [
    "import numpy as np\n",
    "from gekko import GEKKO\n",
    "import matplotlib.pyplot as plt\n",
    "%matplotlib inline"
   ]
  },
  {
   "cell_type": "markdown",
   "metadata": {},
   "source": [
    "\n",
    "<table border=\"1\" rules=\"rows\" width=\"100%\" align=\"left\" cellpadding=\"0\"><tbody><tr><td align=\"center\"><strong>Quantity</strong></td><td align=\"center\"><strong>Value</strong></td></tr>\n",
    "<tr><td align=\"center\">Initial temperature (<em>T<sub>0</sub></em>)</td><td align=\"center\">296.15 K (23<sup>o</sup>C)</td></tr>\n",
    "<tr><td align=\"center\">Ambient temperature (<span class=\"MathJax_Preview\" style=\"color: inherit; display: none;\"></span><span id=\"MathJax-Element-1-Frame\" class=\"mjx-chtml MathJax_CHTML\" tabindex=\"0\" data-mathml=\"<math xmlns=&quot;http://www.w3.org/1998/Math/MathML&quot;><mstyle displaystyle=&quot;true&quot;><msub><mi>T</mi><mo>&amp;#x221E;</mo></msub></mstyle></math>\" role=\"presentation\" style=\"font-size: 121%; position: relative;\"><span id=\"MJXc-Node-1\" class=\"mjx-math\" aria-hidden=\"true\"><span id=\"MJXc-Node-2\" class=\"mjx-mrow\"><span id=\"MJXc-Node-3\" class=\"mjx-mstyle\"><span id=\"MJXc-Node-4\" class=\"mjx-mrow\"><span id=\"MJXc-Node-5\" class=\"mjx-msub\"><span class=\"mjx-base\" style=\"margin-right: -0.12em;\"><span id=\"MJXc-Node-6\" class=\"mjx-mi\"><span class=\"mjx-char MJXc-TeX-math-I\" style=\"padding-top: 0.443em; padding-bottom: 0.255em; padding-right: 0.12em;\">T</span></span></span><span class=\"mjx-sub\" style=\"font-size: 70.7%; vertical-align: -0.212em; padding-right: 0.071em;\"><span id=\"MJXc-Node-7\" class=\"mjx-mo\" style=\"padding-left: 0.15em; padding-right: 0.15em;\"><span class=\"mjx-char MJXc-TeX-main-R\" style=\"padding-top: 0.129em; padding-bottom: 0.38em;\">∞</span></span></span></span></span></span></span></span><span class=\"MJX_Assistive_MathML\" role=\"presentation\"><math xmlns=\"http://www.w3.org/1998/Math/MathML\"><mstyle displaystyle=\"true\"><msub><mi>T</mi><mo>∞</mo></msub></mstyle></math></span></span><script type=\"math/asciimath\" id=\"MathJax-Element-1\">T_\\infty</script>)</td><td align=\"center\">296.15 K (23<sup>o</sup>C)</td></tr>\n",
    "<tr><td align=\"center\"><strong>Heater ouput (<em>Q<sub>1</sub></em>)</strong></td><td align=\"center\">0 to 1 W</td></tr>\n",
    "<tr><td align=\"center\"><strong>Heater factor (<span class=\"MathJax_Preview\" style=\"color: inherit; display: none;\"></span><span id=\"MathJax-Element-2-Frame\" class=\"mjx-chtml MathJax_CHTML\" tabindex=\"0\" data-mathml=\"<math xmlns=&quot;http://www.w3.org/1998/Math/MathML&quot;><mstyle displaystyle=&quot;true&quot;><msub><mi>&amp;#x3B1;</mi><mn>1</mn></msub></mstyle></math>\" role=\"presentation\" style=\"font-size: 121%; position: relative;\"><span id=\"MJXc-Node-8\" class=\"mjx-math\" aria-hidden=\"true\"><span id=\"MJXc-Node-9\" class=\"mjx-mrow\"><span id=\"MJXc-Node-10\" class=\"mjx-mstyle\"><span id=\"MJXc-Node-11\" class=\"mjx-mrow\"><span id=\"MJXc-Node-12\" class=\"mjx-msub\"><span class=\"mjx-base\"><span id=\"MJXc-Node-13\" class=\"mjx-mi\"><span class=\"mjx-char MJXc-TeX-math-I\" style=\"padding-top: 0.192em; padding-bottom: 0.318em;\">α</span></span></span><span class=\"mjx-sub\" style=\"font-size: 70.7%; vertical-align: -0.212em; padding-right: 0.071em;\"><span id=\"MJXc-Node-14\" class=\"mjx-mn\" style=\"\"><span class=\"mjx-char MJXc-TeX-main-R\" style=\"padding-top: 0.38em; padding-bottom: 0.318em;\">1</span></span></span></span></span></span></span></span><span class=\"MJX_Assistive_MathML\" role=\"presentation\"><math xmlns=\"http://www.w3.org/1998/Math/MathML\"><mstyle displaystyle=\"true\"><msub><mi>α</mi><mn>1</mn></msub></mstyle></math></span></span><script type=\"math/asciimath\" id=\"MathJax-Element-2\">\\alpha_1</script>)</strong></td><td align=\"center\">0.01 W/(% heater)</td></tr>\n",
    "<tr><td align=\"center\"><strong>Heater ouput (<em>Q<sub>2</sub></em>)</strong></td><td align=\"center\">0 to 0.75 W</td></tr>\n",
    "<tr><td align=\"center\"><strong>Heater factor (<span class=\"MathJax_Preview\" style=\"color: inherit; display: none;\"></span><span id=\"MathJax-Element-3-Frame\" class=\"mjx-chtml MathJax_CHTML\" tabindex=\"0\" data-mathml=\"<math xmlns=&quot;http://www.w3.org/1998/Math/MathML&quot;><mstyle displaystyle=&quot;true&quot;><msub><mi>&amp;#x3B1;</mi><mn>2</mn></msub></mstyle></math>\" role=\"presentation\" style=\"font-size: 121%; position: relative;\"><span id=\"MJXc-Node-15\" class=\"mjx-math\" aria-hidden=\"true\"><span id=\"MJXc-Node-16\" class=\"mjx-mrow\"><span id=\"MJXc-Node-17\" class=\"mjx-mstyle\"><span id=\"MJXc-Node-18\" class=\"mjx-mrow\"><span id=\"MJXc-Node-19\" class=\"mjx-msub\"><span class=\"mjx-base\"><span id=\"MJXc-Node-20\" class=\"mjx-mi\"><span class=\"mjx-char MJXc-TeX-math-I\" style=\"padding-top: 0.192em; padding-bottom: 0.318em;\">α</span></span></span><span class=\"mjx-sub\" style=\"font-size: 70.7%; vertical-align: -0.212em; padding-right: 0.071em;\"><span id=\"MJXc-Node-21\" class=\"mjx-mn\" style=\"\"><span class=\"mjx-char MJXc-TeX-main-R\" style=\"padding-top: 0.38em; padding-bottom: 0.318em;\">2</span></span></span></span></span></span></span></span><span class=\"MJX_Assistive_MathML\" role=\"presentation\"><math xmlns=\"http://www.w3.org/1998/Math/MathML\"><mstyle displaystyle=\"true\"><msub><mi>α</mi><mn>2</mn></msub></mstyle></math></span></span><script type=\"math/asciimath\" id=\"MathJax-Element-3\">\\alpha_2</script>)</strong></td><td align=\"center\">0.0075 W/(% heater)</td></tr>\n",
    "<tr><td align=\"center\">Heat capacity (<em>C<sub>p</sub></em>)</td><td align=\"center\">500 J/kg-K</td></tr>\n",
    "<tr><td align=\"center\"><strong>Surface Area Not Between Heaters (<em>A</em>)</strong></td><td align=\"center\">1.0x10<sup>-3</sup> m<sup>2</sup> (10 cm<sup>2</sup>)</td></tr>\n",
    "<tr><td align=\"center\"><strong>Surface Area Between Heaters (<em>A<sub>s</sub></em>)</strong></td><td align=\"center\">2x10<sup>-4</sup> m<sup>2</sup> (2 cm<sup>2</sup>)</td></tr>\n",
    "<tr><td align=\"center\">Mass (<em>m</em>)</td><td align=\"center\">0.004 kg (4 gm)</td></tr>\n",
    "<tr><td align=\"center\">Overall Heat Transfer Coefficient (U)</td><td align=\"center\">10 W/m<sup>2</sup>-K</td></tr>\n",
    "<tr><td align=\"right\">Emissivity (<span class=\"MathJax_Preview\" style=\"color: inherit; display: none;\"></span><span id=\"MathJax-Element-4-Frame\" class=\"mjx-chtml MathJax_CHTML\" tabindex=\"0\" data-mathml=\"<math xmlns=&quot;http://www.w3.org/1998/Math/MathML&quot;><mstyle displaystyle=&quot;true&quot;><mi>&amp;#x3B5;</mi></mstyle></math>\" role=\"presentation\" style=\"font-size: 121%; position: relative;\"><span id=\"MJXc-Node-22\" class=\"mjx-math\" aria-hidden=\"true\"><span id=\"MJXc-Node-23\" class=\"mjx-mrow\"><span id=\"MJXc-Node-24\" class=\"mjx-mstyle\"><span id=\"MJXc-Node-25\" class=\"mjx-mrow\"><span id=\"MJXc-Node-26\" class=\"mjx-mi\"><span class=\"mjx-char MJXc-TeX-math-I\" style=\"padding-top: 0.255em; padding-bottom: 0.318em;\">ε</span></span></span></span></span></span><span class=\"MJX_Assistive_MathML\" role=\"presentation\"><math xmlns=\"http://www.w3.org/1998/Math/MathML\"><mstyle displaystyle=\"true\"><mi>ε</mi></mstyle></math></span></span><script type=\"math/asciimath\" id=\"MathJax-Element-4\">\\epsilon</script>)</td><td align=\"center\">0.9</td></tr>\n",
    "<tr><td align=\"center\">Stefan Boltzmann Constant (<span class=\"MathJax_Preview\" style=\"color: inherit; display: none;\"></span><span id=\"MathJax-Element-5-Frame\" class=\"mjx-chtml MathJax_CHTML\" tabindex=\"0\" data-mathml=\"<math xmlns=&quot;http://www.w3.org/1998/Math/MathML&quot;><mstyle displaystyle=&quot;true&quot;><mi>&amp;#x3C3;</mi></mstyle></math>\" role=\"presentation\" style=\"font-size: 121%; position: relative;\"><span id=\"MJXc-Node-27\" class=\"mjx-math\" aria-hidden=\"true\"><span id=\"MJXc-Node-28\" class=\"mjx-mrow\"><span id=\"MJXc-Node-29\" class=\"mjx-mstyle\"><span id=\"MJXc-Node-30\" class=\"mjx-mrow\"><span id=\"MJXc-Node-31\" class=\"mjx-mi\"><span class=\"mjx-char MJXc-TeX-math-I\" style=\"padding-top: 0.192em; padding-bottom: 0.318em; padding-right: 0.001em;\">σ</span></span></span></span></span></span><span class=\"MJX_Assistive_MathML\" role=\"presentation\"><math xmlns=\"http://www.w3.org/1998/Math/MathML\"><mstyle displaystyle=\"true\"><mi>σ</mi></mstyle></math></span></span><script type=\"math/asciimath\" id=\"MathJax-Element-5\">\\sigma</script>)</td><td align=\"center\">5.67x10<sup>-8</sup> W/m<sup>2</sup>-K<sup>4</sup></td></tr>\n",
    "</tbody></table>"
   ]
  },
  {
   "cell_type": "code",
   "execution_count": 2,
   "metadata": {},
   "outputs": [],
   "source": [
    "model = GEKKO()\n",
    "model.time = np.linspace(0, 600, 600)"
   ]
  },
  {
   "cell_type": "code",
   "execution_count": 3,
   "metadata": {},
   "outputs": [],
   "source": [
    "T0 = model.Const(296.15) #initial temperature\n",
    "T8 = model.Const(296.15) #ambient temperature\n",
    "\n",
    "Q1 = model.Param(1.) #heater output\n",
    "alpha1_init = np.zeros_like(model.time)\n",
    "alpha1_init[20:200] = 0.85\n",
    "alpha1 = model.Param(alpha1_init)\n",
    "\n",
    "Q2 = model.Param(0.75)\n",
    "alpha2_init = np.zeros_like(model.time)\n",
    "alpha2_init[150:250]= 1.0\n",
    "alpha2 = model.Param(alpha2_init)\n",
    "\n",
    "Cp = model.Const(500)\n",
    "A = model.Const(1e-3)\n",
    "As = model.Const(2e-4)\n",
    "m = model.Const(4e-3)\n",
    "U = model.Const(10)\n",
    "epsilon = model.Const(0.9)\n",
    "sigma = model.Const(5.67e-8)"
   ]
  },
  {
   "cell_type": "markdown",
   "metadata": {},
   "source": [
    "<p class=\"vspace\"><span class=\"MathJax_Preview\" style=\"color: inherit; display: none;\"></span><span class=\"mjx-chtml MJXc-display\" style=\"text-align: center;\"><span id=\"MathJax-Element-6-Frame\" class=\"mjx-chtml MathJax_CHTML\" tabindex=\"0\" data-mathml=\"<math xmlns=&quot;http://www.w3.org/1998/Math/MathML&quot; display=&quot;block&quot;><msub><mi>Q</mi><mrow class=&quot;MJX-TeXAtom-ORD&quot;><mi>C</mi><mn>12</mn></mrow></msub><mo>=</mo><mi>U</mi><mspace width=&quot;thinmathspace&quot; /><msub><mi>A</mi><mi>s</mi></msub><mspace width=&quot;thinmathspace&quot; /><mrow><mo>(</mo><mrow><msub><mi>T</mi><mn>2</mn></msub><mo>&amp;#x2212;</mo><msub><mi>T</mi><mn>1</mn></msub></mrow><mo>)</mo></mrow></math>\" role=\"presentation\" style=\"font-size: 121%; text-align: center; position: relative;\"><span id=\"MJXc-Node-32\" class=\"mjx-math\" aria-hidden=\"true\"><span id=\"MJXc-Node-33\" class=\"mjx-mrow\"><span id=\"MJXc-Node-34\" class=\"mjx-msubsup\"><span class=\"mjx-base\"><span id=\"MJXc-Node-35\" class=\"mjx-mi\"><span class=\"mjx-char MJXc-TeX-math-I\" style=\"padding-top: 0.506em; padding-bottom: 0.443em;\">Q</span></span></span><span class=\"mjx-sub\" style=\"font-size: 70.7%; vertical-align: -0.23em; padding-right: 0.071em;\"><span id=\"MJXc-Node-36\" class=\"mjx-texatom\" style=\"\"><span id=\"MJXc-Node-37\" class=\"mjx-mrow\"><span id=\"MJXc-Node-38\" class=\"mjx-mi\"><span class=\"mjx-char MJXc-TeX-math-I\" style=\"padding-top: 0.506em; padding-bottom: 0.318em; padding-right: 0.045em;\">C</span></span><span id=\"MJXc-Node-39\" class=\"mjx-mn\"><span class=\"mjx-char MJXc-TeX-main-R\" style=\"padding-top: 0.38em; padding-bottom: 0.318em;\">12</span></span></span></span></span></span><span id=\"MJXc-Node-40\" class=\"mjx-mo MJXc-space3\"><span class=\"mjx-char MJXc-TeX-main-R\" style=\"padding-top: 0.066em; padding-bottom: 0.318em;\">=</span></span><span id=\"MJXc-Node-41\" class=\"mjx-mi MJXc-space3\"><span class=\"mjx-char MJXc-TeX-math-I\" style=\"padding-top: 0.443em; padding-bottom: 0.318em; padding-right: 0.084em;\">U</span></span><span id=\"MJXc-Node-42\" class=\"mjx-mspace\" style=\"width: 0.167em; height: 0px;\"></span><span id=\"MJXc-Node-43\" class=\"mjx-msubsup\"><span class=\"mjx-base\"><span id=\"MJXc-Node-44\" class=\"mjx-mi\"><span class=\"mjx-char MJXc-TeX-math-I\" style=\"padding-top: 0.506em; padding-bottom: 0.255em;\">A</span></span></span><span class=\"mjx-sub\" style=\"font-size: 70.7%; vertical-align: -0.212em; padding-right: 0.071em;\"><span id=\"MJXc-Node-45\" class=\"mjx-mi\" style=\"\"><span class=\"mjx-char MJXc-TeX-math-I\" style=\"padding-top: 0.192em; padding-bottom: 0.318em;\">s</span></span></span></span><span id=\"MJXc-Node-46\" class=\"mjx-mspace\" style=\"width: 0.167em; height: 0px;\"></span><span id=\"MJXc-Node-47\" class=\"mjx-mrow MJXc-space1\"><span id=\"MJXc-Node-48\" class=\"mjx-mo\"><span class=\"mjx-char MJXc-TeX-main-R\" style=\"padding-top: 0.443em; padding-bottom: 0.569em;\">(</span></span><span id=\"MJXc-Node-49\" class=\"mjx-mrow\"><span id=\"MJXc-Node-50\" class=\"mjx-msubsup\"><span class=\"mjx-base\" style=\"margin-right: -0.12em;\"><span id=\"MJXc-Node-51\" class=\"mjx-mi\"><span class=\"mjx-char MJXc-TeX-math-I\" style=\"padding-top: 0.443em; padding-bottom: 0.255em; padding-right: 0.12em;\">T</span></span></span><span class=\"mjx-sub\" style=\"font-size: 70.7%; vertical-align: -0.212em; padding-right: 0.071em;\"><span id=\"MJXc-Node-52\" class=\"mjx-mn\" style=\"\"><span class=\"mjx-char MJXc-TeX-main-R\" style=\"padding-top: 0.38em; padding-bottom: 0.318em;\">2</span></span></span></span><span id=\"MJXc-Node-53\" class=\"mjx-mo MJXc-space2\"><span class=\"mjx-char MJXc-TeX-main-R\" style=\"padding-top: 0.318em; padding-bottom: 0.443em;\">−</span></span><span id=\"MJXc-Node-54\" class=\"mjx-msubsup MJXc-space2\"><span class=\"mjx-base\" style=\"margin-right: -0.12em;\"><span id=\"MJXc-Node-55\" class=\"mjx-mi\"><span class=\"mjx-char MJXc-TeX-math-I\" style=\"padding-top: 0.443em; padding-bottom: 0.255em; padding-right: 0.12em;\">T</span></span></span><span class=\"mjx-sub\" style=\"font-size: 70.7%; vertical-align: -0.212em; padding-right: 0.071em;\"><span id=\"MJXc-Node-56\" class=\"mjx-mn\" style=\"\"><span class=\"mjx-char MJXc-TeX-main-R\" style=\"padding-top: 0.38em; padding-bottom: 0.318em;\">1</span></span></span></span></span><span id=\"MJXc-Node-57\" class=\"mjx-mo\"><span class=\"mjx-char MJXc-TeX-main-R\" style=\"padding-top: 0.443em; padding-bottom: 0.569em;\">)</span></span></span></span></span><span class=\"MJX_Assistive_MathML MJX_Assistive_MathML_Block\" role=\"presentation\"><math xmlns=\"http://www.w3.org/1998/Math/MathML\" display=\"block\"><msub><mi>Q</mi><mrow class=\"MJX-TeXAtom-ORD\"><mi>C</mi><mn>12</mn></mrow></msub><mo>=</mo><mi>U</mi><mspace width=\"thinmathspace\"></mspace><msub><mi>A</mi><mi>s</mi></msub><mspace width=\"thinmathspace\"></mspace><mrow><mo>(</mo><mrow><msub><mi>T</mi><mn>2</mn></msub><mo>−</mo><msub><mi>T</mi><mn>1</mn></msub></mrow><mo>)</mo></mrow></math></span></span></span><script type=\"math/tex; mode=display\" id=\"MathJax-Element-6\">Q_{C12} = U \\, A_s \\, \\left(T_2-T_1\\right)</script>\n",
    "<span class=\"MathJax_Preview\" style=\"color: inherit; display: none;\"></span><span class=\"mjx-chtml MJXc-display\" style=\"text-align: center;\"><span id=\"MathJax-Element-7-Frame\" class=\"mjx-chtml MathJax_CHTML\" tabindex=\"0\" data-mathml=\"<math xmlns=&quot;http://www.w3.org/1998/Math/MathML&quot; display=&quot;block&quot;><msub><mi>Q</mi><mrow class=&quot;MJX-TeXAtom-ORD&quot;><mi>R</mi><mn>12</mn></mrow></msub><mo>=</mo><mi>&amp;#x03F5;</mi><mspace width=&quot;thinmathspace&quot; /><mi>&amp;#x03C3;</mi><mspace width=&quot;thinmathspace&quot; /><mi>A</mi><mspace width=&quot;thinmathspace&quot; /><mrow><mo>(</mo><mrow><msubsup><mi>T</mi><mn>2</mn><mn>4</mn></msubsup><mo>&amp;#x2212;</mo><msubsup><mi>T</mi><mn>1</mn><mn>4</mn></msubsup></mrow><mo>)</mo></mrow></math>\" role=\"presentation\" style=\"font-size: 121%; text-align: center; position: relative;\"><span id=\"MJXc-Node-58\" class=\"mjx-math\" aria-hidden=\"true\"><span id=\"MJXc-Node-59\" class=\"mjx-mrow\"><span id=\"MJXc-Node-60\" class=\"mjx-msubsup\"><span class=\"mjx-base\"><span id=\"MJXc-Node-61\" class=\"mjx-mi\"><span class=\"mjx-char MJXc-TeX-math-I\" style=\"padding-top: 0.506em; padding-bottom: 0.443em;\">Q</span></span></span><span class=\"mjx-sub\" style=\"font-size: 70.7%; vertical-align: -0.212em; padding-right: 0.071em;\"><span id=\"MJXc-Node-62\" class=\"mjx-texatom\" style=\"\"><span id=\"MJXc-Node-63\" class=\"mjx-mrow\"><span id=\"MJXc-Node-64\" class=\"mjx-mi\"><span class=\"mjx-char MJXc-TeX-math-I\" style=\"padding-top: 0.443em; padding-bottom: 0.318em;\">R</span></span><span id=\"MJXc-Node-65\" class=\"mjx-mn\"><span class=\"mjx-char MJXc-TeX-main-R\" style=\"padding-top: 0.38em; padding-bottom: 0.318em;\">12</span></span></span></span></span></span><span id=\"MJXc-Node-66\" class=\"mjx-mo MJXc-space3\"><span class=\"mjx-char MJXc-TeX-main-R\" style=\"padding-top: 0.066em; padding-bottom: 0.318em;\">=</span></span><span id=\"MJXc-Node-67\" class=\"mjx-mi MJXc-space3\"><span class=\"mjx-char MJXc-TeX-math-I\" style=\"padding-top: 0.192em; padding-bottom: 0.318em;\">ϵ</span></span><span id=\"MJXc-Node-68\" class=\"mjx-mspace\" style=\"width: 0.167em; height: 0px;\"></span><span id=\"MJXc-Node-69\" class=\"mjx-mi\"><span class=\"mjx-char MJXc-TeX-math-I\" style=\"padding-top: 0.192em; padding-bottom: 0.318em; padding-right: 0.001em;\">σ</span></span><span id=\"MJXc-Node-70\" class=\"mjx-mspace\" style=\"width: 0.167em; height: 0px;\"></span><span id=\"MJXc-Node-71\" class=\"mjx-mi\"><span class=\"mjx-char MJXc-TeX-math-I\" style=\"padding-top: 0.506em; padding-bottom: 0.255em;\">A</span></span><span id=\"MJXc-Node-72\" class=\"mjx-mspace\" style=\"width: 0.167em; height: 0px;\"></span><span id=\"MJXc-Node-73\" class=\"mjx-mrow MJXc-space1\"><span id=\"MJXc-Node-74\" class=\"mjx-mo\"><span class=\"mjx-char MJXc-TeX-size1-R\" style=\"padding-top: 0.632em; padding-bottom: 0.632em;\">(</span></span><span id=\"MJXc-Node-75\" class=\"mjx-mrow\"><span id=\"MJXc-Node-76\" class=\"mjx-msubsup\"><span class=\"mjx-base\" style=\"margin-right: -0.12em;\"><span id=\"MJXc-Node-77\" class=\"mjx-mi\"><span class=\"mjx-char MJXc-TeX-math-I\" style=\"padding-top: 0.443em; padding-bottom: 0.255em; padding-right: 0.12em;\">T</span></span></span><span class=\"mjx-stack\" style=\"vertical-align: -0.315em;\"><span class=\"mjx-sup\" style=\"font-size: 70.7%; padding-bottom: 0.255em; padding-left: 0.291em; padding-right: 0.071em;\"><span id=\"MJXc-Node-79\" class=\"mjx-mn\" style=\"\"><span class=\"mjx-char MJXc-TeX-main-R\" style=\"padding-top: 0.38em; padding-bottom: 0.318em;\">4</span></span></span><span class=\"mjx-sub\" style=\"font-size: 70.7%; padding-right: 0.071em;\"><span id=\"MJXc-Node-78\" class=\"mjx-mn\" style=\"\"><span class=\"mjx-char MJXc-TeX-main-R\" style=\"padding-top: 0.38em; padding-bottom: 0.318em;\">2</span></span></span></span></span><span id=\"MJXc-Node-80\" class=\"mjx-mo MJXc-space2\"><span class=\"mjx-char MJXc-TeX-main-R\" style=\"padding-top: 0.318em; padding-bottom: 0.443em;\">−</span></span><span id=\"MJXc-Node-81\" class=\"mjx-msubsup MJXc-space2\"><span class=\"mjx-base\" style=\"margin-right: -0.12em;\"><span id=\"MJXc-Node-82\" class=\"mjx-mi\"><span class=\"mjx-char MJXc-TeX-math-I\" style=\"padding-top: 0.443em; padding-bottom: 0.255em; padding-right: 0.12em;\">T</span></span></span><span class=\"mjx-stack\" style=\"vertical-align: -0.315em;\"><span class=\"mjx-sup\" style=\"font-size: 70.7%; padding-bottom: 0.255em; padding-left: 0.291em; padding-right: 0.071em;\"><span id=\"MJXc-Node-84\" class=\"mjx-mn\" style=\"\"><span class=\"mjx-char MJXc-TeX-main-R\" style=\"padding-top: 0.38em; padding-bottom: 0.318em;\">4</span></span></span><span class=\"mjx-sub\" style=\"font-size: 70.7%; padding-right: 0.071em;\"><span id=\"MJXc-Node-83\" class=\"mjx-mn\" style=\"\"><span class=\"mjx-char MJXc-TeX-main-R\" style=\"padding-top: 0.38em; padding-bottom: 0.318em;\">1</span></span></span></span></span></span><span id=\"MJXc-Node-85\" class=\"mjx-mo\"><span class=\"mjx-char MJXc-TeX-size1-R\" style=\"padding-top: 0.632em; padding-bottom: 0.632em;\">)</span></span></span></span></span><span class=\"MJX_Assistive_MathML MJX_Assistive_MathML_Block\" role=\"presentation\"><math xmlns=\"http://www.w3.org/1998/Math/MathML\" display=\"block\"><msub><mi>Q</mi><mrow class=\"MJX-TeXAtom-ORD\"><mi>R</mi><mn>12</mn></mrow></msub><mo>=</mo><mi>ϵ</mi><mspace width=\"thinmathspace\"></mspace><mi>σ</mi><mspace width=\"thinmathspace\"></mspace><mi>A</mi><mspace width=\"thinmathspace\"></mspace><mrow><mo>(</mo><mrow><msubsup><mi>T</mi><mn>2</mn><mn>4</mn></msubsup><mo>−</mo><msubsup><mi>T</mi><mn>1</mn><mn>4</mn></msubsup></mrow><mo>)</mo></mrow></math></span></span></span><script type=\"math/tex; mode=display\" id=\"MathJax-Element-7\">Q_{R12} = \\epsilon\\,\\sigma\\,A\\,\\left(T_2^4-T_1^4\\right)</script>\n",
    "</p>"
   ]
  },
  {
   "cell_type": "markdown",
   "metadata": {},
   "source": [
    "<span id=\"MathJax-Element-8-Frame\" class=\"mjx-chtml MathJax_CHTML\" tabindex=\"0\" data-mathml=\"<math xmlns=&quot;http://www.w3.org/1998/Math/MathML&quot; display=&quot;block&quot;><mi>m</mi><mspace width=&quot;thinmathspace&quot; /><msub><mi>c</mi><mi>p</mi></msub><mfrac><mrow><mi>d</mi><msub><mi>T</mi><mn>1</mn></msub></mrow><mrow><mi>d</mi><mi>t</mi></mrow></mfrac><mo>=</mo><mi>U</mi><mspace width=&quot;thinmathspace&quot; /><mi>A</mi><mspace width=&quot;thinmathspace&quot; /><mrow><mo>(</mo><mrow><msub><mi>T</mi><mi mathvariant=&quot;normal&quot;>&amp;#x221E;</mi></msub><mo>&amp;#x2212;</mo><msub><mi>T</mi><mn>1</mn></msub></mrow><mo>)</mo></mrow><mo>+</mo><mi>&amp;#x03F5;</mi><mspace width=&quot;thinmathspace&quot; /><mi>&amp;#x03C3;</mi><mspace width=&quot;thinmathspace&quot; /><mi>A</mi><mspace width=&quot;thinmathspace&quot; /><mrow><mo>(</mo><mrow><msubsup><mi>T</mi><mi mathvariant=&quot;normal&quot;>&amp;#x221E;</mi><mn>4</mn></msubsup><mo>&amp;#x2212;</mo><msubsup><mi>T</mi><mn>1</mn><mn>4</mn></msubsup></mrow><mo>)</mo></mrow><mo>+</mo><msub><mi>Q</mi><mrow class=&quot;MJX-TeXAtom-ORD&quot;><mi>C</mi><mn>12</mn></mrow></msub><mo>+</mo><msub><mi>Q</mi><mrow class=&quot;MJX-TeXAtom-ORD&quot;><mi>R</mi><mn>12</mn></mrow></msub><mo>+</mo><msub><mi>&amp;#x03B1;</mi><mn>1</mn></msub><msub><mi>Q</mi><mn>1</mn></msub></math>\" role=\"presentation\" style=\"font-size: 121%; text-align: center; position: relative;\"><span id=\"MJXc-Node-86\" class=\"mjx-math\" aria-hidden=\"true\"><span id=\"MJXc-Node-87\" class=\"mjx-mrow\"><span id=\"MJXc-Node-88\" class=\"mjx-mi\"><span class=\"mjx-char MJXc-TeX-math-I\" style=\"padding-top: 0.192em; padding-bottom: 0.318em;\">m</span></span><span id=\"MJXc-Node-89\" class=\"mjx-mspace\" style=\"width: 0.167em; height: 0px;\"></span><span id=\"MJXc-Node-90\" class=\"mjx-msubsup\"><span class=\"mjx-base\"><span id=\"MJXc-Node-91\" class=\"mjx-mi\"><span class=\"mjx-char MJXc-TeX-math-I\" style=\"padding-top: 0.192em; padding-bottom: 0.318em;\">c</span></span></span><span class=\"mjx-sub\" style=\"font-size: 70.7%; vertical-align: -0.212em; padding-right: 0.071em;\"><span id=\"MJXc-Node-92\" class=\"mjx-mi\" style=\"\"><span class=\"mjx-char MJXc-TeX-math-I\" style=\"padding-top: 0.192em; padding-bottom: 0.443em;\">p</span></span></span></span><span id=\"MJXc-Node-93\" class=\"mjx-mfrac\"><span class=\"mjx-box MJXc-stacked\" style=\"width: 1.696em; padding: 0px 0.12em;\"><span class=\"mjx-numerator\" style=\"width: 1.696em; top: -1.396em;\"><span id=\"MJXc-Node-94\" class=\"mjx-mrow\"><span id=\"MJXc-Node-95\" class=\"mjx-mi\"><span class=\"mjx-char MJXc-TeX-math-I\" style=\"padding-top: 0.443em; padding-bottom: 0.318em; padding-right: 0.003em;\">d</span></span><span id=\"MJXc-Node-96\" class=\"mjx-msubsup\"><span class=\"mjx-base\" style=\"margin-right: -0.12em;\"><span id=\"MJXc-Node-97\" class=\"mjx-mi\"><span class=\"mjx-char MJXc-TeX-math-I\" style=\"padding-top: 0.443em; padding-bottom: 0.255em; padding-right: 0.12em;\">T</span></span></span><span class=\"mjx-sub\" style=\"font-size: 70.7%; vertical-align: -0.212em; padding-right: 0.071em;\"><span id=\"MJXc-Node-98\" class=\"mjx-mn\" style=\"\"><span class=\"mjx-char MJXc-TeX-main-R\" style=\"padding-top: 0.38em; padding-bottom: 0.318em;\">1</span></span></span></span></span></span><span class=\"mjx-denominator\" style=\"width: 1.696em; bottom: -0.762em;\"><span id=\"MJXc-Node-99\" class=\"mjx-mrow\"><span id=\"MJXc-Node-100\" class=\"mjx-mi\"><span class=\"mjx-char MJXc-TeX-math-I\" style=\"padding-top: 0.443em; padding-bottom: 0.318em; padding-right: 0.003em;\">d</span></span><span id=\"MJXc-Node-101\" class=\"mjx-mi\"><span class=\"mjx-char MJXc-TeX-math-I\" style=\"padding-top: 0.38em; padding-bottom: 0.318em;\">t</span></span></span></span><span class=\"mjx-line\" style=\"border-bottom-width: 1.3px; border-bottom-style: solid; top: -0.289em; width: 1.696em;\"></span></span><span class=\"mjx-vsize\" style=\"height: 2.157em; vertical-align: -0.762em;\"></span></span><span id=\"MJXc-Node-102\" class=\"mjx-mo MJXc-space3\"><span class=\"mjx-char MJXc-TeX-main-R\" style=\"padding-top: 0.066em; padding-bottom: 0.318em;\">=</span></span><span id=\"MJXc-Node-103\" class=\"mjx-mi MJXc-space3\"><span class=\"mjx-char MJXc-TeX-math-I\" style=\"padding-top: 0.443em; padding-bottom: 0.318em; padding-right: 0.084em;\">U</span></span><span id=\"MJXc-Node-104\" class=\"mjx-mspace\" style=\"width: 0.167em; height: 0px;\"></span><span id=\"MJXc-Node-105\" class=\"mjx-mi\"><span class=\"mjx-char MJXc-TeX-math-I\" style=\"padding-top: 0.506em; padding-bottom: 0.255em;\">A</span></span><span id=\"MJXc-Node-106\" class=\"mjx-mspace\" style=\"width: 0.167em; height: 0px;\"></span><span id=\"MJXc-Node-107\" class=\"mjx-mrow MJXc-space1\"><span id=\"MJXc-Node-108\" class=\"mjx-mo\"><span class=\"mjx-char MJXc-TeX-main-R\" style=\"padding-top: 0.443em; padding-bottom: 0.569em;\">(</span></span><span id=\"MJXc-Node-109\" class=\"mjx-mrow\"><span id=\"MJXc-Node-110\" class=\"mjx-msubsup\"><span class=\"mjx-base\" style=\"margin-right: -0.12em;\"><span id=\"MJXc-Node-111\" class=\"mjx-mi\"><span class=\"mjx-char MJXc-TeX-math-I\" style=\"padding-top: 0.443em; padding-bottom: 0.255em; padding-right: 0.12em;\">T</span></span></span><span class=\"mjx-sub\" style=\"font-size: 70.7%; vertical-align: -0.212em; padding-right: 0.071em;\"><span id=\"MJXc-Node-112\" class=\"mjx-mi\" style=\"\"><span class=\"mjx-char MJXc-TeX-main-R\" style=\"padding-top: 0.129em; padding-bottom: 0.38em;\">∞</span></span></span></span><span id=\"MJXc-Node-113\" class=\"mjx-mo MJXc-space2\"><span class=\"mjx-char MJXc-TeX-main-R\" style=\"padding-top: 0.318em; padding-bottom: 0.443em;\">−</span></span><span id=\"MJXc-Node-114\" class=\"mjx-msubsup MJXc-space2\"><span class=\"mjx-base\" style=\"margin-right: -0.12em;\"><span id=\"MJXc-Node-115\" class=\"mjx-mi\"><span class=\"mjx-char MJXc-TeX-math-I\" style=\"padding-top: 0.443em; padding-bottom: 0.255em; padding-right: 0.12em;\">T</span></span></span><span class=\"mjx-sub\" style=\"font-size: 70.7%; vertical-align: -0.212em; padding-right: 0.071em;\"><span id=\"MJXc-Node-116\" class=\"mjx-mn\" style=\"\"><span class=\"mjx-char MJXc-TeX-main-R\" style=\"padding-top: 0.38em; padding-bottom: 0.318em;\">1</span></span></span></span></span><span id=\"MJXc-Node-117\" class=\"mjx-mo\"><span class=\"mjx-char MJXc-TeX-main-R\" style=\"padding-top: 0.443em; padding-bottom: 0.569em;\">)</span></span></span><span id=\"MJXc-Node-118\" class=\"mjx-mo MJXc-space2\"><span class=\"mjx-char MJXc-TeX-main-R\" style=\"padding-top: 0.318em; padding-bottom: 0.443em;\">+</span></span><span id=\"MJXc-Node-119\" class=\"mjx-mi MJXc-space2\"><span class=\"mjx-char MJXc-TeX-math-I\" style=\"padding-top: 0.192em; padding-bottom: 0.318em;\">ϵ</span></span><span id=\"MJXc-Node-120\" class=\"mjx-mspace\" style=\"width: 0.167em; height: 0px;\"></span><span id=\"MJXc-Node-121\" class=\"mjx-mi\"><span class=\"mjx-char MJXc-TeX-math-I\" style=\"padding-top: 0.192em; padding-bottom: 0.318em; padding-right: 0.001em;\">σ</span></span><span id=\"MJXc-Node-122\" class=\"mjx-mspace\" style=\"width: 0.167em; height: 0px;\"></span><span id=\"MJXc-Node-123\" class=\"mjx-mi\"><span class=\"mjx-char MJXc-TeX-math-I\" style=\"padding-top: 0.506em; padding-bottom: 0.255em;\">A</span></span><span id=\"MJXc-Node-124\" class=\"mjx-mspace\" style=\"width: 0.167em; height: 0px;\"></span><span id=\"MJXc-Node-125\" class=\"mjx-mrow MJXc-space1\"><span id=\"MJXc-Node-126\" class=\"mjx-mo\"><span class=\"mjx-char MJXc-TeX-size1-R\" style=\"padding-top: 0.632em; padding-bottom: 0.632em;\">(</span></span><span id=\"MJXc-Node-127\" class=\"mjx-mrow\"><span id=\"MJXc-Node-128\" class=\"mjx-msubsup\"><span class=\"mjx-base\" style=\"margin-right: -0.12em;\"><span id=\"MJXc-Node-129\" class=\"mjx-mi\"><span class=\"mjx-char MJXc-TeX-math-I\" style=\"padding-top: 0.443em; padding-bottom: 0.255em; padding-right: 0.12em;\">T</span></span></span><span class=\"mjx-stack\" style=\"vertical-align: -0.157em;\"><span class=\"mjx-sup\" style=\"font-size: 70.7%; padding-bottom: 0.255em; padding-left: 0.291em; padding-right: 0.071em;\"><span id=\"MJXc-Node-131\" class=\"mjx-mn\" style=\"\"><span class=\"mjx-char MJXc-TeX-main-R\" style=\"padding-top: 0.38em; padding-bottom: 0.318em;\">4</span></span></span><span class=\"mjx-sub\" style=\"font-size: 70.7%; padding-right: 0.071em;\"><span id=\"MJXc-Node-130\" class=\"mjx-mi\" style=\"\"><span class=\"mjx-char MJXc-TeX-main-R\" style=\"padding-top: 0.129em; padding-bottom: 0.38em;\">∞</span></span></span></span></span><span id=\"MJXc-Node-132\" class=\"mjx-mo MJXc-space2\"><span class=\"mjx-char MJXc-TeX-main-R\" style=\"padding-top: 0.318em; padding-bottom: 0.443em;\">−</span></span><span id=\"MJXc-Node-133\" class=\"mjx-msubsup MJXc-space2\"><span class=\"mjx-base\" style=\"margin-right: -0.12em;\"><span id=\"MJXc-Node-134\" class=\"mjx-mi\"><span class=\"mjx-char MJXc-TeX-math-I\" style=\"padding-top: 0.443em; padding-bottom: 0.255em; padding-right: 0.12em;\">T</span></span></span><span class=\"mjx-stack\" style=\"vertical-align: -0.315em;\"><span class=\"mjx-sup\" style=\"font-size: 70.7%; padding-bottom: 0.255em; padding-left: 0.291em; padding-right: 0.071em;\"><span id=\"MJXc-Node-136\" class=\"mjx-mn\" style=\"\"><span class=\"mjx-char MJXc-TeX-main-R\" style=\"padding-top: 0.38em; padding-bottom: 0.318em;\">4</span></span></span><span class=\"mjx-sub\" style=\"font-size: 70.7%; padding-right: 0.071em;\"><span id=\"MJXc-Node-135\" class=\"mjx-mn\" style=\"\"><span class=\"mjx-char MJXc-TeX-main-R\" style=\"padding-top: 0.38em; padding-bottom: 0.318em;\">1</span></span></span></span></span></span><span id=\"MJXc-Node-137\" class=\"mjx-mo\"><span class=\"mjx-char MJXc-TeX-size1-R\" style=\"padding-top: 0.632em; padding-bottom: 0.632em;\">)</span></span></span><span id=\"MJXc-Node-138\" class=\"mjx-mo MJXc-space2\"><span class=\"mjx-char MJXc-TeX-main-R\" style=\"padding-top: 0.318em; padding-bottom: 0.443em;\">+</span></span><span id=\"MJXc-Node-139\" class=\"mjx-msubsup MJXc-space2\"><span class=\"mjx-base\"><span id=\"MJXc-Node-140\" class=\"mjx-mi\"><span class=\"mjx-char MJXc-TeX-math-I\" style=\"padding-top: 0.506em; padding-bottom: 0.443em;\">Q</span></span></span><span class=\"mjx-sub\" style=\"font-size: 70.7%; vertical-align: -0.23em; padding-right: 0.071em;\"><span id=\"MJXc-Node-141\" class=\"mjx-texatom\" style=\"\"><span id=\"MJXc-Node-142\" class=\"mjx-mrow\"><span id=\"MJXc-Node-143\" class=\"mjx-mi\"><span class=\"mjx-char MJXc-TeX-math-I\" style=\"padding-top: 0.506em; padding-bottom: 0.318em; padding-right: 0.045em;\">C</span></span><span id=\"MJXc-Node-144\" class=\"mjx-mn\"><span class=\"mjx-char MJXc-TeX-main-R\" style=\"padding-top: 0.38em; padding-bottom: 0.318em;\">12</span></span></span></span></span></span><span id=\"MJXc-Node-145\" class=\"mjx-mo MJXc-space2\"><span class=\"mjx-char MJXc-TeX-main-R\" style=\"padding-top: 0.318em; padding-bottom: 0.443em;\">+</span></span><span id=\"MJXc-Node-146\" class=\"mjx-msubsup MJXc-space2\"><span class=\"mjx-base\"><span id=\"MJXc-Node-147\" class=\"mjx-mi\"><span class=\"mjx-char MJXc-TeX-math-I\" style=\"padding-top: 0.506em; padding-bottom: 0.443em;\">Q</span></span></span><span class=\"mjx-sub\" style=\"font-size: 70.7%; vertical-align: -0.212em; padding-right: 0.071em;\"><span id=\"MJXc-Node-148\" class=\"mjx-texatom\" style=\"\"><span id=\"MJXc-Node-149\" class=\"mjx-mrow\"><span id=\"MJXc-Node-150\" class=\"mjx-mi\"><span class=\"mjx-char MJXc-TeX-math-I\" style=\"padding-top: 0.443em; padding-bottom: 0.318em;\">R</span></span><span id=\"MJXc-Node-151\" class=\"mjx-mn\"><span class=\"mjx-char MJXc-TeX-main-R\" style=\"padding-top: 0.38em; padding-bottom: 0.318em;\">12</span></span></span></span></span></span><span id=\"MJXc-Node-152\" class=\"mjx-mo MJXc-space2\"><span class=\"mjx-char MJXc-TeX-main-R\" style=\"padding-top: 0.318em; padding-bottom: 0.443em;\">+</span></span><span id=\"MJXc-Node-153\" class=\"mjx-msubsup MJXc-space2\"><span class=\"mjx-base\"><span id=\"MJXc-Node-154\" class=\"mjx-mi\"><span class=\"mjx-char MJXc-TeX-math-I\" style=\"padding-top: 0.192em; padding-bottom: 0.318em;\">α</span></span></span><span class=\"mjx-sub\" style=\"font-size: 70.7%; vertical-align: -0.212em; padding-right: 0.071em;\"><span id=\"MJXc-Node-155\" class=\"mjx-mn\" style=\"\"><span class=\"mjx-char MJXc-TeX-main-R\" style=\"padding-top: 0.38em; padding-bottom: 0.318em;\">1</span></span></span></span><span id=\"MJXc-Node-156\" class=\"mjx-msubsup\"><span class=\"mjx-base\"><span id=\"MJXc-Node-157\" class=\"mjx-mi\"><span class=\"mjx-char MJXc-TeX-math-I\" style=\"padding-top: 0.506em; padding-bottom: 0.443em;\">Q</span></span></span><span class=\"mjx-sub\" style=\"font-size: 70.7%; vertical-align: -0.212em; padding-right: 0.071em;\"><span id=\"MJXc-Node-158\" class=\"mjx-mn\" style=\"\"><span class=\"mjx-char MJXc-TeX-main-R\" style=\"padding-top: 0.38em; padding-bottom: 0.318em;\">1</span></span></span></span></span></span><span class=\"MJX_Assistive_MathML MJX_Assistive_MathML_Block\" role=\"presentation\"><math xmlns=\"http://www.w3.org/1998/Math/MathML\" display=\"block\"><mi>m</mi><mspace width=\"thinmathspace\"></mspace><msub><mi>c</mi><mi>p</mi></msub><mfrac><mrow><mi>d</mi><msub><mi>T</mi><mn>1</mn></msub></mrow><mrow><mi>d</mi><mi>t</mi></mrow></mfrac><mo>=</mo><mi>U</mi><mspace width=\"thinmathspace\"></mspace><mi>A</mi><mspace width=\"thinmathspace\"></mspace><mrow><mo>(</mo><mrow><msub><mi>T</mi><mi mathvariant=\"normal\">∞</mi></msub><mo>−</mo><msub><mi>T</mi><mn>1</mn></msub></mrow><mo>)</mo></mrow><mo>+</mo><mi>ϵ</mi><mspace width=\"thinmathspace\"></mspace><mi>σ</mi><mspace width=\"thinmathspace\"></mspace><mi>A</mi><mspace width=\"thinmathspace\"></mspace><mrow><mo>(</mo><mrow><msubsup><mi>T</mi><mi mathvariant=\"normal\">∞</mi><mn>4</mn></msubsup><mo>−</mo><msubsup><mi>T</mi><mn>1</mn><mn>4</mn></msubsup></mrow><mo>)</mo></mrow><mo>+</mo><msub><mi>Q</mi><mrow class=\"MJX-TeXAtom-ORD\"><mi>C</mi><mn>12</mn></mrow></msub><mo>+</mo><msub><mi>Q</mi><mrow class=\"MJX-TeXAtom-ORD\"><mi>R</mi><mn>12</mn></mrow></msub><mo>+</mo><msub><mi>α</mi><mn>1</mn></msub><msub><mi>Q</mi><mn>1</mn></msub></math></span></span>"
   ]
  },
  {
   "cell_type": "markdown",
   "metadata": {},
   "source": [
    "<span class=\"mjx-chtml MJXc-display\" style=\"text-align: center;\"><span id=\"MathJax-Element-9-Frame\" class=\"mjx-chtml MathJax_CHTML\" tabindex=\"0\" data-mathml=\"<math xmlns=&quot;http://www.w3.org/1998/Math/MathML&quot; display=&quot;block&quot;><mi>m</mi><mspace width=&quot;thinmathspace&quot; /><msub><mi>c</mi><mi>p</mi></msub><mfrac><mrow><mi>d</mi><msub><mi>T</mi><mn>2</mn></msub></mrow><mrow><mi>d</mi><mi>t</mi></mrow></mfrac><mo>=</mo><mi>U</mi><mspace width=&quot;thinmathspace&quot; /><mi>A</mi><mspace width=&quot;thinmathspace&quot; /><mrow><mo>(</mo><mrow><msub><mi>T</mi><mi mathvariant=&quot;normal&quot;>&amp;#x221E;</mi></msub><mo>&amp;#x2212;</mo><msub><mi>T</mi><mn>2</mn></msub></mrow><mo>)</mo></mrow><mo>+</mo><mi>&amp;#x03F5;</mi><mspace width=&quot;thinmathspace&quot; /><mi>&amp;#x03C3;</mi><mspace width=&quot;thinmathspace&quot; /><mi>A</mi><mspace width=&quot;thinmathspace&quot; /><mrow><mo>(</mo><mrow><msubsup><mi>T</mi><mi mathvariant=&quot;normal&quot;>&amp;#x221E;</mi><mn>4</mn></msubsup><mo>&amp;#x2212;</mo><msubsup><mi>T</mi><mn>2</mn><mn>4</mn></msubsup></mrow><mo>)</mo></mrow><mo>&amp;#x2212;</mo><msub><mi>Q</mi><mrow class=&quot;MJX-TeXAtom-ORD&quot;><mi>C</mi><mn>12</mn></mrow></msub><mo>&amp;#x2212;</mo><msub><mi>Q</mi><mrow class=&quot;MJX-TeXAtom-ORD&quot;><mi>R</mi><mn>12</mn></mrow></msub><mo>+</mo><msub><mi>&amp;#x03B1;</mi><mn>2</mn></msub><msub><mi>Q</mi><mn>2</mn></msub></math>\" role=\"presentation\" style=\"font-size: 121%; text-align: center; position: relative;\"><span id=\"MJXc-Node-159\" class=\"mjx-math\" aria-hidden=\"true\"><span id=\"MJXc-Node-160\" class=\"mjx-mrow\"><span id=\"MJXc-Node-161\" class=\"mjx-mi\"><span class=\"mjx-char MJXc-TeX-math-I\" style=\"padding-top: 0.192em; padding-bottom: 0.318em;\">m</span></span><span id=\"MJXc-Node-162\" class=\"mjx-mspace\" style=\"width: 0.167em; height: 0px;\"></span><span id=\"MJXc-Node-163\" class=\"mjx-msubsup\"><span class=\"mjx-base\"><span id=\"MJXc-Node-164\" class=\"mjx-mi\"><span class=\"mjx-char MJXc-TeX-math-I\" style=\"padding-top: 0.192em; padding-bottom: 0.318em;\">c</span></span></span><span class=\"mjx-sub\" style=\"font-size: 70.7%; vertical-align: -0.212em; padding-right: 0.071em;\"><span id=\"MJXc-Node-165\" class=\"mjx-mi\" style=\"\"><span class=\"mjx-char MJXc-TeX-math-I\" style=\"padding-top: 0.192em; padding-bottom: 0.443em;\">p</span></span></span></span><span id=\"MJXc-Node-166\" class=\"mjx-mfrac\"><span class=\"mjx-box MJXc-stacked\" style=\"width: 1.696em; padding: 0px 0.12em;\"><span class=\"mjx-numerator\" style=\"width: 1.696em; top: -1.396em;\"><span id=\"MJXc-Node-167\" class=\"mjx-mrow\"><span id=\"MJXc-Node-168\" class=\"mjx-mi\"><span class=\"mjx-char MJXc-TeX-math-I\" style=\"padding-top: 0.443em; padding-bottom: 0.318em; padding-right: 0.003em;\">d</span></span><span id=\"MJXc-Node-169\" class=\"mjx-msubsup\"><span class=\"mjx-base\" style=\"margin-right: -0.12em;\"><span id=\"MJXc-Node-170\" class=\"mjx-mi\"><span class=\"mjx-char MJXc-TeX-math-I\" style=\"padding-top: 0.443em; padding-bottom: 0.255em; padding-right: 0.12em;\">T</span></span></span><span class=\"mjx-sub\" style=\"font-size: 70.7%; vertical-align: -0.212em; padding-right: 0.071em;\"><span id=\"MJXc-Node-171\" class=\"mjx-mn\" style=\"\"><span class=\"mjx-char MJXc-TeX-main-R\" style=\"padding-top: 0.38em; padding-bottom: 0.318em;\">2</span></span></span></span></span></span><span class=\"mjx-denominator\" style=\"width: 1.696em; bottom: -0.762em;\"><span id=\"MJXc-Node-172\" class=\"mjx-mrow\"><span id=\"MJXc-Node-173\" class=\"mjx-mi\"><span class=\"mjx-char MJXc-TeX-math-I\" style=\"padding-top: 0.443em; padding-bottom: 0.318em; padding-right: 0.003em;\">d</span></span><span id=\"MJXc-Node-174\" class=\"mjx-mi\"><span class=\"mjx-char MJXc-TeX-math-I\" style=\"padding-top: 0.38em; padding-bottom: 0.318em;\">t</span></span></span></span><span class=\"mjx-line\" style=\"border-bottom-width: 1.3px; border-bottom-style: solid; top: -0.289em; width: 1.696em;\"></span></span><span class=\"mjx-vsize\" style=\"height: 2.157em; vertical-align: -0.762em;\"></span></span><span id=\"MJXc-Node-175\" class=\"mjx-mo MJXc-space3\"><span class=\"mjx-char MJXc-TeX-main-R\" style=\"padding-top: 0.066em; padding-bottom: 0.318em;\">=</span></span><span id=\"MJXc-Node-176\" class=\"mjx-mi MJXc-space3\"><span class=\"mjx-char MJXc-TeX-math-I\" style=\"padding-top: 0.443em; padding-bottom: 0.318em; padding-right: 0.084em;\">U</span></span><span id=\"MJXc-Node-177\" class=\"mjx-mspace\" style=\"width: 0.167em; height: 0px;\"></span><span id=\"MJXc-Node-178\" class=\"mjx-mi\"><span class=\"mjx-char MJXc-TeX-math-I\" style=\"padding-top: 0.506em; padding-bottom: 0.255em;\">A</span></span><span id=\"MJXc-Node-179\" class=\"mjx-mspace\" style=\"width: 0.167em; height: 0px;\"></span><span id=\"MJXc-Node-180\" class=\"mjx-mrow MJXc-space1\"><span id=\"MJXc-Node-181\" class=\"mjx-mo\"><span class=\"mjx-char MJXc-TeX-main-R\" style=\"padding-top: 0.443em; padding-bottom: 0.569em;\">(</span></span><span id=\"MJXc-Node-182\" class=\"mjx-mrow\"><span id=\"MJXc-Node-183\" class=\"mjx-msubsup\"><span class=\"mjx-base\" style=\"margin-right: -0.12em;\"><span id=\"MJXc-Node-184\" class=\"mjx-mi\"><span class=\"mjx-char MJXc-TeX-math-I\" style=\"padding-top: 0.443em; padding-bottom: 0.255em; padding-right: 0.12em;\">T</span></span></span><span class=\"mjx-sub\" style=\"font-size: 70.7%; vertical-align: -0.212em; padding-right: 0.071em;\"><span id=\"MJXc-Node-185\" class=\"mjx-mi\" style=\"\"><span class=\"mjx-char MJXc-TeX-main-R\" style=\"padding-top: 0.129em; padding-bottom: 0.38em;\">∞</span></span></span></span><span id=\"MJXc-Node-186\" class=\"mjx-mo MJXc-space2\"><span class=\"mjx-char MJXc-TeX-main-R\" style=\"padding-top: 0.318em; padding-bottom: 0.443em;\">−</span></span><span id=\"MJXc-Node-187\" class=\"mjx-msubsup MJXc-space2\"><span class=\"mjx-base\" style=\"margin-right: -0.12em;\"><span id=\"MJXc-Node-188\" class=\"mjx-mi\"><span class=\"mjx-char MJXc-TeX-math-I\" style=\"padding-top: 0.443em; padding-bottom: 0.255em; padding-right: 0.12em;\">T</span></span></span><span class=\"mjx-sub\" style=\"font-size: 70.7%; vertical-align: -0.212em; padding-right: 0.071em;\"><span id=\"MJXc-Node-189\" class=\"mjx-mn\" style=\"\"><span class=\"mjx-char MJXc-TeX-main-R\" style=\"padding-top: 0.38em; padding-bottom: 0.318em;\">2</span></span></span></span></span><span id=\"MJXc-Node-190\" class=\"mjx-mo\"><span class=\"mjx-char MJXc-TeX-main-R\" style=\"padding-top: 0.443em; padding-bottom: 0.569em;\">)</span></span></span><span id=\"MJXc-Node-191\" class=\"mjx-mo MJXc-space2\"><span class=\"mjx-char MJXc-TeX-main-R\" style=\"padding-top: 0.318em; padding-bottom: 0.443em;\">+</span></span><span id=\"MJXc-Node-192\" class=\"mjx-mi MJXc-space2\"><span class=\"mjx-char MJXc-TeX-math-I\" style=\"padding-top: 0.192em; padding-bottom: 0.318em;\">ϵ</span></span><span id=\"MJXc-Node-193\" class=\"mjx-mspace\" style=\"width: 0.167em; height: 0px;\"></span><span id=\"MJXc-Node-194\" class=\"mjx-mi\"><span class=\"mjx-char MJXc-TeX-math-I\" style=\"padding-top: 0.192em; padding-bottom: 0.318em; padding-right: 0.001em;\">σ</span></span><span id=\"MJXc-Node-195\" class=\"mjx-mspace\" style=\"width: 0.167em; height: 0px;\"></span><span id=\"MJXc-Node-196\" class=\"mjx-mi\"><span class=\"mjx-char MJXc-TeX-math-I\" style=\"padding-top: 0.506em; padding-bottom: 0.255em;\">A</span></span><span id=\"MJXc-Node-197\" class=\"mjx-mspace\" style=\"width: 0.167em; height: 0px;\"></span><span id=\"MJXc-Node-198\" class=\"mjx-mrow MJXc-space1\"><span id=\"MJXc-Node-199\" class=\"mjx-mo\"><span class=\"mjx-char MJXc-TeX-size1-R\" style=\"padding-top: 0.632em; padding-bottom: 0.632em;\">(</span></span><span id=\"MJXc-Node-200\" class=\"mjx-mrow\"><span id=\"MJXc-Node-201\" class=\"mjx-msubsup\"><span class=\"mjx-base\" style=\"margin-right: -0.12em;\"><span id=\"MJXc-Node-202\" class=\"mjx-mi\"><span class=\"mjx-char MJXc-TeX-math-I\" style=\"padding-top: 0.443em; padding-bottom: 0.255em; padding-right: 0.12em;\">T</span></span></span><span class=\"mjx-stack\" style=\"vertical-align: -0.157em;\"><span class=\"mjx-sup\" style=\"font-size: 70.7%; padding-bottom: 0.255em; padding-left: 0.291em; padding-right: 0.071em;\"><span id=\"MJXc-Node-204\" class=\"mjx-mn\" style=\"\"><span class=\"mjx-char MJXc-TeX-main-R\" style=\"padding-top: 0.38em; padding-bottom: 0.318em;\">4</span></span></span><span class=\"mjx-sub\" style=\"font-size: 70.7%; padding-right: 0.071em;\"><span id=\"MJXc-Node-203\" class=\"mjx-mi\" style=\"\"><span class=\"mjx-char MJXc-TeX-main-R\" style=\"padding-top: 0.129em; padding-bottom: 0.38em;\">∞</span></span></span></span></span><span id=\"MJXc-Node-205\" class=\"mjx-mo MJXc-space2\"><span class=\"mjx-char MJXc-TeX-main-R\" style=\"padding-top: 0.318em; padding-bottom: 0.443em;\">−</span></span><span id=\"MJXc-Node-206\" class=\"mjx-msubsup MJXc-space2\"><span class=\"mjx-base\" style=\"margin-right: -0.12em;\"><span id=\"MJXc-Node-207\" class=\"mjx-mi\"><span class=\"mjx-char MJXc-TeX-math-I\" style=\"padding-top: 0.443em; padding-bottom: 0.255em; padding-right: 0.12em;\">T</span></span></span><span class=\"mjx-stack\" style=\"vertical-align: -0.315em;\"><span class=\"mjx-sup\" style=\"font-size: 70.7%; padding-bottom: 0.255em; padding-left: 0.291em; padding-right: 0.071em;\"><span id=\"MJXc-Node-209\" class=\"mjx-mn\" style=\"\"><span class=\"mjx-char MJXc-TeX-main-R\" style=\"padding-top: 0.38em; padding-bottom: 0.318em;\">4</span></span></span><span class=\"mjx-sub\" style=\"font-size: 70.7%; padding-right: 0.071em;\"><span id=\"MJXc-Node-208\" class=\"mjx-mn\" style=\"\"><span class=\"mjx-char MJXc-TeX-main-R\" style=\"padding-top: 0.38em; padding-bottom: 0.318em;\">2</span></span></span></span></span></span><span id=\"MJXc-Node-210\" class=\"mjx-mo\"><span class=\"mjx-char MJXc-TeX-size1-R\" style=\"padding-top: 0.632em; padding-bottom: 0.632em;\">)</span></span></span><span id=\"MJXc-Node-211\" class=\"mjx-mo MJXc-space2\"><span class=\"mjx-char MJXc-TeX-main-R\" style=\"padding-top: 0.318em; padding-bottom: 0.443em;\">−</span></span><span id=\"MJXc-Node-212\" class=\"mjx-msubsup MJXc-space2\"><span class=\"mjx-base\"><span id=\"MJXc-Node-213\" class=\"mjx-mi\"><span class=\"mjx-char MJXc-TeX-math-I\" style=\"padding-top: 0.506em; padding-bottom: 0.443em;\">Q</span></span></span><span class=\"mjx-sub\" style=\"font-size: 70.7%; vertical-align: -0.23em; padding-right: 0.071em;\"><span id=\"MJXc-Node-214\" class=\"mjx-texatom\" style=\"\"><span id=\"MJXc-Node-215\" class=\"mjx-mrow\"><span id=\"MJXc-Node-216\" class=\"mjx-mi\"><span class=\"mjx-char MJXc-TeX-math-I\" style=\"padding-top: 0.506em; padding-bottom: 0.318em; padding-right: 0.045em;\">C</span></span><span id=\"MJXc-Node-217\" class=\"mjx-mn\"><span class=\"mjx-char MJXc-TeX-main-R\" style=\"padding-top: 0.38em; padding-bottom: 0.318em;\">12</span></span></span></span></span></span><span id=\"MJXc-Node-218\" class=\"mjx-mo MJXc-space2\"><span class=\"mjx-char MJXc-TeX-main-R\" style=\"padding-top: 0.318em; padding-bottom: 0.443em;\">−</span></span><span id=\"MJXc-Node-219\" class=\"mjx-msubsup MJXc-space2\"><span class=\"mjx-base\"><span id=\"MJXc-Node-220\" class=\"mjx-mi\"><span class=\"mjx-char MJXc-TeX-math-I\" style=\"padding-top: 0.506em; padding-bottom: 0.443em;\">Q</span></span></span><span class=\"mjx-sub\" style=\"font-size: 70.7%; vertical-align: -0.212em; padding-right: 0.071em;\"><span id=\"MJXc-Node-221\" class=\"mjx-texatom\" style=\"\"><span id=\"MJXc-Node-222\" class=\"mjx-mrow\"><span id=\"MJXc-Node-223\" class=\"mjx-mi\"><span class=\"mjx-char MJXc-TeX-math-I\" style=\"padding-top: 0.443em; padding-bottom: 0.318em;\">R</span></span><span id=\"MJXc-Node-224\" class=\"mjx-mn\"><span class=\"mjx-char MJXc-TeX-main-R\" style=\"padding-top: 0.38em; padding-bottom: 0.318em;\">12</span></span></span></span></span></span><span id=\"MJXc-Node-225\" class=\"mjx-mo MJXc-space2\"><span class=\"mjx-char MJXc-TeX-main-R\" style=\"padding-top: 0.318em; padding-bottom: 0.443em;\">+</span></span><span id=\"MJXc-Node-226\" class=\"mjx-msubsup MJXc-space2\"><span class=\"mjx-base\"><span id=\"MJXc-Node-227\" class=\"mjx-mi\"><span class=\"mjx-char MJXc-TeX-math-I\" style=\"padding-top: 0.192em; padding-bottom: 0.318em;\">α</span></span></span><span class=\"mjx-sub\" style=\"font-size: 70.7%; vertical-align: -0.212em; padding-right: 0.071em;\"><span id=\"MJXc-Node-228\" class=\"mjx-mn\" style=\"\"><span class=\"mjx-char MJXc-TeX-main-R\" style=\"padding-top: 0.38em; padding-bottom: 0.318em;\">2</span></span></span></span><span id=\"MJXc-Node-229\" class=\"mjx-msubsup\"><span class=\"mjx-base\"><span id=\"MJXc-Node-230\" class=\"mjx-mi\"><span class=\"mjx-char MJXc-TeX-math-I\" style=\"padding-top: 0.506em; padding-bottom: 0.443em;\">Q</span></span></span><span class=\"mjx-sub\" style=\"font-size: 70.7%; vertical-align: -0.212em; padding-right: 0.071em;\"><span id=\"MJXc-Node-231\" class=\"mjx-mn\" style=\"\"><span class=\"mjx-char MJXc-TeX-main-R\" style=\"padding-top: 0.38em; padding-bottom: 0.318em;\">2</span></span></span></span></span></span><span class=\"MJX_Assistive_MathML MJX_Assistive_MathML_Block\" role=\"presentation\"><math xmlns=\"http://www.w3.org/1998/Math/MathML\" display=\"block\"><mi>m</mi><mspace width=\"thinmathspace\"></mspace><msub><mi>c</mi><mi>p</mi></msub><mfrac><mrow><mi>d</mi><msub><mi>T</mi><mn>2</mn></msub></mrow><mrow><mi>d</mi><mi>t</mi></mrow></mfrac><mo>=</mo><mi>U</mi><mspace width=\"thinmathspace\"></mspace><mi>A</mi><mspace width=\"thinmathspace\"></mspace><mrow><mo>(</mo><mrow><msub><mi>T</mi><mi mathvariant=\"normal\">∞</mi></msub><mo>−</mo><msub><mi>T</mi><mn>2</mn></msub></mrow><mo>)</mo></mrow><mo>+</mo><mi>ϵ</mi><mspace width=\"thinmathspace\"></mspace><mi>σ</mi><mspace width=\"thinmathspace\"></mspace><mi>A</mi><mspace width=\"thinmathspace\"></mspace><mrow><mo>(</mo><mrow><msubsup><mi>T</mi><mi mathvariant=\"normal\">∞</mi><mn>4</mn></msubsup><mo>−</mo><msubsup><mi>T</mi><mn>2</mn><mn>4</mn></msubsup></mrow><mo>)</mo></mrow><mo>−</mo><msub><mi>Q</mi><mrow class=\"MJX-TeXAtom-ORD\"><mi>C</mi><mn>12</mn></mrow></msub><mo>−</mo><msub><mi>Q</mi><mrow class=\"MJX-TeXAtom-ORD\"><mi>R</mi><mn>12</mn></mrow></msub><mo>+</mo><msub><mi>α</mi><mn>2</mn></msub><msub><mi>Q</mi><mn>2</mn></msub></math></span></span></span>"
   ]
  },
  {
   "cell_type": "code",
   "execution_count": 4,
   "metadata": {},
   "outputs": [],
   "source": [
    "T1 = model.Var(T0)\n",
    "T2 = model.Var(T0)"
   ]
  },
  {
   "cell_type": "code",
   "execution_count": 5,
   "metadata": {},
   "outputs": [],
   "source": [
    "QC12 = model.Intermediate(U*As*(T2 - T1))\n",
    "QR12 = model.Intermediate(epsilon*sigma*A*(T2**4 - T1**4))"
   ]
  },
  {
   "cell_type": "code",
   "execution_count": 6,
   "metadata": {},
   "outputs": [
    {
     "data": {
      "text/plain": [
       "<gekko.gekko.EquationObj at 0x1189cb048>"
      ]
     },
     "execution_count": 6,
     "metadata": {},
     "output_type": "execute_result"
    }
   ],
   "source": [
    "model.Equation(m*Cp*T1.dt() == U*A*(T8 - T1) + epsilon*sigma*A*(T8**4 - T1**4) + QC12 + QR12 + alpha1*Q1)"
   ]
  },
  {
   "cell_type": "code",
   "execution_count": 7,
   "metadata": {},
   "outputs": [
    {
     "data": {
      "text/plain": [
       "<gekko.gekko.EquationObj at 0x1189cb320>"
      ]
     },
     "execution_count": 7,
     "metadata": {},
     "output_type": "execute_result"
    }
   ],
   "source": [
    "model.Equation(m*Cp*T2.dt() == U*A*(T8 - T2) + epsilon*sigma*A*(T8**4 - T2**4) - QC12 - QR12 + alpha2*Q2)"
   ]
  },
  {
   "cell_type": "code",
   "execution_count": 8,
   "metadata": {},
   "outputs": [
    {
     "name": "stdout",
     "output_type": "stream",
     "text": [
      "apm 176.61.86.133_gk_model0 <br><pre> ----------------------------------------------------------------\n",
      " APMonitor, Version 0.8.6\n",
      " APMonitor Optimization Suite\n",
      " ----------------------------------------------------------------\n",
      " \n",
      " \n",
      " --------- APM Model Size ------------\n",
      " Each time step contains\n",
      "   Objects      :            0\n",
      "   Constants    :            9\n",
      "   Variables    :            6\n",
      "   Intermediates:            2\n",
      "   Connections  :            0\n",
      "   Equations    :            4\n",
      "   Residuals    :            2\n",
      " \n",
      " Number of state variables:           2396\n",
      " Number of total equations: -         2396\n",
      " Number of slack variables: -            0\n",
      " ---------------------------------------\n",
      " Degrees of freedom       :              0\n",
      " \n",
      " **********************************************\n",
      " Dynamic Simulation with Interior Point Solver\n",
      " **********************************************\n",
      "  \n",
      "  \n",
      " Info: Exact Hessian\n",
      "\n",
      "******************************************************************************\n",
      "This program contains Ipopt, a library for large-scale nonlinear optimization.\n",
      " Ipopt is released as open source code under the Eclipse Public License (EPL).\n",
      "         For more information visit http://projects.coin-or.org/Ipopt\n",
      "******************************************************************************\n",
      "\n",
      "This is Ipopt version 3.12.10, running with linear solver ma57.\n",
      "\n",
      "Number of nonzeros in equality constraint Jacobian...:     7186\n",
      "Number of nonzeros in inequality constraint Jacobian.:        0\n",
      "Number of nonzeros in Lagrangian Hessian.............:     1198\n",
      "\n",
      "Total number of variables............................:     2396\n",
      "                     variables with only lower bounds:        0\n",
      "                variables with lower and upper bounds:     2396\n",
      "                     variables with only upper bounds:        0\n",
      "Total number of equality constraints.................:     2396\n",
      "Total number of inequality constraints...............:        0\n",
      "        inequality constraints with only lower bounds:        0\n",
      "   inequality constraints with lower and upper bounds:        0\n",
      "        inequality constraints with only upper bounds:        0\n",
      "\n",
      "iter    objective    inf_pr   inf_du lg(mu)  ||d||  lg(rg) alpha_du alpha_pr  ls\n",
      "   0  0.0000000e+00 8.50e-01 0.00e+00   0.0 0.00e+00    -  0.00e+00 0.00e+00   0\n",
      "Reallocating memory for MA57: lfact (73613)\n",
      "   1  0.0000000e+00 5.84e-02 6.10e-19  15.5 1.19e-01    -  9.98e-01 1.00e+00h  1\n",
      "   2  0.0000000e+00 1.39e-04 3.60e-21  10.9 4.93e-03    -  9.98e-01 1.00e+00h  1\n",
      "   3  0.0000000e+00 5.44e-10 1.32e-23   5.0 1.02e-05    -  1.00e+00 1.00e+00h  1\n",
      "\n",
      "Number of Iterations....: 3\n",
      "\n",
      "                                   (scaled)                 (unscaled)\n",
      "Objective...............:   0.0000000000000000e+00    0.0000000000000000e+00\n",
      "Dual infeasibility......:   0.0000000000000000e+00    0.0000000000000000e+00\n",
      "Constraint violation....:   9.1890917933708846e-11    5.4426990692135746e-10\n",
      "Complementarity.........:   0.0000000000000000e+00    0.0000000000000000e+00\n",
      "Overall NLP error.......:   9.1890917933708846e-11    5.4426990692135746e-10\n",
      "\n",
      "\n",
      "Number of objective function evaluations             = 4\n",
      "Number of objective gradient evaluations             = 4\n",
      "Number of equality constraint evaluations            = 4\n",
      "Number of inequality constraint evaluations          = 0\n",
      "Number of equality constraint Jacobian evaluations   = 4\n",
      "Number of inequality constraint Jacobian evaluations = 0\n",
      "Number of Lagrangian Hessian evaluations             = 3\n",
      "Total CPU secs in IPOPT (w/o function evaluations)   =      0.070\n",
      "Total CPU secs in NLP function evaluations           =      0.362\n",
      "\n",
      "EXIT: Optimal Solution Found.\n",
      " \n",
      " The solution was found.\n",
      " \n",
      " The final value of the objective function is   0.000000000000000E+000\n",
      " \n",
      " ---------------------------------------------------\n",
      " Solver         :  IPOPT (v3.12)\n",
      " Solution time  :   0.511300000012852      sec\n",
      " Objective      :   0.000000000000000E+000\n",
      " Successful solution\n",
      " ---------------------------------------------------\n",
      " \n"
     ]
    }
   ],
   "source": [
    "model.options.IMODE = 4\n",
    "model.solve()"
   ]
  },
  {
   "cell_type": "code",
   "execution_count": 9,
   "metadata": {},
   "outputs": [
    {
     "data": {
      "text/plain": [
       "<matplotlib.legend.Legend at 0x1194f05c0>"
      ]
     },
     "execution_count": 9,
     "metadata": {},
     "output_type": "execute_result"
    },
    {
     "data": {
      "image/png": "[encoded data removed]",
      "text/plain": [
       "<Figure size 432x288 with 2 Axes>"
      ]
     },
     "metadata": {
      "needs_background": "light"
     },
     "output_type": "display_data"
    }
   ],
   "source": [
    "fig, (ax0, ax1) = plt.subplots(2, 1, sharex=True)\n",
    "\n",
    "ax0.plot(model.time, np.array(T1) - 273.15, label=\"T1\")\n",
    "ax0.plot(model.time, np.array(T2) - 273.15, label=\"T2\")\n",
    "ax0.legend()\n",
    "\n",
    "ax1.plot(model.time, alpha1_init, label=r\"$\\alpha_1$\")\n",
    "ax1.plot(model.time, alpha2_init, label=r\"$\\alpha_2$\")\n",
    "ax1.legend()\n",
    "\n"
   ]
  },
  {
   "cell_type": "code",
   "execution_count": 10,
   "metadata": {},
   "outputs": [],
   "source": [
    "from scipy.interpolate import interp1d\n",
    "\n",
    "u = alpha1_init.copy()\n",
    "fu = interp1d(model.time, u)"
   ]
  },
  {
   "cell_type": "code",
   "execution_count": 11,
   "metadata": {},
   "outputs": [],
   "source": [
    "def fopdt_objective(params, T):\n",
    "    T_array = np.array(T)\n",
    "    obj_m = GEKKO(remote=False)\n",
    "    obj_m.time = model.time\n",
    "    theta_p_ = obj_m.Param(params[0])\n",
    "    Kp_ = obj_m.Param(params[1])\n",
    "    tau_p_ = obj_m.Param(params[2])\n",
    "    \n",
    "    u_t_ = []\n",
    "    for t in obj_m.time:\n",
    "        try:\n",
    "            u_t_.append(float(fu(t - params[0])))\n",
    "        except:\n",
    "            u_t_.append(0.0)\n",
    "    \n",
    "    Ut_ = obj_m.Param(u_t_)\n",
    "    y_ = obj_m.Var(0)\n",
    "    obj_m.Equation(tau_p_*y_.dt() == -y_ + Kp_*Ut_)\n",
    "    obj_m.options.IMODE = 4\n",
    "    \n",
    "    \n",
    "    obj_m.solve(disp=False)\n",
    "    intermediate_y = y_.VALUE\n",
    "    \n",
    "    mse = 0.\n",
    "    for i in range(len(obj_m.time)):\n",
    "        mse += (T_array[i] - intermediate_y[i])**2\n",
    "    print(f\"mse({params[0]}, {params[1]}, {params[2]}) = {mse}\")\n",
    "        \n",
    "    del obj_m\n",
    "        \n",
    "    return mse"
   ]
  },
  {
   "cell_type": "code",
   "execution_count": 12,
   "metadata": {},
   "outputs": [],
   "source": [
    "from scipy.optimize import minimize"
   ]
  },
  {
   "cell_type": "code",
   "execution_count": 13,
   "metadata": {},
   "outputs": [
    {
     "ename": "OSError",
     "evalue": "[Errno 8] Exec format error: '/Users/aspiela/anaconda/envs/p37/lib/python3.7/site-packages/gekko/bin/apm'",
     "output_type": "error",
     "traceback": [
      "\u001b[0;31m---------------------------------------------------------------------------\u001b[0m",
      "\u001b[0;31mOSError\u001b[0m                                   Traceback (most recent call last)",
      "\u001b[0;32m<ipython-input-13-93fc25e84bf7>\u001b[0m in \u001b[0;36m<module>\u001b[0;34m\u001b[0m\n\u001b[0;32m----> 1\u001b[0;31m \u001b[0mfopdt_objective\u001b[0m\u001b[0;34m(\u001b[0m\u001b[0;34m[\u001b[0m\u001b[0;36m0\u001b[0m\u001b[0;34m,\u001b[0m \u001b[0;36m270\u001b[0m\u001b[0;34m,\u001b[0m \u001b[0;36m120\u001b[0m\u001b[0;34m]\u001b[0m\u001b[0;34m,\u001b[0m \u001b[0mT1\u001b[0m\u001b[0;34m)\u001b[0m\u001b[0;34m\u001b[0m\u001b[0;34m\u001b[0m\u001b[0m\n\u001b[0m",
      "\u001b[0;32m<ipython-input-11-b305c3a9941e>\u001b[0m in \u001b[0;36mfopdt_objective\u001b[0;34m(params, T)\u001b[0m\n\u001b[1;32m     20\u001b[0m \u001b[0;34m\u001b[0m\u001b[0m\n\u001b[1;32m     21\u001b[0m \u001b[0;34m\u001b[0m\u001b[0m\n\u001b[0;32m---> 22\u001b[0;31m     \u001b[0mobj_m\u001b[0m\u001b[0;34m.\u001b[0m\u001b[0msolve\u001b[0m\u001b[0;34m(\u001b[0m\u001b[0mdisp\u001b[0m\u001b[0;34m=\u001b[0m\u001b[0;32mFalse\u001b[0m\u001b[0;34m)\u001b[0m\u001b[0;34m\u001b[0m\u001b[0;34m\u001b[0m\u001b[0m\n\u001b[0m\u001b[1;32m     23\u001b[0m     \u001b[0mintermediate_y\u001b[0m \u001b[0;34m=\u001b[0m \u001b[0my_\u001b[0m\u001b[0;34m.\u001b[0m\u001b[0mVALUE\u001b[0m\u001b[0;34m\u001b[0m\u001b[0;34m\u001b[0m\u001b[0m\n\u001b[1;32m     24\u001b[0m \u001b[0;34m\u001b[0m\u001b[0m\n",
      "\u001b[0;32m~/anaconda/envs/p37/lib/python3.7/site-packages/gekko/gekko.py\u001b[0m in \u001b[0;36msolve\u001b[0;34m(self, disp, debug, GUI, **kwargs)\u001b[0m\n\u001b[1;32m    716\u001b[0m                 \u001b[0;32melse\u001b[0m\u001b[0;34m:\u001b[0m\u001b[0;34m\u001b[0m\u001b[0;34m\u001b[0m\u001b[0m\n\u001b[1;32m    717\u001b[0m                     \u001b[0mapm_exe\u001b[0m \u001b[0;34m=\u001b[0m \u001b[0mos\u001b[0m\u001b[0;34m.\u001b[0m\u001b[0mpath\u001b[0m\u001b[0;34m.\u001b[0m\u001b[0mjoin\u001b[0m\u001b[0;34m(\u001b[0m\u001b[0mos\u001b[0m\u001b[0;34m.\u001b[0m\u001b[0mpath\u001b[0m\u001b[0;34m.\u001b[0m\u001b[0mdirname\u001b[0m\u001b[0;34m(\u001b[0m\u001b[0mos\u001b[0m\u001b[0;34m.\u001b[0m\u001b[0mpath\u001b[0m\u001b[0;34m.\u001b[0m\u001b[0mrealpath\u001b[0m\u001b[0;34m(\u001b[0m\u001b[0m__file__\u001b[0m\u001b[0;34m)\u001b[0m\u001b[0;34m)\u001b[0m\u001b[0;34m,\u001b[0m\u001b[0;34m'bin'\u001b[0m\u001b[0;34m,\u001b[0m\u001b[0;34m'apm'\u001b[0m\u001b[0;34m)\u001b[0m\u001b[0;34m\u001b[0m\u001b[0;34m\u001b[0m\u001b[0m\n\u001b[0;32m--> 718\u001b[0;31m                 \u001b[0mapp\u001b[0m \u001b[0;34m=\u001b[0m \u001b[0msubprocess\u001b[0m\u001b[0;34m.\u001b[0m\u001b[0mPopen\u001b[0m\u001b[0;34m(\u001b[0m\u001b[0;34m[\u001b[0m\u001b[0mapm_exe\u001b[0m\u001b[0;34m,\u001b[0m \u001b[0mself\u001b[0m\u001b[0;34m.\u001b[0m\u001b[0m_model_name\u001b[0m\u001b[0;34m]\u001b[0m\u001b[0;34m,\u001b[0m \u001b[0mstdout\u001b[0m\u001b[0;34m=\u001b[0m\u001b[0msubprocess\u001b[0m\u001b[0;34m.\u001b[0m\u001b[0mPIPE\u001b[0m\u001b[0;34m,\u001b[0m \u001b[0mstderr\u001b[0m\u001b[0;34m=\u001b[0m\u001b[0msubprocess\u001b[0m\u001b[0;34m.\u001b[0m\u001b[0mPIPE\u001b[0m\u001b[0;34m,\u001b[0m\u001b[0mcwd\u001b[0m \u001b[0;34m=\u001b[0m \u001b[0mself\u001b[0m\u001b[0;34m.\u001b[0m\u001b[0m_path\u001b[0m\u001b[0;34m,\u001b[0m \u001b[0menv\u001b[0m \u001b[0;34m=\u001b[0m \u001b[0;34m{\u001b[0m\u001b[0;34m\"PATH\"\u001b[0m \u001b[0;34m:\u001b[0m \u001b[0mself\u001b[0m\u001b[0;34m.\u001b[0m\u001b[0m_path\u001b[0m \u001b[0;34m}\u001b[0m\u001b[0;34m,\u001b[0m \u001b[0muniversal_newlines\u001b[0m\u001b[0;34m=\u001b[0m\u001b[0;32mTrue\u001b[0m\u001b[0;34m)\u001b[0m\u001b[0;34m\u001b[0m\u001b[0;34m\u001b[0m\u001b[0m\n\u001b[0m\u001b[1;32m    719\u001b[0m                 \u001b[0;32mfor\u001b[0m \u001b[0mline\u001b[0m \u001b[0;32min\u001b[0m \u001b[0miter\u001b[0m\u001b[0;34m(\u001b[0m\u001b[0mapp\u001b[0m\u001b[0;34m.\u001b[0m\u001b[0mstdout\u001b[0m\u001b[0;34m.\u001b[0m\u001b[0mreadline\u001b[0m\u001b[0;34m,\u001b[0m \u001b[0;34m\"\"\u001b[0m\u001b[0;34m)\u001b[0m\u001b[0;34m:\u001b[0m\u001b[0;34m\u001b[0m\u001b[0;34m\u001b[0m\u001b[0m\n\u001b[1;32m    720\u001b[0m                     \u001b[0;32mif\u001b[0m \u001b[0mdisp\u001b[0m \u001b[0;34m==\u001b[0m \u001b[0;32mTrue\u001b[0m\u001b[0;34m:\u001b[0m\u001b[0;34m\u001b[0m\u001b[0;34m\u001b[0m\u001b[0m\n",
      "\u001b[0;32m~/anaconda/envs/p37/lib/python3.7/subprocess.py\u001b[0m in \u001b[0;36m__init__\u001b[0;34m(self, args, bufsize, executable, stdin, stdout, stderr, preexec_fn, close_fds, shell, cwd, env, universal_newlines, startupinfo, creationflags, restore_signals, start_new_session, pass_fds, encoding, errors, text)\u001b[0m\n\u001b[1;32m    767\u001b[0m                                 \u001b[0mc2pread\u001b[0m\u001b[0;34m,\u001b[0m \u001b[0mc2pwrite\u001b[0m\u001b[0;34m,\u001b[0m\u001b[0;34m\u001b[0m\u001b[0;34m\u001b[0m\u001b[0m\n\u001b[1;32m    768\u001b[0m                                 \u001b[0merrread\u001b[0m\u001b[0;34m,\u001b[0m \u001b[0merrwrite\u001b[0m\u001b[0;34m,\u001b[0m\u001b[0;34m\u001b[0m\u001b[0;34m\u001b[0m\u001b[0m\n\u001b[0;32m--> 769\u001b[0;31m                                 restore_signals, start_new_session)\n\u001b[0m\u001b[1;32m    770\u001b[0m         \u001b[0;32mexcept\u001b[0m\u001b[0;34m:\u001b[0m\u001b[0;34m\u001b[0m\u001b[0;34m\u001b[0m\u001b[0m\n\u001b[1;32m    771\u001b[0m             \u001b[0;31m# Cleanup if the child failed starting.\u001b[0m\u001b[0;34m\u001b[0m\u001b[0;34m\u001b[0m\u001b[0;34m\u001b[0m\u001b[0m\n",
      "\u001b[0;32m~/anaconda/envs/p37/lib/python3.7/subprocess.py\u001b[0m in \u001b[0;36m_execute_child\u001b[0;34m(self, args, executable, preexec_fn, close_fds, pass_fds, cwd, env, startupinfo, creationflags, shell, p2cread, p2cwrite, c2pread, c2pwrite, errread, errwrite, restore_signals, start_new_session)\u001b[0m\n\u001b[1;32m   1514\u001b[0m                         \u001b[0;32mif\u001b[0m \u001b[0merrno_num\u001b[0m \u001b[0;34m==\u001b[0m \u001b[0merrno\u001b[0m\u001b[0;34m.\u001b[0m\u001b[0mENOENT\u001b[0m\u001b[0;34m:\u001b[0m\u001b[0;34m\u001b[0m\u001b[0;34m\u001b[0m\u001b[0m\n\u001b[1;32m   1515\u001b[0m                             \u001b[0merr_msg\u001b[0m \u001b[0;34m+=\u001b[0m \u001b[0;34m': '\u001b[0m \u001b[0;34m+\u001b[0m \u001b[0mrepr\u001b[0m\u001b[0;34m(\u001b[0m\u001b[0merr_filename\u001b[0m\u001b[0;34m)\u001b[0m\u001b[0;34m\u001b[0m\u001b[0;34m\u001b[0m\u001b[0m\n\u001b[0;32m-> 1516\u001b[0;31m                     \u001b[0;32mraise\u001b[0m \u001b[0mchild_exception_type\u001b[0m\u001b[0;34m(\u001b[0m\u001b[0merrno_num\u001b[0m\u001b[0;34m,\u001b[0m \u001b[0merr_msg\u001b[0m\u001b[0;34m,\u001b[0m \u001b[0merr_filename\u001b[0m\u001b[0;34m)\u001b[0m\u001b[0;34m\u001b[0m\u001b[0;34m\u001b[0m\u001b[0m\n\u001b[0m\u001b[1;32m   1517\u001b[0m                 \u001b[0;32mraise\u001b[0m \u001b[0mchild_exception_type\u001b[0m\u001b[0;34m(\u001b[0m\u001b[0merr_msg\u001b[0m\u001b[0;34m)\u001b[0m\u001b[0;34m\u001b[0m\u001b[0;34m\u001b[0m\u001b[0m\n\u001b[1;32m   1518\u001b[0m \u001b[0;34m\u001b[0m\u001b[0m\n",
      "\u001b[0;31mOSError\u001b[0m: [Errno 8] Exec format error: '/Users/aspiela/anaconda/envs/p37/lib/python3.7/site-packages/gekko/bin/apm'"
     ]
    }
   ],
   "source": [
    "fopdt_objective([0, 270, 120], T1)"
   ]
  },
  {
   "cell_type": "code",
   "execution_count": null,
   "metadata": {},
   "outputs": [],
   "source": [
    "solution = minimize(fopdt_objective, \n",
    "                    [0, 270, 100], \n",
    "                    args=(T1),\n",
    "                    method='Nelder-Mead',\n",
    "                    options={\n",
    "                        'maxiter': 500,\n",
    "                        'disp'   : True,\n",
    "                        'fatol'  : 1e-6,\n",
    "                    }\n",
    "                   )"
   ]
  },
  {
   "cell_type": "code",
   "execution_count": null,
   "metadata": {},
   "outputs": [],
   "source": []
  }
 ],
 "metadata": {
  "kernelspec": {
   "display_name": "Python 3",
   "language": "python",
   "name": "python3"
  },
  "language_info": {
   "codemirror_mode": {
    "name": "ipython",
    "version": 3
   },
   "file_extension": ".py",
   "mimetype": "text/x-python",
   "name": "python",
   "nbconvert_exporter": "python",
   "pygments_lexer": "ipython3",
   "version": "3.7.1"
  }
 },
 "nbformat": 4,
 "nbformat_minor": 2
}
