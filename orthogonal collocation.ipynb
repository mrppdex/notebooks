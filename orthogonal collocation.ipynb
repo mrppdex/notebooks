{
 "cells": [
  {
   "cell_type": "code",
   "execution_count": 1,
   "metadata": {},
   "outputs": [],
   "source": [
    "import numpy as np"
   ]
  },
  {
   "cell_type": "code",
   "execution_count": 2,
   "metadata": {},
   "outputs": [],
   "source": [
    "N = np.array([\n",
    "    [0.436, -0.281, 0.121],\n",
    "    [0.614,  0.064, 0.046],\n",
    "    [0.603,  0.230, 0.167],\n",
    "])"
   ]
  },
  {
   "cell_type": "code",
   "execution_count": 3,
   "metadata": {},
   "outputs": [],
   "source": [
    "N_inv = np.linalg.inv(N)"
   ]
  },
  {
   "cell_type": "code",
   "execution_count": 5,
   "metadata": {},
   "outputs": [],
   "source": [
    "np.set_printoptions(suppress=True)"
   ]
  },
  {
   "cell_type": "code",
   "execution_count": 6,
   "metadata": {},
   "outputs": [
    {
     "data": {
      "text/plain": [
       "array([[ 0.00322543,  2.23262683, -0.61731205],\n",
       "       [-2.23391103, -0.00450963,  1.61982442],\n",
       "       [ 3.06499761, -8.05530996,  5.98610507]])"
      ]
     },
     "execution_count": 6,
     "metadata": {},
     "output_type": "execute_result"
    }
   ],
   "source": [
    "N_inv"
   ]
  },
  {
   "cell_type": "code",
   "execution_count": 7,
   "metadata": {},
   "outputs": [],
   "source": [
    "import sympy as sp"
   ]
  },
  {
   "cell_type": "code",
   "execution_count": 8,
   "metadata": {},
   "outputs": [],
   "source": [
    "M = sp.Matrix(N_inv)"
   ]
  },
  {
   "cell_type": "code",
   "execution_count": 10,
   "metadata": {},
   "outputs": [],
   "source": [
    "from sympy.abc import x, y, z"
   ]
  },
  {
   "cell_type": "code",
   "execution_count": 11,
   "metadata": {},
   "outputs": [],
   "source": [
    "X = sp.Matrix([x, y, z])"
   ]
  },
  {
   "cell_type": "code",
   "execution_count": 12,
   "metadata": {},
   "outputs": [
    {
     "data": {
      "text/plain": [
       "Matrix([\n",
       "[x],\n",
       "[y],\n",
       "[z]])"
      ]
     },
     "execution_count": 12,
     "metadata": {},
     "output_type": "execute_result"
    }
   ],
   "source": [
    "X"
   ]
  },
  {
   "cell_type": "code",
   "execution_count": 118,
   "metadata": {},
   "outputs": [
    {
     "data": {
      "text/plain": [
       "[[0.00322543304126439*x + 2.23262683209076*y - 0.617312045953103*z],\n",
       " [-2.23391103228312*x - 0.00450963323361939*y + 1.61982441937128*z],\n",
       " [3.06499761258225*x - 8.05530996471257*y + 5.9861050733792*z]]"
      ]
     },
     "execution_count": 118,
     "metadata": {},
     "output_type": "execute_result"
    }
   ],
   "source": [
    "(M*X).tolist()"
   ]
  },
  {
   "cell_type": "code",
   "execution_count": 125,
   "metadata": {},
   "outputs": [
    {
     "data": {
      "text/plain": [
       "array([((((0.003225433041264393)*(v7))+((2.232626832090765)*(v8)))+((-0.6173120459531029)*(v9))),\n",
       "       ((((-2.23391103228312)*(v7))+((-0.004509633233619392)*(v8)))+((1.6198244193712816)*(v9))),\n",
       "       ((((3.0649976125822467)*(v7))+((-8.055309964712567)*(v8)))+((5.986105073379199)*(v9)))],\n",
       "      dtype=object)"
      ]
     },
     "execution_count": 125,
     "metadata": {},
     "output_type": "execute_result"
    }
   ],
   "source": [
    "N_inv.dot(np.array([x1, x2, x3]))"
   ]
  },
  {
   "cell_type": "code",
   "execution_count": 44,
   "metadata": {},
   "outputs": [],
   "source": [
    "from gekko import GEKKO"
   ]
  },
  {
   "cell_type": "code",
   "execution_count": 157,
   "metadata": {},
   "outputs": [],
   "source": [
    "m = GEKKO()\n",
    "m.time = [0, 1]"
   ]
  },
  {
   "cell_type": "code",
   "execution_count": 158,
   "metadata": {},
   "outputs": [],
   "source": [
    "u = m.Const(4.)"
   ]
  },
  {
   "cell_type": "code",
   "execution_count": 159,
   "metadata": {},
   "outputs": [],
   "source": [
    "x1, x2, x3 = m.Var(0.), m.Var(0.), m.Var(0.)"
   ]
  },
  {
   "cell_type": "code",
   "execution_count": 160,
   "metadata": {},
   "outputs": [],
   "source": [
    "dx1, dx2, dx3 = m.Var(0.), m.Var(0.), m.Var(0.)"
   ]
  },
  {
   "cell_type": "code",
   "execution_count": 161,
   "metadata": {},
   "outputs": [
    {
     "data": {
      "text/plain": [
       "<gekko.gekko.EquationObj at 0x151de7fa90>"
      ]
     },
     "execution_count": 161,
     "metadata": {},
     "output_type": "execute_result"
    }
   ],
   "source": [
    "m.Equation(5*dx1 == -x1**2 + 4)\n",
    "m.Equation(5*dx2 == -x2**2 + 4)\n",
    "m.Equation(5*dx3 == -x3**2 + 4)"
   ]
  },
  {
   "cell_type": "code",
   "execution_count": 162,
   "metadata": {},
   "outputs": [],
   "source": [
    "for eql, eqr in zip(N_inv.dot(np.array([x1, x2, x3])).tolist(), [dx1, dx2, dx3]):\n",
    "    m.Equation(eql == eqr)"
   ]
  },
  {
   "cell_type": "code",
   "execution_count": 50,
   "metadata": {},
   "outputs": [
    {
     "data": {
      "text/plain": [
       "[<gekko.gekko.EquationObj at 0x119963a20>,\n",
       " <gekko.gekko.EquationObj at 0x119963940>,\n",
       " <gekko.gekko.EquationObj at 0x119963908>]"
      ]
     },
     "execution_count": 50,
     "metadata": {},
     "output_type": "execute_result"
    }
   ],
   "source": [
    "m.Equations([\n",
    "0.00322543304126439*x1 + 2.23262683209076*x2 - 0.617312045953103*x3 == dx1,\n",
    "-2.23391103228312*x1 - 0.00450963323361939*x2 + 1.61982441937128*x3 == dx2,\n",
    "3.06499761258225*x1 - 8.05530996471257*x2 + 5.9861050733792*x3 == dx3])"
   ]
  },
  {
   "cell_type": "code",
   "execution_count": 163,
   "metadata": {},
   "outputs": [],
   "source": [
    "m.options.IMODE = 4\n",
    "m.options.NODES = 3"
   ]
  },
  {
   "cell_type": "code",
   "execution_count": 164,
   "metadata": {},
   "outputs": [
    {
     "name": "stdout",
     "output_type": "stream",
     "text": [
      "apm 176.61.86.133_gk_model11 <br><pre> ----------------------------------------------------------------\n",
      " APMonitor, Version 0.8.6\n",
      " APMonitor Optimization Suite\n",
      " ----------------------------------------------------------------\n",
      " \n",
      " \n",
      " --------- APM Model Size ------------\n",
      " Each time step contains\n",
      "   Objects      :            0\n",
      "   Constants    :            1\n",
      "   Variables    :            6\n",
      "   Intermediates:            0\n",
      "   Connections  :            0\n",
      "   Equations    :            6\n",
      "   Residuals    :            6\n",
      " \n",
      " Number of state variables:             12\n",
      " Number of total equations: -           12\n",
      " Number of slack variables: -            0\n",
      " ---------------------------------------\n",
      " Degrees of freedom       :              0\n",
      " \n",
      " **********************************************\n",
      " Dynamic Simulation with Interior Point Solver\n",
      " **********************************************\n",
      "  \n",
      "  \n",
      " Info: Exact Hessian\n",
      "\n",
      "******************************************************************************\n",
      "This program contains Ipopt, a library for large-scale nonlinear optimization.\n",
      " Ipopt is released as open source code under the Eclipse Public License (EPL).\n",
      "         For more information visit http://projects.coin-or.org/Ipopt\n",
      "******************************************************************************\n",
      "\n",
      "This is Ipopt version 3.12.10, running with linear solver ma57.\n",
      "\n",
      "Number of nonzeros in equality constraint Jacobian...:       36\n",
      "Number of nonzeros in inequality constraint Jacobian.:        0\n",
      "Number of nonzeros in Lagrangian Hessian.............:        6\n",
      "\n",
      "Total number of variables............................:       12\n",
      "                     variables with only lower bounds:        0\n",
      "                variables with lower and upper bounds:        0\n",
      "                     variables with only upper bounds:        0\n",
      "Total number of equality constraints.................:       12\n",
      "Total number of inequality constraints...............:        0\n",
      "        inequality constraints with only lower bounds:        0\n",
      "   inequality constraints with lower and upper bounds:        0\n",
      "        inequality constraints with only upper bounds:        0\n",
      "\n",
      "iter    objective    inf_pr   inf_du lg(mu)  ||d||  lg(rg) alpha_du alpha_pr  ls\n",
      "   0  0.0000000e+00 4.00e+00 0.00e+00   0.0 0.00e+00    -  0.00e+00 0.00e+00   0\n",
      "   1  0.0000000e+00 6.40e-01 0.00e+00 -11.0 8.00e-01    -  1.00e+00 1.00e+00h  1\n",
      "   2  0.0000000e+00 1.58e-03 0.00e+00 -11.0 1.15e-01    -  1.00e+00 1.00e+00h  1\n",
      "   3  0.0000000e+00 3.43e-09 0.00e+00 -11.0 2.98e-04    -  1.00e+00 1.00e+00h  1\n",
      "\n",
      "Number of Iterations....: 3\n",
      "\n",
      "                                   (scaled)                 (unscaled)\n",
      "Objective...............:   0.0000000000000000e+00    0.0000000000000000e+00\n",
      "Dual infeasibility......:   0.0000000000000000e+00    0.0000000000000000e+00\n",
      "Constraint violation....:   3.4303835327875731e-09    3.4303835327875731e-09\n",
      "Complementarity.........:   0.0000000000000000e+00    0.0000000000000000e+00\n",
      "Overall NLP error.......:   3.4303835327875731e-09    3.4303835327875731e-09\n",
      "\n",
      "\n",
      "Number of objective function evaluations             = 4\n",
      "Number of objective gradient evaluations             = 4\n",
      "Number of equality constraint evaluations            = 4\n",
      "Number of inequality constraint evaluations          = 0\n",
      "Number of equality constraint Jacobian evaluations   = 4\n",
      "Number of inequality constraint Jacobian evaluations = 0\n",
      "Number of Lagrangian Hessian evaluations             = 3\n",
      "Total CPU secs in IPOPT (w/o function evaluations)   =      0.001\n",
      "Total CPU secs in NLP function evaluations           =      0.000\n",
      "\n",
      "EXIT: Optimal Solution Found.\n",
      " \n",
      " The solution was found.\n",
      " \n",
      " The final value of the objective function is   0.000000000000000E+000\n",
      " \n",
      " ---------------------------------------------------\n",
      " Solver         :  IPOPT (v3.12)\n",
      " Solution time  :   6.300000008195639E-003 sec\n",
      " Objective      :   0.000000000000000E+000\n",
      " Successful solution\n",
      " ---------------------------------------------------\n",
      " \n"
     ]
    }
   ],
   "source": [
    "solution = m.solve()"
   ]
  },
  {
   "cell_type": "code",
   "execution_count": 64,
   "metadata": {},
   "outputs": [],
   "source": [
    "from scipy.integrate import odeint"
   ]
  },
  {
   "cell_type": "code",
   "execution_count": 65,
   "metadata": {},
   "outputs": [],
   "source": [
    "?odeint"
   ]
  },
  {
   "cell_type": "code",
   "execution_count": 68,
   "metadata": {},
   "outputs": [],
   "source": [
    "def fun(y, t):\n",
    "    return (-y**2 + 4)/5"
   ]
  },
  {
   "cell_type": "code",
   "execution_count": 71,
   "metadata": {},
   "outputs": [],
   "source": [
    "t = [0, 0.5 - np.sqrt(5)/10, 0.5 + np.sqrt(5)/10, 1]"
   ]
  },
  {
   "cell_type": "code",
   "execution_count": 81,
   "metadata": {},
   "outputs": [],
   "source": [
    "ode = np.squeeze(odeint(fun, 0, t))"
   ]
  },
  {
   "cell_type": "code",
   "execution_count": 77,
   "metadata": {},
   "outputs": [],
   "source": [
    "x0 = [0.0, 0.0]"
   ]
  },
  {
   "cell_type": "code",
   "execution_count": 143,
   "metadata": {},
   "outputs": [],
   "source": [
    "col = np.array([x[1] for x in [x0, x1, x2, x3]])"
   ]
  },
  {
   "cell_type": "code",
   "execution_count": 144,
   "metadata": {},
   "outputs": [
    {
     "data": {
      "text/plain": [
       "array([0.        , 0.00000005, 0.00000036, 0.0000001 ])"
      ]
     },
     "execution_count": 144,
     "metadata": {},
     "output_type": "execute_result"
    }
   ],
   "source": [
    "(ode - col)**2"
   ]
  },
  {
   "cell_type": "code",
   "execution_count": 145,
   "metadata": {},
   "outputs": [],
   "source": [
    "ma = GEKKO()\n",
    "tf = 1.0\n",
    "ma.time = np.linspace(0, tf, 50)"
   ]
  },
  {
   "cell_type": "code",
   "execution_count": 146,
   "metadata": {},
   "outputs": [],
   "source": [
    "xa = ma.Var(0.)"
   ]
  },
  {
   "cell_type": "code",
   "execution_count": 147,
   "metadata": {},
   "outputs": [
    {
     "data": {
      "text/plain": [
       "<gekko.gekko.EquationObj at 0x151df76550>"
      ]
     },
     "execution_count": 147,
     "metadata": {},
     "output_type": "execute_result"
    }
   ],
   "source": [
    "ma.Equation(5*xa.dt() == -xa**2 + 4)"
   ]
  },
  {
   "cell_type": "code",
   "execution_count": 148,
   "metadata": {},
   "outputs": [
    {
     "name": "stdout",
     "output_type": "stream",
     "text": [
      "apm 176.61.86.133_gk_model9 <br><pre> ----------------------------------------------------------------\n",
      " APMonitor, Version 0.8.6\n",
      " APMonitor Optimization Suite\n",
      " ----------------------------------------------------------------\n",
      " \n",
      " \n",
      " --------- APM Model Size ------------\n",
      " Each time step contains\n",
      "   Objects      :            0\n",
      "   Constants    :            0\n",
      "   Variables    :            1\n",
      "   Intermediates:            0\n",
      "   Connections  :            0\n",
      "   Equations    :            1\n",
      "   Residuals    :            1\n",
      " \n",
      " Number of state variables:            490\n",
      " Number of total equations: -          490\n",
      " Number of slack variables: -            0\n",
      " ---------------------------------------\n",
      " Degrees of freedom       :              0\n",
      " \n",
      " **********************************************\n",
      " Dynamic Simulation with Interior Point Solver\n",
      " **********************************************\n",
      "  \n",
      "  \n",
      " Info: Exact Hessian\n",
      "\n",
      "******************************************************************************\n",
      "This program contains Ipopt, a library for large-scale nonlinear optimization.\n",
      " Ipopt is released as open source code under the Eclipse Public License (EPL).\n",
      "         For more information visit http://projects.coin-or.org/Ipopt\n",
      "******************************************************************************\n",
      "\n",
      "This is Ipopt version 3.12.10, running with linear solver ma57.\n",
      "\n",
      "Number of nonzeros in equality constraint Jacobian...:     2200\n",
      "Number of nonzeros in inequality constraint Jacobian.:        0\n",
      "Number of nonzeros in Lagrangian Hessian.............:      245\n",
      "\n",
      "Total number of variables............................:      490\n",
      "                     variables with only lower bounds:        0\n",
      "                variables with lower and upper bounds:        0\n",
      "                     variables with only upper bounds:        0\n",
      "Total number of equality constraints.................:      490\n",
      "Total number of inequality constraints...............:        0\n",
      "        inequality constraints with only lower bounds:        0\n",
      "   inequality constraints with lower and upper bounds:        0\n",
      "        inequality constraints with only upper bounds:        0\n",
      "\n",
      "iter    objective    inf_pr   inf_du lg(mu)  ||d||  lg(rg) alpha_du alpha_pr  ls\n",
      "   0  0.0000000e+00 4.00e+00 0.00e+00   0.0 0.00e+00    -  0.00e+00 0.00e+00   0\n",
      "Reallocating memory for MA57: lfact (21297)\n",
      "   1  0.0000000e+00 6.40e-01 0.00e+00 -11.0 8.00e-01    -  1.00e+00 1.00e+00h  1\n",
      "   2  0.0000000e+00 1.60e-03 0.00e+00 -11.0 1.15e-01    -  1.00e+00 1.00e+00h  1\n",
      "   3  0.0000000e+00 2.08e-09 0.00e+00 -11.0 3.07e-04    -  1.00e+00 1.00e+00h  1\n",
      "\n",
      "Number of Iterations....: 3\n",
      "\n",
      "                                   (scaled)                 (unscaled)\n",
      "Objective...............:   0.0000000000000000e+00    0.0000000000000000e+00\n",
      "Dual infeasibility......:   0.0000000000000000e+00    0.0000000000000000e+00\n",
      "Constraint violation....:   2.0754762353192291e-09    2.0754762353192291e-09\n",
      "Complementarity.........:   0.0000000000000000e+00    0.0000000000000000e+00\n",
      "Overall NLP error.......:   2.0754762353192291e-09    2.0754762353192291e-09\n",
      "\n",
      "\n",
      "Number of objective function evaluations             = 4\n",
      "Number of objective gradient evaluations             = 4\n",
      "Number of equality constraint evaluations            = 4\n",
      "Number of inequality constraint evaluations          = 0\n",
      "Number of equality constraint Jacobian evaluations   = 4\n",
      "Number of inequality constraint Jacobian evaluations = 0\n",
      "Number of Lagrangian Hessian evaluations             = 3\n",
      "Total CPU secs in IPOPT (w/o function evaluations)   =      0.008\n",
      "Total CPU secs in NLP function evaluations           =      0.021\n",
      "\n",
      "EXIT: Optimal Solution Found.\n",
      " \n",
      " The solution was found.\n",
      " \n",
      " The final value of the objective function is   0.000000000000000E+000\n",
      " \n",
      " ---------------------------------------------------\n",
      " Solver         :  IPOPT (v3.12)\n",
      " Solution time  :   3.780000000551809E-002 sec\n",
      " Objective      :   0.000000000000000E+000\n",
      " Successful solution\n",
      " ---------------------------------------------------\n",
      " \n"
     ]
    }
   ],
   "source": [
    "ma.options.IMODE = 4\n",
    "ma.options.NODES = 7\n",
    "ma.solve()"
   ]
  },
  {
   "cell_type": "code",
   "execution_count": 94,
   "metadata": {},
   "outputs": [
    {
     "data": {
      "text/plain": [
       "[0.0, 0.01632617, 0.03265016, 0.0489698, 0.06528292, 0.08158735, 0.09788092, 0.1141615, 0.1304269, 0.146675, 0.1629036, 0.1791107, 0.1952941, 0.2114517, 0.2275815, 0.2436813, 0.2597491, 0.2757829, 0.2917806, 0.3077403, 0.3236599, 0.3395376, 0.3553712, 0.3711591, 0.3868991, 0.4025895, 0.4182285, 0.4338141, 0.4493447, 0.4648183, 0.4802334, 0.4955882, 0.510881, 0.5261101, 0.541274, 0.556371, 0.5713996, 0.5863582, 0.6012455, 0.6160598, 0.6307999, 0.6454642, 0.6600515, 0.6745604, 0.6889896, 0.7033379, 0.717604, 0.7317868, 0.7458852, 0.7598979]"
      ]
     },
     "execution_count": 94,
     "metadata": {},
     "output_type": "execute_result"
    }
   ],
   "source": [
    "xa"
   ]
  },
  {
   "cell_type": "code",
   "execution_count": 98,
   "metadata": {},
   "outputs": [
    {
     "data": {
      "text/plain": [
       "list"
      ]
     },
     "execution_count": 98,
     "metadata": {},
     "output_type": "execute_result"
    }
   ],
   "source": [
    "type(xa.VALUE.value)"
   ]
  },
  {
   "cell_type": "code",
   "execution_count": 101,
   "metadata": {},
   "outputs": [],
   "source": [
    "col_interpolated = np.interp(ma.time, t, col)\n",
    "ode_interpolated = np.interp(ma.time, t, ode)"
   ]
  },
  {
   "cell_type": "code",
   "execution_count": 102,
   "metadata": {},
   "outputs": [],
   "source": [
    "import matplotlib.pyplot as plt\n",
    "%matplotlib inline"
   ]
  },
  {
   "cell_type": "code",
   "execution_count": 103,
   "metadata": {},
   "outputs": [
    {
     "data": {
      "text/plain": [
       "[<matplotlib.lines.Line2D at 0x151d294dd8>]"
      ]
     },
     "execution_count": 103,
     "metadata": {},
     "output_type": "execute_result"
    },
    {
     "data": {
      "image/png": "[encoded data removed]",
      "text/plain": [
       "<Figure size 432x288 with 1 Axes>"
      ]
     },
     "metadata": {
      "needs_background": "light"
     },
     "output_type": "display_data"
    }
   ],
   "source": [
    "plt.plot(ma.time, col_interpolated, label=\"collocation\")\n",
    "plt.plot(ma.time, ode_interpolated, label=\"odeint\")\n",
    "plt.plot(ma.time, xa, label=\"sim\")\n",
    "plt.legend()\n",
    "plt.show()"
   ]
  },
  {
   "cell_type": "code",
   "execution_count": 114,
   "metadata": {},
   "outputs": [
    {
     "data": {
      "text/plain": [
       "<matplotlib.legend.Legend at 0x151db12940>"
      ]
     },
     "execution_count": 114,
     "metadata": {},
     "output_type": "execute_result"
    },
    {
     "data": {
      "image/png": "[encoded data removed]",
      "text/plain": [
       "<Figure size 432x288 with 1 Axes>"
      ]
     },
     "metadata": {
      "needs_background": "light"
     },
     "output_type": "display_data"
    }
   ],
   "source": [
    "plt.plot(ma.time, np.abs(col_interpolated - xa), label=\"collocation error\")\n",
    "plt.plot(ma.time, np.abs(ode_interpolated - xa), label=\"odeint error\")\n",
    "plt.title(\"absolute errors (4 nodes)\")\n",
    "plt.ylim((0.0, 0.0036))\n",
    "plt.xlabel(\"t\")\n",
    "plt.ylabel(\"$|error|$\")\n",
    "plt.legend()"
   ]
  },
  {
   "cell_type": "code",
   "execution_count": null,
   "metadata": {},
   "outputs": [],
   "source": []
  }
 ],
 "metadata": {
  "kernelspec": {
   "display_name": "Python 3",
   "language": "python",
   "name": "python3"
  },
  "language_info": {
   "codemirror_mode": {
    "name": "ipython",
    "version": 3
   },
   "file_extension": ".py",
   "mimetype": "text/x-python",
   "name": "python",
   "nbconvert_exporter": "python",
   "pygments_lexer": "ipython3",
   "version": "3.7.1"
  }
 },
 "nbformat": 4,
 "nbformat_minor": 2
}
