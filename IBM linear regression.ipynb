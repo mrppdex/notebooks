{
 "cells": [
  {
   "cell_type": "code",
   "execution_count": 1,
   "metadata": {},
   "outputs": [
    {
     "data": {
      "text/plain": [
       "'hi Pawel'"
      ]
     },
     "execution_count": 1,
     "metadata": {},
     "output_type": "execute_result"
    }
   ],
   "source": [
    "text=\"Pawel\"\n",
    "f'hi {text}'"
   ]
  },
  {
   "cell_type": "code",
   "execution_count": 2,
   "metadata": {},
   "outputs": [],
   "source": [
    "import numpy as np"
   ]
  },
  {
   "cell_type": "code",
   "execution_count": 238,
   "metadata": {},
   "outputs": [],
   "source": [
    "x = np.linspace(0, 1, 200)\n",
    "y = 2*(x-0.5)**3 + 0.5 + np.random.normal(scale=0.05, size=x.shape)"
   ]
  },
  {
   "cell_type": "code",
   "execution_count": 7,
   "metadata": {},
   "outputs": [],
   "source": [
    "f = np.polyfit(x, y, 3)\n",
    "p = np.poly1d(f)"
   ]
  },
  {
   "cell_type": "code",
   "execution_count": 8,
   "metadata": {},
   "outputs": [
    {
     "name": "stdout",
     "output_type": "stream",
     "text": [
      "       3         2\n",
      "2.191 x - 3.272 x + 1.616 x + 0.2316\n"
     ]
    }
   ],
   "source": [
    "print(p)"
   ]
  },
  {
   "cell_type": "code",
   "execution_count": 9,
   "metadata": {},
   "outputs": [],
   "source": [
    "import matplotlib.pyplot as plt"
   ]
  },
  {
   "cell_type": "code",
   "execution_count": 11,
   "metadata": {},
   "outputs": [
    {
     "data": {
      "image/png": "[encoded data removed]",
      "text/plain": [
       "<Figure size 432x288 with 1 Axes>"
      ]
     },
     "metadata": {
      "needs_background": "light"
     },
     "output_type": "display_data"
    }
   ],
   "source": [
    "plt.scatter(x, y, label=\"original\")\n",
    "plt.plot(x, p(x), label=\"fitted\")\n",
    "plt.legend()\n",
    "plt.show()"
   ]
  },
  {
   "cell_type": "code",
   "execution_count": 13,
   "metadata": {},
   "outputs": [],
   "source": [
    "from bokeh.plotting import figure, show"
   ]
  },
  {
   "cell_type": "code",
   "execution_count": 93,
   "metadata": {},
   "outputs": [],
   "source": [
    "f = figure(title=\"plotting\", \n",
    "           x_axis_label=\"x\", \n",
    "           y_axis_label=\"y\")"
   ]
  },
  {
   "cell_type": "code",
   "execution_count": 94,
   "metadata": {},
   "outputs": [],
   "source": [
    "f.line(x, y_hat, line_alpha=0.6)\n",
    "f.circle(x, y, fill_alpha=0.6, radius=0.01, color='red')\n",
    "show(f)"
   ]
  },
  {
   "cell_type": "code",
   "execution_count": 179,
   "metadata": {},
   "outputs": [],
   "source": [
    "from sklearn.linear_model import LinearRegression, Ridge\n",
    "from sklearn.preprocessing import PolynomialFeatures, StandardScaler\n",
    "from sklearn.model_selection import train_test_split, cross_val_score, GridSearchCV\n",
    "from sklearn.pipeline import Pipeline"
   ]
  },
  {
   "cell_type": "code",
   "execution_count": 84,
   "metadata": {},
   "outputs": [],
   "source": [
    "jobs = [(\"scale\", StandardScaler()), \n",
    "        (\"polynomial_fit\", PolynomialFeatures(degree=4, include_bias=False)),\n",
    "        (\"model\", LinearRegression())]"
   ]
  },
  {
   "cell_type": "code",
   "execution_count": 221,
   "metadata": {},
   "outputs": [],
   "source": [
    "jobs = [(\"scale\", StandardScaler()), \n",
    "        (\"polynomial_fit\", PolynomialFeatures(degree=10, include_bias=False)),\n",
    "        (\"model\", Ridge())]"
   ]
  },
  {
   "cell_type": "code",
   "execution_count": 222,
   "metadata": {},
   "outputs": [],
   "source": [
    "pipe = Pipeline(jobs)"
   ]
  },
  {
   "cell_type": "code",
   "execution_count": 223,
   "metadata": {},
   "outputs": [],
   "source": [
    "alphas = [10**i for i in range(-4, 4)]\n",
    "degrees = np.arange(1, 10)"
   ]
  },
  {
   "cell_type": "code",
   "execution_count": 229,
   "metadata": {},
   "outputs": [],
   "source": [
    "params = [\n",
    "    {\n",
    "        \"model\": [Ridge()],\n",
    "        \"polynomial_fit__degree\": degrees,\n",
    "        \"model__alpha\": alphas,\n",
    "        \"model__fit_intercept\": [True, False],\n",
    "        \"model__normalize\": [True, False]\n",
    "    }\n",
    "]"
   ]
  },
  {
   "cell_type": "code",
   "execution_count": 240,
   "metadata": {},
   "outputs": [
    {
     "data": {
      "text/plain": [
       "GridSearchCV(cv=4, error_score='raise-deprecating',\n",
       "       estimator=Pipeline(memory=None,\n",
       "     steps=[('scale', StandardScaler(copy=True, with_mean=True, with_std=True)), ('polynomial_fit', PolynomialFeatures(degree=10, include_bias=False, interaction_only=False)), ('model', Ridge(alpha=1.0, copy_X=True, fit_intercept=True, max_iter=None,\n",
       "   normalize=False, random_state=None, solver='auto', tol=0.001))]),\n",
       "       fit_params=None, iid='warn', n_jobs=None,\n",
       "       param_grid=[{'model': [Ridge(alpha=10, copy_X=True, fit_intercept=True, max_iter=None,\n",
       "   normalize=False, random_state=None, solver='auto', tol=0.001)], 'polynomial_fit__degree': array([1, 2, 3, 4, 5, 6, 7, 8, 9]), 'model__alpha': [0.0001, 0.001, 0.01, 0.1, 1, 10, 100, 1000], 'model__fit_intercept': [True, False], 'model__normalize': [True, False]}],\n",
       "       pre_dispatch='2*n_jobs', refit=True, return_train_score='warn',\n",
       "       scoring=None, verbose=0)"
      ]
     },
     "execution_count": 240,
     "metadata": {},
     "output_type": "execute_result"
    }
   ],
   "source": [
    "grid = GridSearchCV(pipe, params, cv=4)\n",
    "grid.fit(x[:, None], y)"
   ]
  },
  {
   "cell_type": "code",
   "execution_count": 231,
   "metadata": {},
   "outputs": [
    {
     "data": {
      "text/plain": [
       "Pipeline(memory=None,\n",
       "     steps=[('scale', StandardScaler(copy=True, with_mean=True, with_std=True)), ('polynomial_fit', PolynomialFeatures(degree=3, include_bias=False, interaction_only=False)), ('model', Ridge(alpha=0.1, copy_X=True, fit_intercept=True, max_iter=None,\n",
       "   normalize=True, random_state=None, solver='auto', tol=0.001))])"
      ]
     },
     "execution_count": 231,
     "metadata": {},
     "output_type": "execute_result"
    }
   ],
   "source": [
    "grid.best_estimator_"
   ]
  },
  {
   "cell_type": "code",
   "execution_count": 232,
   "metadata": {},
   "outputs": [
    {
     "name": "stdout",
     "output_type": "stream",
     "text": [
      "0.2633329276780141\n"
     ]
    }
   ],
   "source": [
    "grid_results = grid.cv_results_\n",
    "print(grid_results[\"mean_test_score\"].max())"
   ]
  },
  {
   "cell_type": "code",
   "execution_count": 233,
   "metadata": {},
   "outputs": [
    {
     "name": "stdout",
     "output_type": "stream",
     "text": [
      "{'model': Ridge(alpha=0.1, copy_X=True, fit_intercept=True, max_iter=None,\n",
      "   normalize=True, random_state=None, solver='auto', tol=0.001), 'model__alpha': 0.0001, 'model__fit_intercept': True, 'model__normalize': True, 'polynomial_fit__degree': 1} : \n",
      "train_score: 0.01332,test_score: 0.60347\n",
      "{'model': Ridge(alpha=0.1, copy_X=True, fit_intercept=True, max_iter=None,\n",
      "   normalize=True, random_state=None, solver='auto', tol=0.001), 'model__alpha': 0.0001, 'model__fit_intercept': True, 'model__normalize': True, 'polynomial_fit__degree': 2} : \n",
      "train_score: -2.35398,test_score: 0.65142\n",
      "{'model': Ridge(alpha=0.1, copy_X=True, fit_intercept=True, max_iter=None,\n",
      "   normalize=True, random_state=None, solver='auto', tol=0.001), 'model__alpha': 0.0001, 'model__fit_intercept': True, 'model__normalize': True, 'polynomial_fit__degree': 3} : \n",
      "train_score: 0.09172,test_score: 0.71378\n",
      "{'model': Ridge(alpha=0.1, copy_X=True, fit_intercept=True, max_iter=None,\n",
      "   normalize=True, random_state=None, solver='auto', tol=0.001), 'model__alpha': 0.0001, 'model__fit_intercept': True, 'model__normalize': True, 'polynomial_fit__degree': 4} : \n",
      "train_score: -3.47455,test_score: 0.71683\n",
      "{'model': Ridge(alpha=0.1, copy_X=True, fit_intercept=True, max_iter=None,\n",
      "   normalize=True, random_state=None, solver='auto', tol=0.001), 'model__alpha': 0.0001, 'model__fit_intercept': True, 'model__normalize': True, 'polynomial_fit__degree': 5} : \n",
      "train_score: -13.95874,test_score: 0.71998\n",
      "{'model': Ridge(alpha=0.1, copy_X=True, fit_intercept=True, max_iter=None,\n",
      "   normalize=True, random_state=None, solver='auto', tol=0.001), 'model__alpha': 0.0001, 'model__fit_intercept': True, 'model__normalize': True, 'polynomial_fit__degree': 6} : \n",
      "train_score: -37.41688,test_score: 0.72287\n",
      "{'model': Ridge(alpha=0.1, copy_X=True, fit_intercept=True, max_iter=None,\n",
      "   normalize=True, random_state=None, solver='auto', tol=0.001), 'model__alpha': 0.0001, 'model__fit_intercept': True, 'model__normalize': True, 'polynomial_fit__degree': 7} : \n",
      "train_score: -306.03018,test_score: 0.72345\n",
      "{'model': Ridge(alpha=0.1, copy_X=True, fit_intercept=True, max_iter=None,\n",
      "   normalize=True, random_state=None, solver='auto', tol=0.001), 'model__alpha': 0.0001, 'model__fit_intercept': True, 'model__normalize': True, 'polynomial_fit__degree': 8} : \n",
      "train_score: -1332.73752,test_score: 0.72374\n",
      "{'model': Ridge(alpha=0.1, copy_X=True, fit_intercept=True, max_iter=None,\n",
      "   normalize=True, random_state=None, solver='auto', tol=0.001), 'model__alpha': 0.0001, 'model__fit_intercept': True, 'model__normalize': True, 'polynomial_fit__degree': 9} : \n",
      "train_score: -6110.66882,test_score: 0.72415\n",
      "{'model': Ridge(alpha=0.1, copy_X=True, fit_intercept=True, max_iter=None,\n",
      "   normalize=True, random_state=None, solver='auto', tol=0.001), 'model__alpha': 0.0001, 'model__fit_intercept': True, 'model__normalize': False, 'polynomial_fit__degree': 1} : \n",
      "train_score: 0.01332,test_score: 0.60347\n",
      "{'model': Ridge(alpha=0.1, copy_X=True, fit_intercept=True, max_iter=None,\n",
      "   normalize=True, random_state=None, solver='auto', tol=0.001), 'model__alpha': 0.0001, 'model__fit_intercept': True, 'model__normalize': False, 'polynomial_fit__degree': 2} : \n",
      "train_score: -2.35415,test_score: 0.65142\n",
      "{'model': Ridge(alpha=0.1, copy_X=True, fit_intercept=True, max_iter=None,\n",
      "   normalize=True, random_state=None, solver='auto', tol=0.001), 'model__alpha': 0.0001, 'model__fit_intercept': True, 'model__normalize': False, 'polynomial_fit__degree': 3} : \n",
      "train_score: 0.09106,test_score: 0.71378\n",
      "{'model': Ridge(alpha=0.1, copy_X=True, fit_intercept=True, max_iter=None,\n",
      "   normalize=True, random_state=None, solver='auto', tol=0.001), 'model__alpha': 0.0001, 'model__fit_intercept': True, 'model__normalize': False, 'polynomial_fit__degree': 4} : \n",
      "train_score: -3.48629,test_score: 0.71683\n",
      "{'model': Ridge(alpha=0.1, copy_X=True, fit_intercept=True, max_iter=None,\n",
      "   normalize=True, random_state=None, solver='auto', tol=0.001), 'model__alpha': 0.0001, 'model__fit_intercept': True, 'model__normalize': False, 'polynomial_fit__degree': 5} : \n",
      "train_score: -14.77624,test_score: 0.71998\n",
      "{'model': Ridge(alpha=0.1, copy_X=True, fit_intercept=True, max_iter=None,\n",
      "   normalize=True, random_state=None, solver='auto', tol=0.001), 'model__alpha': 0.0001, 'model__fit_intercept': True, 'model__normalize': False, 'polynomial_fit__degree': 6} : \n",
      "train_score: -41.87064,test_score: 0.72290\n",
      "{'model': Ridge(alpha=0.1, copy_X=True, fit_intercept=True, max_iter=None,\n",
      "   normalize=True, random_state=None, solver='auto', tol=0.001), 'model__alpha': 0.0001, 'model__fit_intercept': True, 'model__normalize': False, 'polynomial_fit__degree': 7} : \n",
      "train_score: -397.84714,test_score: 0.72351\n",
      "{'model': Ridge(alpha=0.1, copy_X=True, fit_intercept=True, max_iter=None,\n",
      "   normalize=True, random_state=None, solver='auto', tol=0.001), 'model__alpha': 0.0001, 'model__fit_intercept': True, 'model__normalize': False, 'polynomial_fit__degree': 8} : \n",
      "train_score: -3493.10451,test_score: 0.72391\n",
      "{'model': Ridge(alpha=0.1, copy_X=True, fit_intercept=True, max_iter=None,\n",
      "   normalize=True, random_state=None, solver='auto', tol=0.001), 'model__alpha': 0.0001, 'model__fit_intercept': True, 'model__normalize': False, 'polynomial_fit__degree': 9} : \n",
      "train_score: -75686.30361,test_score: 0.72528\n",
      "{'model': Ridge(alpha=0.1, copy_X=True, fit_intercept=True, max_iter=None,\n",
      "   normalize=True, random_state=None, solver='auto', tol=0.001), 'model__alpha': 0.0001, 'model__fit_intercept': False, 'model__normalize': True, 'polynomial_fit__degree': 1} : \n",
      "train_score: -61.70260,test_score: -26.88544\n",
      "{'model': Ridge(alpha=0.1, copy_X=True, fit_intercept=True, max_iter=None,\n",
      "   normalize=True, random_state=None, solver='auto', tol=0.001), 'model__alpha': 0.0001, 'model__fit_intercept': False, 'model__normalize': True, 'polynomial_fit__degree': 2} : \n",
      "train_score: -137.91629,test_score: -10.58910\n",
      "{'model': Ridge(alpha=0.1, copy_X=True, fit_intercept=True, max_iter=None,\n",
      "   normalize=True, random_state=None, solver='auto', tol=0.001), 'model__alpha': 0.0001, 'model__fit_intercept': False, 'model__normalize': True, 'polynomial_fit__degree': 3} : \n",
      "train_score: -143.58476,test_score: -10.40032\n",
      "{'model': Ridge(alpha=0.1, copy_X=True, fit_intercept=True, max_iter=None,\n",
      "   normalize=True, random_state=None, solver='auto', tol=0.001), 'model__alpha': 0.0001, 'model__fit_intercept': False, 'model__normalize': True, 'polynomial_fit__degree': 4} : \n",
      "train_score: -2149.42790,test_score: -6.14225\n",
      "{'model': Ridge(alpha=0.1, copy_X=True, fit_intercept=True, max_iter=None,\n",
      "   normalize=True, random_state=None, solver='auto', tol=0.001), 'model__alpha': 0.0001, 'model__fit_intercept': False, 'model__normalize': True, 'polynomial_fit__degree': 5} : \n",
      "train_score: -1684.64526,test_score: -5.94977\n",
      "{'model': Ridge(alpha=0.1, copy_X=True, fit_intercept=True, max_iter=None,\n",
      "   normalize=True, random_state=None, solver='auto', tol=0.001), 'model__alpha': 0.0001, 'model__fit_intercept': False, 'model__normalize': True, 'polynomial_fit__degree': 6} : \n",
      "train_score: -61125.58626,test_score: -4.40189\n",
      "{'model': Ridge(alpha=0.1, copy_X=True, fit_intercept=True, max_iter=None,\n",
      "   normalize=True, random_state=None, solver='auto', tol=0.001), 'model__alpha': 0.0001, 'model__fit_intercept': False, 'model__normalize': True, 'polynomial_fit__degree': 7} : \n",
      "train_score: -69207.39714,test_score: -4.27027\n",
      "{'model': Ridge(alpha=0.1, copy_X=True, fit_intercept=True, max_iter=None,\n",
      "   normalize=True, random_state=None, solver='auto', tol=0.001), 'model__alpha': 0.0001, 'model__fit_intercept': False, 'model__normalize': True, 'polynomial_fit__degree': 8} : \n",
      "train_score: -2137989.95179,test_score: -3.46238\n",
      "{'model': Ridge(alpha=0.1, copy_X=True, fit_intercept=True, max_iter=None,\n",
      "   normalize=True, random_state=None, solver='auto', tol=0.001), 'model__alpha': 0.0001, 'model__fit_intercept': False, 'model__normalize': True, 'polynomial_fit__degree': 9} : \n",
      "train_score: -1562382.35920,test_score: -3.42035\n",
      "{'model': Ridge(alpha=0.1, copy_X=True, fit_intercept=True, max_iter=None,\n",
      "   normalize=True, random_state=None, solver='auto', tol=0.001), 'model__alpha': 0.0001, 'model__fit_intercept': False, 'model__normalize': False, 'polynomial_fit__degree': 1} : \n",
      "train_score: -61.70260,test_score: -26.88544\n",
      "{'model': Ridge(alpha=0.1, copy_X=True, fit_intercept=True, max_iter=None,\n",
      "   normalize=True, random_state=None, solver='auto', tol=0.001), 'model__alpha': 0.0001, 'model__fit_intercept': False, 'model__normalize': False, 'polynomial_fit__degree': 2} : \n",
      "train_score: -137.91629,test_score: -10.58910\n",
      "{'model': Ridge(alpha=0.1, copy_X=True, fit_intercept=True, max_iter=None,\n",
      "   normalize=True, random_state=None, solver='auto', tol=0.001), 'model__alpha': 0.0001, 'model__fit_intercept': False, 'model__normalize': False, 'polynomial_fit__degree': 3} : \n",
      "train_score: -143.58476,test_score: -10.40032\n",
      "{'model': Ridge(alpha=0.1, copy_X=True, fit_intercept=True, max_iter=None,\n",
      "   normalize=True, random_state=None, solver='auto', tol=0.001), 'model__alpha': 0.0001, 'model__fit_intercept': False, 'model__normalize': False, 'polynomial_fit__degree': 4} : \n",
      "train_score: -2149.42790,test_score: -6.14225\n",
      "{'model': Ridge(alpha=0.1, copy_X=True, fit_intercept=True, max_iter=None,\n",
      "   normalize=True, random_state=None, solver='auto', tol=0.001), 'model__alpha': 0.0001, 'model__fit_intercept': False, 'model__normalize': False, 'polynomial_fit__degree': 5} : \n",
      "train_score: -1684.64526,test_score: -5.94977\n",
      "{'model': Ridge(alpha=0.1, copy_X=True, fit_intercept=True, max_iter=None,\n",
      "   normalize=True, random_state=None, solver='auto', tol=0.001), 'model__alpha': 0.0001, 'model__fit_intercept': False, 'model__normalize': False, 'polynomial_fit__degree': 6} : \n",
      "train_score: -61125.58626,test_score: -4.40189\n",
      "{'model': Ridge(alpha=0.1, copy_X=True, fit_intercept=True, max_iter=None,\n",
      "   normalize=True, random_state=None, solver='auto', tol=0.001), 'model__alpha': 0.0001, 'model__fit_intercept': False, 'model__normalize': False, 'polynomial_fit__degree': 7} : \n",
      "train_score: -69207.39714,test_score: -4.27027\n",
      "{'model': Ridge(alpha=0.1, copy_X=True, fit_intercept=True, max_iter=None,\n",
      "   normalize=True, random_state=None, solver='auto', tol=0.001), 'model__alpha': 0.0001, 'model__fit_intercept': False, 'model__normalize': False, 'polynomial_fit__degree': 8} : \n",
      "train_score: -2137989.95179,test_score: -3.46238\n",
      "{'model': Ridge(alpha=0.1, copy_X=True, fit_intercept=True, max_iter=None,\n",
      "   normalize=True, random_state=None, solver='auto', tol=0.001), 'model__alpha': 0.0001, 'model__fit_intercept': False, 'model__normalize': False, 'polynomial_fit__degree': 9} : \n",
      "train_score: -1562382.35920,test_score: -3.42035\n",
      "{'model': Ridge(alpha=0.1, copy_X=True, fit_intercept=True, max_iter=None,\n",
      "   normalize=True, random_state=None, solver='auto', tol=0.001), 'model__alpha': 0.001, 'model__fit_intercept': True, 'model__normalize': True, 'polynomial_fit__degree': 1} : \n",
      "train_score: 0.01334,test_score: 0.60347\n",
      "{'model': Ridge(alpha=0.1, copy_X=True, fit_intercept=True, max_iter=None,\n",
      "   normalize=True, random_state=None, solver='auto', tol=0.001), 'model__alpha': 0.001, 'model__fit_intercept': True, 'model__normalize': True, 'polynomial_fit__degree': 2} : \n",
      "train_score: -2.35249,test_score: 0.65142\n",
      "{'model': Ridge(alpha=0.1, copy_X=True, fit_intercept=True, max_iter=None,\n",
      "   normalize=True, random_state=None, solver='auto', tol=0.001), 'model__alpha': 0.001, 'model__fit_intercept': True, 'model__normalize': True, 'polynomial_fit__degree': 3} : \n",
      "train_score: 0.09748,test_score: 0.71378\n",
      "{'model': Ridge(alpha=0.1, copy_X=True, fit_intercept=True, max_iter=None,\n",
      "   normalize=True, random_state=None, solver='auto', tol=0.001), 'model__alpha': 0.001, 'model__fit_intercept': True, 'model__normalize': True, 'polynomial_fit__degree': 4} : \n",
      "train_score: -3.37230,test_score: 0.71682\n",
      "{'model': Ridge(alpha=0.1, copy_X=True, fit_intercept=True, max_iter=None,\n",
      "   normalize=True, random_state=None, solver='auto', tol=0.001), 'model__alpha': 0.001, 'model__fit_intercept': True, 'model__normalize': True, 'polynomial_fit__degree': 5} : \n",
      "train_score: -8.59553,test_score: 0.71981\n",
      "{'model': Ridge(alpha=0.1, copy_X=True, fit_intercept=True, max_iter=None,\n",
      "   normalize=True, random_state=None, solver='auto', tol=0.001), 'model__alpha': 0.001, 'model__fit_intercept': True, 'model__normalize': True, 'polynomial_fit__degree': 6} : \n",
      "train_score: -16.07392,test_score: 0.72210\n",
      "{'model': Ridge(alpha=0.1, copy_X=True, fit_intercept=True, max_iter=None,\n",
      "   normalize=True, random_state=None, solver='auto', tol=0.001), 'model__alpha': 0.001, 'model__fit_intercept': True, 'model__normalize': True, 'polynomial_fit__degree': 7} : \n",
      "train_score: -150.91605,test_score: 0.72267\n",
      "{'model': Ridge(alpha=0.1, copy_X=True, fit_intercept=True, max_iter=None,\n",
      "   normalize=True, random_state=None, solver='auto', tol=0.001), 'model__alpha': 0.001, 'model__fit_intercept': True, 'model__normalize': True, 'polynomial_fit__degree': 8} : \n",
      "train_score: -391.74133,test_score: 0.72325\n",
      "{'model': Ridge(alpha=0.1, copy_X=True, fit_intercept=True, max_iter=None,\n",
      "   normalize=True, random_state=None, solver='auto', tol=0.001), 'model__alpha': 0.001, 'model__fit_intercept': True, 'model__normalize': True, 'polynomial_fit__degree': 9} : \n",
      "train_score: -1864.75885,test_score: 0.72359\n",
      "{'model': Ridge(alpha=0.1, copy_X=True, fit_intercept=True, max_iter=None,\n",
      "   normalize=True, random_state=None, solver='auto', tol=0.001), 'model__alpha': 0.001, 'model__fit_intercept': True, 'model__normalize': False, 'polynomial_fit__degree': 1} : \n",
      "train_score: 0.01332,test_score: 0.60347\n",
      "{'model': Ridge(alpha=0.1, copy_X=True, fit_intercept=True, max_iter=None,\n",
      "   normalize=True, random_state=None, solver='auto', tol=0.001), 'model__alpha': 0.001, 'model__fit_intercept': True, 'model__normalize': False, 'polynomial_fit__degree': 2} : \n",
      "train_score: -2.35413,test_score: 0.65142\n",
      "{'model': Ridge(alpha=0.1, copy_X=True, fit_intercept=True, max_iter=None,\n",
      "   normalize=True, random_state=None, solver='auto', tol=0.001), 'model__alpha': 0.001, 'model__fit_intercept': True, 'model__normalize': False, 'polynomial_fit__degree': 3} : \n",
      "train_score: 0.09105,test_score: 0.71378\n",
      "{'model': Ridge(alpha=0.1, copy_X=True, fit_intercept=True, max_iter=None,\n",
      "   normalize=True, random_state=None, solver='auto', tol=0.001), 'model__alpha': 0.001, 'model__fit_intercept': True, 'model__normalize': False, 'polynomial_fit__degree': 4} : \n",
      "train_score: -3.48591,test_score: 0.71683\n",
      "{'model': Ridge(alpha=0.1, copy_X=True, fit_intercept=True, max_iter=None,\n",
      "   normalize=True, random_state=None, solver='auto', tol=0.001), 'model__alpha': 0.001, 'model__fit_intercept': True, 'model__normalize': False, 'polynomial_fit__degree': 5} : \n",
      "train_score: -14.76513,test_score: 0.71998\n",
      "{'model': Ridge(alpha=0.1, copy_X=True, fit_intercept=True, max_iter=None,\n",
      "   normalize=True, random_state=None, solver='auto', tol=0.001), 'model__alpha': 0.001, 'model__fit_intercept': True, 'model__normalize': False, 'polynomial_fit__degree': 6} : \n",
      "train_score: -41.81028,test_score: 0.72290\n",
      "{'model': Ridge(alpha=0.1, copy_X=True, fit_intercept=True, max_iter=None,\n",
      "   normalize=True, random_state=None, solver='auto', tol=0.001), 'model__alpha': 0.001, 'model__fit_intercept': True, 'model__normalize': False, 'polynomial_fit__degree': 7} : \n",
      "train_score: -397.60919,test_score: 0.72351\n",
      "{'model': Ridge(alpha=0.1, copy_X=True, fit_intercept=True, max_iter=None,\n",
      "   normalize=True, random_state=None, solver='auto', tol=0.001), 'model__alpha': 0.001, 'model__fit_intercept': True, 'model__normalize': False, 'polynomial_fit__degree': 8} : \n",
      "train_score: -3472.40604,test_score: 0.72391\n",
      "{'model': Ridge(alpha=0.1, copy_X=True, fit_intercept=True, max_iter=None,\n",
      "   normalize=True, random_state=None, solver='auto', tol=0.001), 'model__alpha': 0.001, 'model__fit_intercept': True, 'model__normalize': False, 'polynomial_fit__degree': 9} : \n",
      "train_score: -73751.10482,test_score: 0.72528\n",
      "{'model': Ridge(alpha=0.1, copy_X=True, fit_intercept=True, max_iter=None,\n",
      "   normalize=True, random_state=None, solver='auto', tol=0.001), 'model__alpha': 0.001, 'model__fit_intercept': False, 'model__normalize': True, 'polynomial_fit__degree': 1} : \n",
      "train_score: -61.70259,test_score: -26.88544\n",
      "{'model': Ridge(alpha=0.1, copy_X=True, fit_intercept=True, max_iter=None,\n",
      "   normalize=True, random_state=None, solver='auto', tol=0.001), 'model__alpha': 0.001, 'model__fit_intercept': False, 'model__normalize': True, 'polynomial_fit__degree': 2} : \n",
      "train_score: -137.91527,test_score: -10.58910\n",
      "{'model': Ridge(alpha=0.1, copy_X=True, fit_intercept=True, max_iter=None,\n",
      "   normalize=True, random_state=None, solver='auto', tol=0.001), 'model__alpha': 0.001, 'model__fit_intercept': False, 'model__normalize': True, 'polynomial_fit__degree': 3} : \n",
      "train_score: -143.58287,test_score: -10.40032\n",
      "{'model': Ridge(alpha=0.1, copy_X=True, fit_intercept=True, max_iter=None,\n",
      "   normalize=True, random_state=None, solver='auto', tol=0.001), 'model__alpha': 0.001, 'model__fit_intercept': False, 'model__normalize': True, 'polynomial_fit__degree': 4} : \n",
      "train_score: -2149.10069,test_score: -6.14225\n",
      "{'model': Ridge(alpha=0.1, copy_X=True, fit_intercept=True, max_iter=None,\n",
      "   normalize=True, random_state=None, solver='auto', tol=0.001), 'model__alpha': 0.001, 'model__fit_intercept': False, 'model__normalize': True, 'polynomial_fit__degree': 5} : \n",
      "train_score: -1684.45676,test_score: -5.94977\n",
      "{'model': Ridge(alpha=0.1, copy_X=True, fit_intercept=True, max_iter=None,\n",
      "   normalize=True, random_state=None, solver='auto', tol=0.001), 'model__alpha': 0.001, 'model__fit_intercept': False, 'model__normalize': True, 'polynomial_fit__degree': 6} : \n",
      "train_score: -61033.66120,test_score: -4.40189\n",
      "{'model': Ridge(alpha=0.1, copy_X=True, fit_intercept=True, max_iter=None,\n",
      "   normalize=True, random_state=None, solver='auto', tol=0.001), 'model__alpha': 0.001, 'model__fit_intercept': False, 'model__normalize': True, 'polynomial_fit__degree': 7} : \n",
      "train_score: -69108.20778,test_score: -4.27029\n",
      "{'model': Ridge(alpha=0.1, copy_X=True, fit_intercept=True, max_iter=None,\n",
      "   normalize=True, random_state=None, solver='auto', tol=0.001), 'model__alpha': 0.001, 'model__fit_intercept': False, 'model__normalize': True, 'polynomial_fit__degree': 8} : \n",
      "train_score: -2108941.17528,test_score: -3.46249\n",
      "{'model': Ridge(alpha=0.1, copy_X=True, fit_intercept=True, max_iter=None,\n",
      "   normalize=True, random_state=None, solver='auto', tol=0.001), 'model__alpha': 0.001, 'model__fit_intercept': False, 'model__normalize': True, 'polynomial_fit__degree': 9} : \n",
      "train_score: -1545698.08859,test_score: -3.42104\n",
      "{'model': Ridge(alpha=0.1, copy_X=True, fit_intercept=True, max_iter=None,\n",
      "   normalize=True, random_state=None, solver='auto', tol=0.001), 'model__alpha': 0.001, 'model__fit_intercept': False, 'model__normalize': False, 'polynomial_fit__degree': 1} : \n",
      "train_score: -61.70259,test_score: -26.88544\n",
      "{'model': Ridge(alpha=0.1, copy_X=True, fit_intercept=True, max_iter=None,\n",
      "   normalize=True, random_state=None, solver='auto', tol=0.001), 'model__alpha': 0.001, 'model__fit_intercept': False, 'model__normalize': False, 'polynomial_fit__degree': 2} : \n",
      "train_score: -137.91527,test_score: -10.58910\n",
      "{'model': Ridge(alpha=0.1, copy_X=True, fit_intercept=True, max_iter=None,\n",
      "   normalize=True, random_state=None, solver='auto', tol=0.001), 'model__alpha': 0.001, 'model__fit_intercept': False, 'model__normalize': False, 'polynomial_fit__degree': 3} : \n",
      "train_score: -143.58287,test_score: -10.40032\n",
      "{'model': Ridge(alpha=0.1, copy_X=True, fit_intercept=True, max_iter=None,\n",
      "   normalize=True, random_state=None, solver='auto', tol=0.001), 'model__alpha': 0.001, 'model__fit_intercept': False, 'model__normalize': False, 'polynomial_fit__degree': 4} : \n",
      "train_score: -2149.10069,test_score: -6.14225\n",
      "{'model': Ridge(alpha=0.1, copy_X=True, fit_intercept=True, max_iter=None,\n",
      "   normalize=True, random_state=None, solver='auto', tol=0.001), 'model__alpha': 0.001, 'model__fit_intercept': False, 'model__normalize': False, 'polynomial_fit__degree': 5} : \n",
      "train_score: -1684.45676,test_score: -5.94977\n",
      "{'model': Ridge(alpha=0.1, copy_X=True, fit_intercept=True, max_iter=None,\n",
      "   normalize=True, random_state=None, solver='auto', tol=0.001), 'model__alpha': 0.001, 'model__fit_intercept': False, 'model__normalize': False, 'polynomial_fit__degree': 6} : \n",
      "train_score: -61033.66120,test_score: -4.40189\n",
      "{'model': Ridge(alpha=0.1, copy_X=True, fit_intercept=True, max_iter=None,\n",
      "   normalize=True, random_state=None, solver='auto', tol=0.001), 'model__alpha': 0.001, 'model__fit_intercept': False, 'model__normalize': False, 'polynomial_fit__degree': 7} : \n",
      "train_score: -69108.20778,test_score: -4.27029\n",
      "{'model': Ridge(alpha=0.1, copy_X=True, fit_intercept=True, max_iter=None,\n",
      "   normalize=True, random_state=None, solver='auto', tol=0.001), 'model__alpha': 0.001, 'model__fit_intercept': False, 'model__normalize': False, 'polynomial_fit__degree': 8} : \n",
      "train_score: -2108941.17528,test_score: -3.46249\n",
      "{'model': Ridge(alpha=0.1, copy_X=True, fit_intercept=True, max_iter=None,\n",
      "   normalize=True, random_state=None, solver='auto', tol=0.001), 'model__alpha': 0.001, 'model__fit_intercept': False, 'model__normalize': False, 'polynomial_fit__degree': 9} : \n",
      "train_score: -1545698.08859,test_score: -3.42104\n",
      "{'model': Ridge(alpha=0.1, copy_X=True, fit_intercept=True, max_iter=None,\n",
      "   normalize=True, random_state=None, solver='auto', tol=0.001), 'model__alpha': 0.01, 'model__fit_intercept': True, 'model__normalize': True, 'polynomial_fit__degree': 1} : \n",
      "train_score: 0.01340,test_score: 0.60341\n",
      "{'model': Ridge(alpha=0.1, copy_X=True, fit_intercept=True, max_iter=None,\n",
      "   normalize=True, random_state=None, solver='auto', tol=0.001), 'model__alpha': 0.01, 'model__fit_intercept': True, 'model__normalize': True, 'polynomial_fit__degree': 2} : \n",
      "train_score: -2.33802,test_score: 0.65134\n",
      "{'model': Ridge(alpha=0.1, copy_X=True, fit_intercept=True, max_iter=None,\n",
      "   normalize=True, random_state=None, solver='auto', tol=0.001), 'model__alpha': 0.01, 'model__fit_intercept': True, 'model__normalize': True, 'polynomial_fit__degree': 3} : \n",
      "train_score: 0.14323,test_score: 0.71343\n",
      "{'model': Ridge(alpha=0.1, copy_X=True, fit_intercept=True, max_iter=None,\n",
      "   normalize=True, random_state=None, solver='auto', tol=0.001), 'model__alpha': 0.01, 'model__fit_intercept': True, 'model__normalize': True, 'polynomial_fit__degree': 4} : \n",
      "train_score: -2.62752,test_score: 0.71629\n",
      "{'model': Ridge(alpha=0.1, copy_X=True, fit_intercept=True, max_iter=None,\n",
      "   normalize=True, random_state=None, solver='auto', tol=0.001), 'model__alpha': 0.01, 'model__fit_intercept': True, 'model__normalize': True, 'polynomial_fit__degree': 5} : \n",
      "train_score: -0.09285,test_score: 0.71790\n",
      "{'model': Ridge(alpha=0.1, copy_X=True, fit_intercept=True, max_iter=None,\n",
      "   normalize=True, random_state=None, solver='auto', tol=0.001), 'model__alpha': 0.01, 'model__fit_intercept': True, 'model__normalize': True, 'polynomial_fit__degree': 6} : \n",
      "train_score: -1.63493,test_score: 0.71880\n",
      "{'model': Ridge(alpha=0.1, copy_X=True, fit_intercept=True, max_iter=None,\n",
      "   normalize=True, random_state=None, solver='auto', tol=0.001), 'model__alpha': 0.01, 'model__fit_intercept': True, 'model__normalize': True, 'polynomial_fit__degree': 7} : \n",
      "train_score: -33.21952,test_score: 0.71992\n",
      "{'model': Ridge(alpha=0.1, copy_X=True, fit_intercept=True, max_iter=None,\n",
      "   normalize=True, random_state=None, solver='auto', tol=0.001), 'model__alpha': 0.01, 'model__fit_intercept': True, 'model__normalize': True, 'polynomial_fit__degree': 8} : \n",
      "train_score: -56.04551,test_score: 0.72078\n",
      "{'model': Ridge(alpha=0.1, copy_X=True, fit_intercept=True, max_iter=None,\n",
      "   normalize=True, random_state=None, solver='auto', tol=0.001), 'model__alpha': 0.01, 'model__fit_intercept': True, 'model__normalize': True, 'polynomial_fit__degree': 9} : \n",
      "train_score: -540.95587,test_score: 0.72152\n",
      "{'model': Ridge(alpha=0.1, copy_X=True, fit_intercept=True, max_iter=None,\n",
      "   normalize=True, random_state=None, solver='auto', tol=0.001), 'model__alpha': 0.01, 'model__fit_intercept': True, 'model__normalize': False, 'polynomial_fit__degree': 1} : \n",
      "train_score: 0.01332,test_score: 0.60347\n",
      "{'model': Ridge(alpha=0.1, copy_X=True, fit_intercept=True, max_iter=None,\n",
      "   normalize=True, random_state=None, solver='auto', tol=0.001), 'model__alpha': 0.01, 'model__fit_intercept': True, 'model__normalize': False, 'polynomial_fit__degree': 2} : \n",
      "train_score: -2.35397,test_score: 0.65142\n",
      "{'model': Ridge(alpha=0.1, copy_X=True, fit_intercept=True, max_iter=None,\n",
      "   normalize=True, random_state=None, solver='auto', tol=0.001), 'model__alpha': 0.01, 'model__fit_intercept': True, 'model__normalize': False, 'polynomial_fit__degree': 3} : \n",
      "train_score: 0.09095,test_score: 0.71378\n",
      "{'model': Ridge(alpha=0.1, copy_X=True, fit_intercept=True, max_iter=None,\n",
      "   normalize=True, random_state=None, solver='auto', tol=0.001), 'model__alpha': 0.01, 'model__fit_intercept': True, 'model__normalize': False, 'polynomial_fit__degree': 4} : \n",
      "train_score: -3.48212,test_score: 0.71683\n",
      "{'model': Ridge(alpha=0.1, copy_X=True, fit_intercept=True, max_iter=None,\n",
      "   normalize=True, random_state=None, solver='auto', tol=0.001), 'model__alpha': 0.01, 'model__fit_intercept': True, 'model__normalize': False, 'polynomial_fit__degree': 5} : \n",
      "train_score: -14.65467,test_score: 0.71998\n",
      "{'model': Ridge(alpha=0.1, copy_X=True, fit_intercept=True, max_iter=None,\n",
      "   normalize=True, random_state=None, solver='auto', tol=0.001), 'model__alpha': 0.01, 'model__fit_intercept': True, 'model__normalize': False, 'polynomial_fit__degree': 6} : \n",
      "train_score: -41.21410,test_score: 0.72290\n",
      "{'model': Ridge(alpha=0.1, copy_X=True, fit_intercept=True, max_iter=None,\n",
      "   normalize=True, random_state=None, solver='auto', tol=0.001), 'model__alpha': 0.01, 'model__fit_intercept': True, 'model__normalize': False, 'polynomial_fit__degree': 7} : \n",
      "train_score: -395.26713,test_score: 0.72351\n",
      "{'model': Ridge(alpha=0.1, copy_X=True, fit_intercept=True, max_iter=None,\n",
      "   normalize=True, random_state=None, solver='auto', tol=0.001), 'model__alpha': 0.01, 'model__fit_intercept': True, 'model__normalize': False, 'polynomial_fit__degree': 8} : \n",
      "train_score: -3282.53631,test_score: 0.72390\n",
      "{'model': Ridge(alpha=0.1, copy_X=True, fit_intercept=True, max_iter=None,\n",
      "   normalize=True, random_state=None, solver='auto', tol=0.001), 'model__alpha': 0.01, 'model__fit_intercept': True, 'model__normalize': False, 'polynomial_fit__degree': 9} : \n",
      "train_score: -58660.84290,test_score: 0.72520\n",
      "{'model': Ridge(alpha=0.1, copy_X=True, fit_intercept=True, max_iter=None,\n",
      "   normalize=True, random_state=None, solver='auto', tol=0.001), 'model__alpha': 0.01, 'model__fit_intercept': False, 'model__normalize': True, 'polynomial_fit__degree': 1} : \n",
      "train_score: -61.70249,test_score: -26.88544\n",
      "{'model': Ridge(alpha=0.1, copy_X=True, fit_intercept=True, max_iter=None,\n",
      "   normalize=True, random_state=None, solver='auto', tol=0.001), 'model__alpha': 0.01, 'model__fit_intercept': False, 'model__normalize': True, 'polynomial_fit__degree': 2} : \n",
      "train_score: -137.90507,test_score: -10.58910\n",
      "{'model': Ridge(alpha=0.1, copy_X=True, fit_intercept=True, max_iter=None,\n",
      "   normalize=True, random_state=None, solver='auto', tol=0.001), 'model__alpha': 0.01, 'model__fit_intercept': False, 'model__normalize': True, 'polynomial_fit__degree': 3} : \n",
      "train_score: -143.56396,test_score: -10.40032\n",
      "{'model': Ridge(alpha=0.1, copy_X=True, fit_intercept=True, max_iter=None,\n",
      "   normalize=True, random_state=None, solver='auto', tol=0.001), 'model__alpha': 0.01, 'model__fit_intercept': False, 'model__normalize': True, 'polynomial_fit__degree': 4} : \n",
      "train_score: -2145.83178,test_score: -6.14225\n",
      "{'model': Ridge(alpha=0.1, copy_X=True, fit_intercept=True, max_iter=None,\n",
      "   normalize=True, random_state=None, solver='auto', tol=0.001), 'model__alpha': 0.01, 'model__fit_intercept': False, 'model__normalize': True, 'polynomial_fit__degree': 5} : \n",
      "train_score: -1682.57248,test_score: -5.94980\n",
      "{'model': Ridge(alpha=0.1, copy_X=True, fit_intercept=True, max_iter=None,\n",
      "   normalize=True, random_state=None, solver='auto', tol=0.001), 'model__alpha': 0.01, 'model__fit_intercept': False, 'model__normalize': True, 'polynomial_fit__degree': 6} : \n",
      "train_score: -60122.86263,test_score: -4.40208\n",
      "{'model': Ridge(alpha=0.1, copy_X=True, fit_intercept=True, max_iter=None,\n",
      "   normalize=True, random_state=None, solver='auto', tol=0.001), 'model__alpha': 0.01, 'model__fit_intercept': False, 'model__normalize': True, 'polynomial_fit__degree': 7} : \n",
      "train_score: -68125.97808,test_score: -4.27219\n",
      "{'model': Ridge(alpha=0.1, copy_X=True, fit_intercept=True, max_iter=None,\n",
      "   normalize=True, random_state=None, solver='auto', tol=0.001), 'model__alpha': 0.01, 'model__fit_intercept': False, 'model__normalize': True, 'polynomial_fit__degree': 8} : \n",
      "train_score: -1841431.56072,test_score: -3.47129\n",
      "{'model': Ridge(alpha=0.1, copy_X=True, fit_intercept=True, max_iter=None,\n",
      "   normalize=True, random_state=None, solver='auto', tol=0.001), 'model__alpha': 0.01, 'model__fit_intercept': False, 'model__normalize': True, 'polynomial_fit__degree': 9} : \n",
      "train_score: -1380751.00480,test_score: -3.44584\n",
      "{'model': Ridge(alpha=0.1, copy_X=True, fit_intercept=True, max_iter=None,\n",
      "   normalize=True, random_state=None, solver='auto', tol=0.001), 'model__alpha': 0.01, 'model__fit_intercept': False, 'model__normalize': False, 'polynomial_fit__degree': 1} : \n",
      "train_score: -61.70249,test_score: -26.88544\n",
      "{'model': Ridge(alpha=0.1, copy_X=True, fit_intercept=True, max_iter=None,\n",
      "   normalize=True, random_state=None, solver='auto', tol=0.001), 'model__alpha': 0.01, 'model__fit_intercept': False, 'model__normalize': False, 'polynomial_fit__degree': 2} : \n",
      "train_score: -137.90507,test_score: -10.58910\n",
      "{'model': Ridge(alpha=0.1, copy_X=True, fit_intercept=True, max_iter=None,\n",
      "   normalize=True, random_state=None, solver='auto', tol=0.001), 'model__alpha': 0.01, 'model__fit_intercept': False, 'model__normalize': False, 'polynomial_fit__degree': 3} : \n",
      "train_score: -143.56396,test_score: -10.40032\n",
      "{'model': Ridge(alpha=0.1, copy_X=True, fit_intercept=True, max_iter=None,\n",
      "   normalize=True, random_state=None, solver='auto', tol=0.001), 'model__alpha': 0.01, 'model__fit_intercept': False, 'model__normalize': False, 'polynomial_fit__degree': 4} : \n",
      "train_score: -2145.83178,test_score: -6.14225\n",
      "{'model': Ridge(alpha=0.1, copy_X=True, fit_intercept=True, max_iter=None,\n",
      "   normalize=True, random_state=None, solver='auto', tol=0.001), 'model__alpha': 0.01, 'model__fit_intercept': False, 'model__normalize': False, 'polynomial_fit__degree': 5} : \n",
      "train_score: -1682.57248,test_score: -5.94980\n",
      "{'model': Ridge(alpha=0.1, copy_X=True, fit_intercept=True, max_iter=None,\n",
      "   normalize=True, random_state=None, solver='auto', tol=0.001), 'model__alpha': 0.01, 'model__fit_intercept': False, 'model__normalize': False, 'polynomial_fit__degree': 6} : \n",
      "train_score: -60122.86263,test_score: -4.40208\n",
      "{'model': Ridge(alpha=0.1, copy_X=True, fit_intercept=True, max_iter=None,\n",
      "   normalize=True, random_state=None, solver='auto', tol=0.001), 'model__alpha': 0.01, 'model__fit_intercept': False, 'model__normalize': False, 'polynomial_fit__degree': 7} : \n",
      "train_score: -68125.97808,test_score: -4.27219\n",
      "{'model': Ridge(alpha=0.1, copy_X=True, fit_intercept=True, max_iter=None,\n",
      "   normalize=True, random_state=None, solver='auto', tol=0.001), 'model__alpha': 0.01, 'model__fit_intercept': False, 'model__normalize': False, 'polynomial_fit__degree': 8} : \n",
      "train_score: -1841431.56072,test_score: -3.47129\n",
      "{'model': Ridge(alpha=0.1, copy_X=True, fit_intercept=True, max_iter=None,\n",
      "   normalize=True, random_state=None, solver='auto', tol=0.001), 'model__alpha': 0.01, 'model__fit_intercept': False, 'model__normalize': False, 'polynomial_fit__degree': 9} : \n",
      "train_score: -1380751.00480,test_score: -3.44584\n",
      "{'model': Ridge(alpha=0.1, copy_X=True, fit_intercept=True, max_iter=None,\n",
      "   normalize=True, random_state=None, solver='auto', tol=0.001), 'model__alpha': 0.1, 'model__fit_intercept': True, 'model__normalize': True, 'polynomial_fit__degree': 1} : \n",
      "train_score: -0.00134,test_score: 0.59849\n",
      "{'model': Ridge(alpha=0.1, copy_X=True, fit_intercept=True, max_iter=None,\n",
      "   normalize=True, random_state=None, solver='auto', tol=0.001), 'model__alpha': 0.1, 'model__fit_intercept': True, 'model__normalize': True, 'polynomial_fit__degree': 2} : \n",
      "train_score: -2.22906,test_score: 0.64513\n",
      "{'model': Ridge(alpha=0.1, copy_X=True, fit_intercept=True, max_iter=None,\n",
      "   normalize=True, random_state=None, solver='auto', tol=0.001), 'model__alpha': 0.1, 'model__fit_intercept': True, 'model__normalize': True, 'polynomial_fit__degree': 3} : \n",
      "train_score: 0.26333,test_score: 0.70574\n",
      "{'model': Ridge(alpha=0.1, copy_X=True, fit_intercept=True, max_iter=None,\n",
      "   normalize=True, random_state=None, solver='auto', tol=0.001), 'model__alpha': 0.1, 'model__fit_intercept': True, 'model__normalize': True, 'polynomial_fit__degree': 4} : \n",
      "train_score: -1.31969,test_score: 0.70791\n",
      "{'model': Ridge(alpha=0.1, copy_X=True, fit_intercept=True, max_iter=None,\n",
      "   normalize=True, random_state=None, solver='auto', tol=0.001), 'model__alpha': 0.1, 'model__fit_intercept': True, 'model__normalize': True, 'polynomial_fit__degree': 5} : \n",
      "train_score: -0.74119,test_score: 0.71306\n",
      "{'model': Ridge(alpha=0.1, copy_X=True, fit_intercept=True, max_iter=None,\n",
      "   normalize=True, random_state=None, solver='auto', tol=0.001), 'model__alpha': 0.1, 'model__fit_intercept': True, 'model__normalize': True, 'polynomial_fit__degree': 6} : \n",
      "train_score: -2.63047,test_score: 0.71374\n",
      "{'model': Ridge(alpha=0.1, copy_X=True, fit_intercept=True, max_iter=None,\n",
      "   normalize=True, random_state=None, solver='auto', tol=0.001), 'model__alpha': 0.1, 'model__fit_intercept': True, 'model__normalize': True, 'polynomial_fit__degree': 7} : \n",
      "train_score: -3.48873,test_score: 0.71391\n",
      "{'model': Ridge(alpha=0.1, copy_X=True, fit_intercept=True, max_iter=None,\n",
      "   normalize=True, random_state=None, solver='auto', tol=0.001), 'model__alpha': 0.1, 'model__fit_intercept': True, 'model__normalize': True, 'polynomial_fit__degree': 8} : \n",
      "train_score: -8.04457,test_score: 0.71454\n",
      "{'model': Ridge(alpha=0.1, copy_X=True, fit_intercept=True, max_iter=None,\n",
      "   normalize=True, random_state=None, solver='auto', tol=0.001), 'model__alpha': 0.1, 'model__fit_intercept': True, 'model__normalize': True, 'polynomial_fit__degree': 9} : \n",
      "train_score: -30.52110,test_score: 0.71497\n",
      "{'model': Ridge(alpha=0.1, copy_X=True, fit_intercept=True, max_iter=None,\n",
      "   normalize=True, random_state=None, solver='auto', tol=0.001), 'model__alpha': 0.1, 'model__fit_intercept': True, 'model__normalize': False, 'polynomial_fit__degree': 1} : \n",
      "train_score: 0.01334,test_score: 0.60347\n",
      "{'model': Ridge(alpha=0.1, copy_X=True, fit_intercept=True, max_iter=None,\n",
      "   normalize=True, random_state=None, solver='auto', tol=0.001), 'model__alpha': 0.1, 'model__fit_intercept': True, 'model__normalize': False, 'polynomial_fit__degree': 2} : \n",
      "train_score: -2.35235,test_score: 0.65142\n",
      "{'model': Ridge(alpha=0.1, copy_X=True, fit_intercept=True, max_iter=None,\n",
      "   normalize=True, random_state=None, solver='auto', tol=0.001), 'model__alpha': 0.1, 'model__fit_intercept': True, 'model__normalize': False, 'polynomial_fit__degree': 3} : \n",
      "train_score: 0.08994,test_score: 0.71378\n",
      "{'model': Ridge(alpha=0.1, copy_X=True, fit_intercept=True, max_iter=None,\n",
      "   normalize=True, random_state=None, solver='auto', tol=0.001), 'model__alpha': 0.1, 'model__fit_intercept': True, 'model__normalize': False, 'polynomial_fit__degree': 4} : \n",
      "train_score: -3.44495,test_score: 0.71683\n",
      "{'model': Ridge(alpha=0.1, copy_X=True, fit_intercept=True, max_iter=None,\n",
      "   normalize=True, random_state=None, solver='auto', tol=0.001), 'model__alpha': 0.1, 'model__fit_intercept': True, 'model__normalize': False, 'polynomial_fit__degree': 5} : \n",
      "train_score: -13.61075,test_score: 0.71997\n",
      "{'model': Ridge(alpha=0.1, copy_X=True, fit_intercept=True, max_iter=None,\n",
      "   normalize=True, random_state=None, solver='auto', tol=0.001), 'model__alpha': 0.1, 'model__fit_intercept': True, 'model__normalize': False, 'polynomial_fit__degree': 6} : \n",
      "train_score: -35.92709,test_score: 0.72284\n",
      "{'model': Ridge(alpha=0.1, copy_X=True, fit_intercept=True, max_iter=None,\n",
      "   normalize=True, random_state=None, solver='auto', tol=0.001), 'model__alpha': 0.1, 'model__fit_intercept': True, 'model__normalize': False, 'polynomial_fit__degree': 7} : \n",
      "train_score: -374.92469,test_score: 0.72345\n",
      "{'model': Ridge(alpha=0.1, copy_X=True, fit_intercept=True, max_iter=None,\n",
      "   normalize=True, random_state=None, solver='auto', tol=0.001), 'model__alpha': 0.1, 'model__fit_intercept': True, 'model__normalize': False, 'polynomial_fit__degree': 8} : \n",
      "train_score: -2283.31265,test_score: 0.72384\n",
      "{'model': Ridge(alpha=0.1, copy_X=True, fit_intercept=True, max_iter=None,\n",
      "   normalize=True, random_state=None, solver='auto', tol=0.001), 'model__alpha': 0.1, 'model__fit_intercept': True, 'model__normalize': False, 'polynomial_fit__degree': 9} : \n",
      "train_score: -20481.09467,test_score: 0.72463\n",
      "{'model': Ridge(alpha=0.1, copy_X=True, fit_intercept=True, max_iter=None,\n",
      "   normalize=True, random_state=None, solver='auto', tol=0.001), 'model__alpha': 0.1, 'model__fit_intercept': False, 'model__normalize': True, 'polynomial_fit__degree': 1} : \n",
      "train_score: -61.70145,test_score: -26.88544\n",
      "{'model': Ridge(alpha=0.1, copy_X=True, fit_intercept=True, max_iter=None,\n",
      "   normalize=True, random_state=None, solver='auto', tol=0.001), 'model__alpha': 0.1, 'model__fit_intercept': False, 'model__normalize': True, 'polynomial_fit__degree': 2} : \n",
      "train_score: -137.80314,test_score: -10.58911\n",
      "{'model': Ridge(alpha=0.1, copy_X=True, fit_intercept=True, max_iter=None,\n",
      "   normalize=True, random_state=None, solver='auto', tol=0.001), 'model__alpha': 0.1, 'model__fit_intercept': False, 'model__normalize': True, 'polynomial_fit__degree': 3} : \n",
      "train_score: -143.37573,test_score: -10.40034\n",
      "{'model': Ridge(alpha=0.1, copy_X=True, fit_intercept=True, max_iter=None,\n",
      "   normalize=True, random_state=None, solver='auto', tol=0.001), 'model__alpha': 0.1, 'model__fit_intercept': False, 'model__normalize': True, 'polynomial_fit__degree': 4} : \n",
      "train_score: -2113.45478,test_score: -6.14262\n",
      "{'model': Ridge(alpha=0.1, copy_X=True, fit_intercept=True, max_iter=None,\n",
      "   normalize=True, random_state=None, solver='auto', tol=0.001), 'model__alpha': 0.1, 'model__fit_intercept': False, 'model__normalize': True, 'polynomial_fit__degree': 5} : \n",
      "train_score: -1663.78693,test_score: -5.95202\n",
      "{'model': Ridge(alpha=0.1, copy_X=True, fit_intercept=True, max_iter=None,\n",
      "   normalize=True, random_state=None, solver='auto', tol=0.001), 'model__alpha': 0.1, 'model__fit_intercept': False, 'model__normalize': True, 'polynomial_fit__degree': 6} : \n",
      "train_score: -51801.12235,test_score: -4.41814\n",
      "{'model': Ridge(alpha=0.1, copy_X=True, fit_intercept=True, max_iter=None,\n",
      "   normalize=True, random_state=None, solver='auto', tol=0.001), 'model__alpha': 0.1, 'model__fit_intercept': False, 'model__normalize': True, 'polynomial_fit__degree': 7} : \n",
      "train_score: -59169.04873,test_score: -4.33304\n",
      "{'model': Ridge(alpha=0.1, copy_X=True, fit_intercept=True, max_iter=None,\n",
      "   normalize=True, random_state=None, solver='auto', tol=0.001), 'model__alpha': 0.1, 'model__fit_intercept': False, 'model__normalize': True, 'polynomial_fit__degree': 8} : \n",
      "train_score: -501714.74556,test_score: -3.75535\n",
      "{'model': Ridge(alpha=0.1, copy_X=True, fit_intercept=True, max_iter=None,\n",
      "   normalize=True, random_state=None, solver='auto', tol=0.001), 'model__alpha': 0.1, 'model__fit_intercept': False, 'model__normalize': True, 'polynomial_fit__degree': 9} : \n",
      "train_score: -376648.41319,test_score: -3.76005\n",
      "{'model': Ridge(alpha=0.1, copy_X=True, fit_intercept=True, max_iter=None,\n",
      "   normalize=True, random_state=None, solver='auto', tol=0.001), 'model__alpha': 0.1, 'model__fit_intercept': False, 'model__normalize': False, 'polynomial_fit__degree': 1} : \n",
      "train_score: -61.70145,test_score: -26.88544\n",
      "{'model': Ridge(alpha=0.1, copy_X=True, fit_intercept=True, max_iter=None,\n",
      "   normalize=True, random_state=None, solver='auto', tol=0.001), 'model__alpha': 0.1, 'model__fit_intercept': False, 'model__normalize': False, 'polynomial_fit__degree': 2} : \n",
      "train_score: -137.80314,test_score: -10.58911\n",
      "{'model': Ridge(alpha=0.1, copy_X=True, fit_intercept=True, max_iter=None,\n",
      "   normalize=True, random_state=None, solver='auto', tol=0.001), 'model__alpha': 0.1, 'model__fit_intercept': False, 'model__normalize': False, 'polynomial_fit__degree': 3} : \n",
      "train_score: -143.37573,test_score: -10.40034\n",
      "{'model': Ridge(alpha=0.1, copy_X=True, fit_intercept=True, max_iter=None,\n",
      "   normalize=True, random_state=None, solver='auto', tol=0.001), 'model__alpha': 0.1, 'model__fit_intercept': False, 'model__normalize': False, 'polynomial_fit__degree': 4} : \n",
      "train_score: -2113.45478,test_score: -6.14262\n",
      "{'model': Ridge(alpha=0.1, copy_X=True, fit_intercept=True, max_iter=None,\n",
      "   normalize=True, random_state=None, solver='auto', tol=0.001), 'model__alpha': 0.1, 'model__fit_intercept': False, 'model__normalize': False, 'polynomial_fit__degree': 5} : \n",
      "train_score: -1663.78693,test_score: -5.95202\n",
      "{'model': Ridge(alpha=0.1, copy_X=True, fit_intercept=True, max_iter=None,\n",
      "   normalize=True, random_state=None, solver='auto', tol=0.001), 'model__alpha': 0.1, 'model__fit_intercept': False, 'model__normalize': False, 'polynomial_fit__degree': 6} : \n",
      "train_score: -51801.12235,test_score: -4.41814\n",
      "{'model': Ridge(alpha=0.1, copy_X=True, fit_intercept=True, max_iter=None,\n",
      "   normalize=True, random_state=None, solver='auto', tol=0.001), 'model__alpha': 0.1, 'model__fit_intercept': False, 'model__normalize': False, 'polynomial_fit__degree': 7} : \n",
      "train_score: -59169.04873,test_score: -4.33304\n",
      "{'model': Ridge(alpha=0.1, copy_X=True, fit_intercept=True, max_iter=None,\n",
      "   normalize=True, random_state=None, solver='auto', tol=0.001), 'model__alpha': 0.1, 'model__fit_intercept': False, 'model__normalize': False, 'polynomial_fit__degree': 8} : \n",
      "train_score: -501714.74556,test_score: -3.75535\n",
      "{'model': Ridge(alpha=0.1, copy_X=True, fit_intercept=True, max_iter=None,\n",
      "   normalize=True, random_state=None, solver='auto', tol=0.001), 'model__alpha': 0.1, 'model__fit_intercept': False, 'model__normalize': False, 'polynomial_fit__degree': 9} : \n",
      "train_score: -376648.41319,test_score: -3.76005\n",
      "{'model': Ridge(alpha=0.1, copy_X=True, fit_intercept=True, max_iter=None,\n",
      "   normalize=True, random_state=None, solver='auto', tol=0.001), 'model__alpha': 1, 'model__fit_intercept': True, 'model__normalize': True, 'polynomial_fit__degree': 1} : \n",
      "train_score: -0.49535,test_score: 0.45260\n",
      "{'model': Ridge(alpha=0.1, copy_X=True, fit_intercept=True, max_iter=None,\n",
      "   normalize=True, random_state=None, solver='auto', tol=0.001), 'model__alpha': 1, 'model__fit_intercept': True, 'model__normalize': True, 'polynomial_fit__degree': 2} : \n",
      "train_score: -2.02872,test_score: 0.48762\n",
      "{'model': Ridge(alpha=0.1, copy_X=True, fit_intercept=True, max_iter=None,\n",
      "   normalize=True, random_state=None, solver='auto', tol=0.001), 'model__alpha': 1, 'model__fit_intercept': True, 'model__normalize': True, 'polynomial_fit__degree': 3} : \n",
      "train_score: 0.19091,test_score: 0.60842\n",
      "{'model': Ridge(alpha=0.1, copy_X=True, fit_intercept=True, max_iter=None,\n",
      "   normalize=True, random_state=None, solver='auto', tol=0.001), 'model__alpha': 1, 'model__fit_intercept': True, 'model__normalize': True, 'polynomial_fit__degree': 4} : \n",
      "train_score: -1.46446,test_score: 0.61510\n",
      "{'model': Ridge(alpha=0.1, copy_X=True, fit_intercept=True, max_iter=None,\n",
      "   normalize=True, random_state=None, solver='auto', tol=0.001), 'model__alpha': 1, 'model__fit_intercept': True, 'model__normalize': True, 'polynomial_fit__degree': 5} : \n",
      "train_score: -0.74322,test_score: 0.65063\n",
      "{'model': Ridge(alpha=0.1, copy_X=True, fit_intercept=True, max_iter=None,\n",
      "   normalize=True, random_state=None, solver='auto', tol=0.001), 'model__alpha': 1, 'model__fit_intercept': True, 'model__normalize': True, 'polynomial_fit__degree': 6} : \n",
      "train_score: -0.86868,test_score: 0.65176\n",
      "{'model': Ridge(alpha=0.1, copy_X=True, fit_intercept=True, max_iter=None,\n",
      "   normalize=True, random_state=None, solver='auto', tol=0.001), 'model__alpha': 1, 'model__fit_intercept': True, 'model__normalize': True, 'polynomial_fit__degree': 7} : \n",
      "train_score: -12.04822,test_score: 0.66010\n",
      "{'model': Ridge(alpha=0.1, copy_X=True, fit_intercept=True, max_iter=None,\n",
      "   normalize=True, random_state=None, solver='auto', tol=0.001), 'model__alpha': 1, 'model__fit_intercept': True, 'model__normalize': True, 'polynomial_fit__degree': 8} : \n",
      "train_score: -2.45442,test_score: 0.65994\n",
      "{'model': Ridge(alpha=0.1, copy_X=True, fit_intercept=True, max_iter=None,\n",
      "   normalize=True, random_state=None, solver='auto', tol=0.001), 'model__alpha': 1, 'model__fit_intercept': True, 'model__normalize': True, 'polynomial_fit__degree': 9} : \n",
      "train_score: -68.73439,test_score: 0.66055\n",
      "{'model': Ridge(alpha=0.1, copy_X=True, fit_intercept=True, max_iter=None,\n",
      "   normalize=True, random_state=None, solver='auto', tol=0.001), 'model__alpha': 1, 'model__fit_intercept': True, 'model__normalize': False, 'polynomial_fit__degree': 1} : \n",
      "train_score: 0.01342,test_score: 0.60345\n",
      "{'model': Ridge(alpha=0.1, copy_X=True, fit_intercept=True, max_iter=None,\n",
      "   normalize=True, random_state=None, solver='auto', tol=0.001), 'model__alpha': 1, 'model__fit_intercept': True, 'model__normalize': False, 'polynomial_fit__degree': 2} : \n",
      "train_score: -2.33651,test_score: 0.65138\n",
      "{'model': Ridge(alpha=0.1, copy_X=True, fit_intercept=True, max_iter=None,\n",
      "   normalize=True, random_state=None, solver='auto', tol=0.001), 'model__alpha': 1, 'model__fit_intercept': True, 'model__normalize': False, 'polynomial_fit__degree': 3} : \n",
      "train_score: 0.07921,test_score: 0.71375\n",
      "{'model': Ridge(alpha=0.1, copy_X=True, fit_intercept=True, max_iter=None,\n",
      "   normalize=True, random_state=None, solver='auto', tol=0.001), 'model__alpha': 1, 'model__fit_intercept': True, 'model__normalize': False, 'polynomial_fit__degree': 4} : \n",
      "train_score: -3.13214,test_score: 0.71676\n",
      "{'model': Ridge(alpha=0.1, copy_X=True, fit_intercept=True, max_iter=None,\n",
      "   normalize=True, random_state=None, solver='auto', tol=0.001), 'model__alpha': 1, 'model__fit_intercept': True, 'model__normalize': False, 'polynomial_fit__degree': 5} : \n",
      "train_score: -7.15214,test_score: 0.71954\n",
      "{'model': Ridge(alpha=0.1, copy_X=True, fit_intercept=True, max_iter=None,\n",
      "   normalize=True, random_state=None, solver='auto', tol=0.001), 'model__alpha': 1, 'model__fit_intercept': True, 'model__normalize': False, 'polynomial_fit__degree': 6} : \n",
      "train_score: -14.03670,test_score: 0.72172\n",
      "{'model': Ridge(alpha=0.1, copy_X=True, fit_intercept=True, max_iter=None,\n",
      "   normalize=True, random_state=None, solver='auto', tol=0.001), 'model__alpha': 1, 'model__fit_intercept': True, 'model__normalize': False, 'polynomial_fit__degree': 7} : \n",
      "train_score: -279.40651,test_score: 0.72263\n",
      "{'model': Ridge(alpha=0.1, copy_X=True, fit_intercept=True, max_iter=None,\n",
      "   normalize=True, random_state=None, solver='auto', tol=0.001), 'model__alpha': 1, 'model__fit_intercept': True, 'model__normalize': False, 'polynomial_fit__degree': 8} : \n",
      "train_score: -1091.78436,test_score: 0.72355\n",
      "{'model': Ridge(alpha=0.1, copy_X=True, fit_intercept=True, max_iter=None,\n",
      "   normalize=True, random_state=None, solver='auto', tol=0.001), 'model__alpha': 1, 'model__fit_intercept': True, 'model__normalize': False, 'polynomial_fit__degree': 9} : \n",
      "train_score: -6853.20500,test_score: 0.72391\n",
      "{'model': Ridge(alpha=0.1, copy_X=True, fit_intercept=True, max_iter=None,\n",
      "   normalize=True, random_state=None, solver='auto', tol=0.001), 'model__alpha': 1, 'model__fit_intercept': False, 'model__normalize': True, 'polynomial_fit__degree': 1} : \n",
      "train_score: -61.69121,test_score: -26.88546\n",
      "{'model': Ridge(alpha=0.1, copy_X=True, fit_intercept=True, max_iter=None,\n",
      "   normalize=True, random_state=None, solver='auto', tol=0.001), 'model__alpha': 1, 'model__fit_intercept': False, 'model__normalize': True, 'polynomial_fit__degree': 2} : \n",
      "train_score: -136.79059,test_score: -10.58944\n",
      "{'model': Ridge(alpha=0.1, copy_X=True, fit_intercept=True, max_iter=None,\n",
      "   normalize=True, random_state=None, solver='auto', tol=0.001), 'model__alpha': 1, 'model__fit_intercept': False, 'model__normalize': True, 'polynomial_fit__degree': 3} : \n",
      "train_score: -141.57406,test_score: -10.40166\n",
      "{'model': Ridge(alpha=0.1, copy_X=True, fit_intercept=True, max_iter=None,\n",
      "   normalize=True, random_state=None, solver='auto', tol=0.001), 'model__alpha': 1, 'model__fit_intercept': False, 'model__normalize': True, 'polynomial_fit__degree': 4} : \n",
      "train_score: -1818.62287,test_score: -6.17492\n",
      "{'model': Ridge(alpha=0.1, copy_X=True, fit_intercept=True, max_iter=None,\n",
      "   normalize=True, random_state=None, solver='auto', tol=0.001), 'model__alpha': 1, 'model__fit_intercept': False, 'model__normalize': True, 'polynomial_fit__degree': 5} : \n",
      "train_score: -1477.99365,test_score: -6.03929\n",
      "{'model': Ridge(alpha=0.1, copy_X=True, fit_intercept=True, max_iter=None,\n",
      "   normalize=True, random_state=None, solver='auto', tol=0.001), 'model__alpha': 1, 'model__fit_intercept': False, 'model__normalize': True, 'polynomial_fit__degree': 6} : \n",
      "train_score: -12395.30198,test_score: -5.00828\n",
      "{'model': Ridge(alpha=0.1, copy_X=True, fit_intercept=True, max_iter=None,\n",
      "   normalize=True, random_state=None, solver='auto', tol=0.001), 'model__alpha': 1, 'model__fit_intercept': False, 'model__normalize': True, 'polynomial_fit__degree': 7} : \n",
      "train_score: -16025.28211,test_score: -5.00864\n",
      "{'model': Ridge(alpha=0.1, copy_X=True, fit_intercept=True, max_iter=None,\n",
      "   normalize=True, random_state=None, solver='auto', tol=0.001), 'model__alpha': 1, 'model__fit_intercept': False, 'model__normalize': True, 'polynomial_fit__degree': 8} : \n",
      "train_score: -159241.80827,test_score: -5.05895\n",
      "{'model': Ridge(alpha=0.1, copy_X=True, fit_intercept=True, max_iter=None,\n",
      "   normalize=True, random_state=None, solver='auto', tol=0.001), 'model__alpha': 1, 'model__fit_intercept': False, 'model__normalize': True, 'polynomial_fit__degree': 9} : \n",
      "train_score: -202639.20964,test_score: -5.03649\n",
      "{'model': Ridge(alpha=0.1, copy_X=True, fit_intercept=True, max_iter=None,\n",
      "   normalize=True, random_state=None, solver='auto', tol=0.001), 'model__alpha': 1, 'model__fit_intercept': False, 'model__normalize': False, 'polynomial_fit__degree': 1} : \n",
      "train_score: -61.69121,test_score: -26.88546\n",
      "{'model': Ridge(alpha=0.1, copy_X=True, fit_intercept=True, max_iter=None,\n",
      "   normalize=True, random_state=None, solver='auto', tol=0.001), 'model__alpha': 1, 'model__fit_intercept': False, 'model__normalize': False, 'polynomial_fit__degree': 2} : \n",
      "train_score: -136.79059,test_score: -10.58944\n",
      "{'model': Ridge(alpha=0.1, copy_X=True, fit_intercept=True, max_iter=None,\n",
      "   normalize=True, random_state=None, solver='auto', tol=0.001), 'model__alpha': 1, 'model__fit_intercept': False, 'model__normalize': False, 'polynomial_fit__degree': 3} : \n",
      "train_score: -141.57406,test_score: -10.40166\n",
      "{'model': Ridge(alpha=0.1, copy_X=True, fit_intercept=True, max_iter=None,\n",
      "   normalize=True, random_state=None, solver='auto', tol=0.001), 'model__alpha': 1, 'model__fit_intercept': False, 'model__normalize': False, 'polynomial_fit__degree': 4} : \n",
      "train_score: -1818.62287,test_score: -6.17492\n",
      "{'model': Ridge(alpha=0.1, copy_X=True, fit_intercept=True, max_iter=None,\n",
      "   normalize=True, random_state=None, solver='auto', tol=0.001), 'model__alpha': 1, 'model__fit_intercept': False, 'model__normalize': False, 'polynomial_fit__degree': 5} : \n",
      "train_score: -1477.99365,test_score: -6.03929\n",
      "{'model': Ridge(alpha=0.1, copy_X=True, fit_intercept=True, max_iter=None,\n",
      "   normalize=True, random_state=None, solver='auto', tol=0.001), 'model__alpha': 1, 'model__fit_intercept': False, 'model__normalize': False, 'polynomial_fit__degree': 6} : \n",
      "train_score: -12395.30198,test_score: -5.00828\n",
      "{'model': Ridge(alpha=0.1, copy_X=True, fit_intercept=True, max_iter=None,\n",
      "   normalize=True, random_state=None, solver='auto', tol=0.001), 'model__alpha': 1, 'model__fit_intercept': False, 'model__normalize': False, 'polynomial_fit__degree': 7} : \n",
      "train_score: -16025.28211,test_score: -5.00864\n",
      "{'model': Ridge(alpha=0.1, copy_X=True, fit_intercept=True, max_iter=None,\n",
      "   normalize=True, random_state=None, solver='auto', tol=0.001), 'model__alpha': 1, 'model__fit_intercept': False, 'model__normalize': False, 'polynomial_fit__degree': 8} : \n",
      "train_score: -159241.80827,test_score: -5.05895\n",
      "{'model': Ridge(alpha=0.1, copy_X=True, fit_intercept=True, max_iter=None,\n",
      "   normalize=True, random_state=None, solver='auto', tol=0.001), 'model__alpha': 1, 'model__fit_intercept': False, 'model__normalize': False, 'polynomial_fit__degree': 9} : \n",
      "train_score: -202639.20964,test_score: -5.03649\n",
      "{'model': Ridge(alpha=0.1, copy_X=True, fit_intercept=True, max_iter=None,\n",
      "   normalize=True, random_state=None, solver='auto', tol=0.001), 'model__alpha': 10, 'model__fit_intercept': True, 'model__normalize': True, 'polynomial_fit__degree': 1} : \n",
      "train_score: -1.68979,test_score: 0.10473\n",
      "{'model': Ridge(alpha=0.1, copy_X=True, fit_intercept=True, max_iter=None,\n",
      "   normalize=True, random_state=None, solver='auto', tol=0.001), 'model__alpha': 10, 'model__fit_intercept': True, 'model__normalize': True, 'polynomial_fit__degree': 2} : \n",
      "train_score: -2.03862,test_score: 0.11897\n",
      "{'model': Ridge(alpha=0.1, copy_X=True, fit_intercept=True, max_iter=None,\n",
      "   normalize=True, random_state=None, solver='auto', tol=0.001), 'model__alpha': 10, 'model__fit_intercept': True, 'model__normalize': True, 'polynomial_fit__degree': 3} : \n",
      "train_score: -1.14810,test_score: 0.20592\n",
      "{'model': Ridge(alpha=0.1, copy_X=True, fit_intercept=True, max_iter=None,\n",
      "   normalize=True, random_state=None, solver='auto', tol=0.001), 'model__alpha': 10, 'model__fit_intercept': True, 'model__normalize': True, 'polynomial_fit__degree': 4} : \n",
      "train_score: -1.91213,test_score: 0.21948\n",
      "{'model': Ridge(alpha=0.1, copy_X=True, fit_intercept=True, max_iter=None,\n",
      "   normalize=True, random_state=None, solver='auto', tol=0.001), 'model__alpha': 10, 'model__fit_intercept': True, 'model__normalize': True, 'polynomial_fit__degree': 5} : \n",
      "train_score: -0.24477,test_score: 0.27852\n",
      "{'model': Ridge(alpha=0.1, copy_X=True, fit_intercept=True, max_iter=None,\n",
      "   normalize=True, random_state=None, solver='auto', tol=0.001), 'model__alpha': 10, 'model__fit_intercept': True, 'model__normalize': True, 'polynomial_fit__degree': 6} : \n",
      "train_score: -1.52384,test_score: 0.28880\n",
      "{'model': Ridge(alpha=0.1, copy_X=True, fit_intercept=True, max_iter=None,\n",
      "   normalize=True, random_state=None, solver='auto', tol=0.001), 'model__alpha': 10, 'model__fit_intercept': True, 'model__normalize': True, 'polynomial_fit__degree': 7} : \n",
      "train_score: -0.43849,test_score: 0.32614\n",
      "{'model': Ridge(alpha=0.1, copy_X=True, fit_intercept=True, max_iter=None,\n",
      "   normalize=True, random_state=None, solver='auto', tol=0.001), 'model__alpha': 10, 'model__fit_intercept': True, 'model__normalize': True, 'polynomial_fit__degree': 8} : \n",
      "train_score: -0.81156,test_score: 0.33319\n",
      "{'model': Ridge(alpha=0.1, copy_X=True, fit_intercept=True, max_iter=None,\n",
      "   normalize=True, random_state=None, solver='auto', tol=0.001), 'model__alpha': 10, 'model__fit_intercept': True, 'model__normalize': True, 'polynomial_fit__degree': 9} : \n",
      "train_score: -15.04443,test_score: 0.35626\n",
      "{'model': Ridge(alpha=0.1, copy_X=True, fit_intercept=True, max_iter=None,\n",
      "   normalize=True, random_state=None, solver='auto', tol=0.001), 'model__alpha': 10, 'model__fit_intercept': True, 'model__normalize': False, 'polynomial_fit__degree': 1} : \n",
      "train_score: 0.00695,test_score: 0.60112\n",
      "{'model': Ridge(alpha=0.1, copy_X=True, fit_intercept=True, max_iter=None,\n",
      "   normalize=True, random_state=None, solver='auto', tol=0.001), 'model__alpha': 10, 'model__fit_intercept': True, 'model__normalize': False, 'polynomial_fit__degree': 2} : \n",
      "train_score: -2.20567,test_score: 0.64827\n",
      "{'model': Ridge(alpha=0.1, copy_X=True, fit_intercept=True, max_iter=None,\n",
      "   normalize=True, random_state=None, solver='auto', tol=0.001), 'model__alpha': 10, 'model__fit_intercept': True, 'model__normalize': False, 'polynomial_fit__degree': 3} : \n",
      "train_score: -0.04594,test_score: 0.71235\n",
      "{'model': Ridge(alpha=0.1, copy_X=True, fit_intercept=True, max_iter=None,\n",
      "   normalize=True, random_state=None, solver='auto', tol=0.001), 'model__alpha': 10, 'model__fit_intercept': True, 'model__normalize': False, 'polynomial_fit__degree': 4} : \n",
      "train_score: -2.12414,test_score: 0.71470\n",
      "{'model': Ridge(alpha=0.1, copy_X=True, fit_intercept=True, max_iter=None,\n",
      "   normalize=True, random_state=None, solver='auto', tol=0.001), 'model__alpha': 10, 'model__fit_intercept': True, 'model__normalize': False, 'polynomial_fit__degree': 5} : \n",
      "train_score: -0.05768,test_score: 0.71597\n",
      "{'model': Ridge(alpha=0.1, copy_X=True, fit_intercept=True, max_iter=None,\n",
      "   normalize=True, random_state=None, solver='auto', tol=0.001), 'model__alpha': 10, 'model__fit_intercept': True, 'model__normalize': False, 'polynomial_fit__degree': 6} : \n",
      "train_score: -7.23531,test_score: 0.71773\n",
      "{'model': Ridge(alpha=0.1, copy_X=True, fit_intercept=True, max_iter=None,\n",
      "   normalize=True, random_state=None, solver='auto', tol=0.001), 'model__alpha': 10, 'model__fit_intercept': True, 'model__normalize': False, 'polynomial_fit__degree': 7} : \n",
      "train_score: -128.75029,test_score: 0.71992\n",
      "{'model': Ridge(alpha=0.1, copy_X=True, fit_intercept=True, max_iter=None,\n",
      "   normalize=True, random_state=None, solver='auto', tol=0.001), 'model__alpha': 10, 'model__fit_intercept': True, 'model__normalize': False, 'polynomial_fit__degree': 8} : \n",
      "train_score: -288.11568,test_score: 0.72120\n",
      "{'model': Ridge(alpha=0.1, copy_X=True, fit_intercept=True, max_iter=None,\n",
      "   normalize=True, random_state=None, solver='auto', tol=0.001), 'model__alpha': 10, 'model__fit_intercept': True, 'model__normalize': False, 'polynomial_fit__degree': 9} : \n",
      "train_score: -3567.00615,test_score: 0.72206\n",
      "{'model': Ridge(alpha=0.1, copy_X=True, fit_intercept=True, max_iter=None,\n",
      "   normalize=True, random_state=None, solver='auto', tol=0.001), 'model__alpha': 10, 'model__fit_intercept': False, 'model__normalize': True, 'polynomial_fit__degree': 1} : \n",
      "train_score: -61.60244,test_score: -26.88779\n",
      "{'model': Ridge(alpha=0.1, copy_X=True, fit_intercept=True, max_iter=None,\n",
      "   normalize=True, random_state=None, solver='auto', tol=0.001), 'model__alpha': 10, 'model__fit_intercept': False, 'model__normalize': True, 'polynomial_fit__degree': 2} : \n",
      "train_score: -127.29876,test_score: -10.61997\n",
      "{'model': Ridge(alpha=0.1, copy_X=True, fit_intercept=True, max_iter=None,\n",
      "   normalize=True, random_state=None, solver='auto', tol=0.001), 'model__alpha': 10, 'model__fit_intercept': False, 'model__normalize': True, 'polynomial_fit__degree': 3} : \n",
      "train_score: -128.09975,test_score: -10.46537\n",
      "{'model': Ridge(alpha=0.1, copy_X=True, fit_intercept=True, max_iter=None,\n",
      "   normalize=True, random_state=None, solver='auto', tol=0.001), 'model__alpha': 10, 'model__fit_intercept': False, 'model__normalize': True, 'polynomial_fit__degree': 4} : \n",
      "train_score: -449.84122,test_score: -7.45464\n",
      "{'model': Ridge(alpha=0.1, copy_X=True, fit_intercept=True, max_iter=None,\n",
      "   normalize=True, random_state=None, solver='auto', tol=0.001), 'model__alpha': 10, 'model__fit_intercept': False, 'model__normalize': True, 'polynomial_fit__degree': 5} : \n",
      "train_score: -381.94046,test_score: -7.43516\n",
      "{'model': Ridge(alpha=0.1, copy_X=True, fit_intercept=True, max_iter=None,\n",
      "   normalize=True, random_state=None, solver='auto', tol=0.001), 'model__alpha': 10, 'model__fit_intercept': False, 'model__normalize': True, 'polynomial_fit__degree': 6} : \n",
      "train_score: -5194.68178,test_score: -7.55067\n",
      "{'model': Ridge(alpha=0.1, copy_X=True, fit_intercept=True, max_iter=None,\n",
      "   normalize=True, random_state=None, solver='auto', tol=0.001), 'model__alpha': 10, 'model__fit_intercept': False, 'model__normalize': True, 'polynomial_fit__degree': 7} : \n",
      "train_score: -3640.76101,test_score: -7.54376\n",
      "{'model': Ridge(alpha=0.1, copy_X=True, fit_intercept=True, max_iter=None,\n",
      "   normalize=True, random_state=None, solver='auto', tol=0.001), 'model__alpha': 10, 'model__fit_intercept': False, 'model__normalize': True, 'polynomial_fit__degree': 8} : \n",
      "train_score: -30656.62819,test_score: -7.23206\n",
      "{'model': Ridge(alpha=0.1, copy_X=True, fit_intercept=True, max_iter=None,\n",
      "   normalize=True, random_state=None, solver='auto', tol=0.001), 'model__alpha': 10, 'model__fit_intercept': False, 'model__normalize': True, 'polynomial_fit__degree': 9} : \n",
      "train_score: -49621.73021,test_score: -7.22597\n",
      "{'model': Ridge(alpha=0.1, copy_X=True, fit_intercept=True, max_iter=None,\n",
      "   normalize=True, random_state=None, solver='auto', tol=0.001), 'model__alpha': 10, 'model__fit_intercept': False, 'model__normalize': False, 'polynomial_fit__degree': 1} : \n",
      "train_score: -61.60244,test_score: -26.88779\n",
      "{'model': Ridge(alpha=0.1, copy_X=True, fit_intercept=True, max_iter=None,\n",
      "   normalize=True, random_state=None, solver='auto', tol=0.001), 'model__alpha': 10, 'model__fit_intercept': False, 'model__normalize': False, 'polynomial_fit__degree': 2} : \n",
      "train_score: -127.29876,test_score: -10.61997\n",
      "{'model': Ridge(alpha=0.1, copy_X=True, fit_intercept=True, max_iter=None,\n",
      "   normalize=True, random_state=None, solver='auto', tol=0.001), 'model__alpha': 10, 'model__fit_intercept': False, 'model__normalize': False, 'polynomial_fit__degree': 3} : \n",
      "train_score: -128.09975,test_score: -10.46537\n",
      "{'model': Ridge(alpha=0.1, copy_X=True, fit_intercept=True, max_iter=None,\n",
      "   normalize=True, random_state=None, solver='auto', tol=0.001), 'model__alpha': 10, 'model__fit_intercept': False, 'model__normalize': False, 'polynomial_fit__degree': 4} : \n",
      "train_score: -449.84122,test_score: -7.45464\n",
      "{'model': Ridge(alpha=0.1, copy_X=True, fit_intercept=True, max_iter=None,\n",
      "   normalize=True, random_state=None, solver='auto', tol=0.001), 'model__alpha': 10, 'model__fit_intercept': False, 'model__normalize': False, 'polynomial_fit__degree': 5} : \n",
      "train_score: -381.94046,test_score: -7.43516\n",
      "{'model': Ridge(alpha=0.1, copy_X=True, fit_intercept=True, max_iter=None,\n",
      "   normalize=True, random_state=None, solver='auto', tol=0.001), 'model__alpha': 10, 'model__fit_intercept': False, 'model__normalize': False, 'polynomial_fit__degree': 6} : \n",
      "train_score: -5194.68178,test_score: -7.55067\n",
      "{'model': Ridge(alpha=0.1, copy_X=True, fit_intercept=True, max_iter=None,\n",
      "   normalize=True, random_state=None, solver='auto', tol=0.001), 'model__alpha': 10, 'model__fit_intercept': False, 'model__normalize': False, 'polynomial_fit__degree': 7} : \n",
      "train_score: -3640.76101,test_score: -7.54376\n",
      "{'model': Ridge(alpha=0.1, copy_X=True, fit_intercept=True, max_iter=None,\n",
      "   normalize=True, random_state=None, solver='auto', tol=0.001), 'model__alpha': 10, 'model__fit_intercept': False, 'model__normalize': False, 'polynomial_fit__degree': 8} : \n",
      "train_score: -30656.62819,test_score: -7.23206\n",
      "{'model': Ridge(alpha=0.1, copy_X=True, fit_intercept=True, max_iter=None,\n",
      "   normalize=True, random_state=None, solver='auto', tol=0.001), 'model__alpha': 10, 'model__fit_intercept': False, 'model__normalize': False, 'polynomial_fit__degree': 9} : \n",
      "train_score: -49621.73021,test_score: -7.22597\n",
      "{'model': Ridge(alpha=0.1, copy_X=True, fit_intercept=True, max_iter=None,\n",
      "   normalize=True, random_state=None, solver='auto', tol=0.001), 'model__alpha': 100, 'model__fit_intercept': True, 'model__normalize': True, 'polynomial_fit__degree': 1} : \n",
      "train_score: -2.00939,test_score: 0.01189\n",
      "{'model': Ridge(alpha=0.1, copy_X=True, fit_intercept=True, max_iter=None,\n",
      "   normalize=True, random_state=None, solver='auto', tol=0.001), 'model__alpha': 100, 'model__fit_intercept': True, 'model__normalize': True, 'polynomial_fit__degree': 2} : \n",
      "train_score: -2.04893,test_score: 0.01376\n",
      "{'model': Ridge(alpha=0.1, copy_X=True, fit_intercept=True, max_iter=None,\n",
      "   normalize=True, random_state=None, solver='auto', tol=0.001), 'model__alpha': 100, 'model__fit_intercept': True, 'model__normalize': True, 'polynomial_fit__degree': 3} : \n",
      "train_score: -1.93098,test_score: 0.02628\n",
      "{'model': Ridge(alpha=0.1, copy_X=True, fit_intercept=True, max_iter=None,\n",
      "   normalize=True, random_state=None, solver='auto', tol=0.001), 'model__alpha': 100, 'model__fit_intercept': True, 'model__normalize': True, 'polynomial_fit__degree': 4} : \n",
      "train_score: -2.03419,test_score: 0.02889\n",
      "{'model': Ridge(alpha=0.1, copy_X=True, fit_intercept=True, max_iter=None,\n",
      "   normalize=True, random_state=None, solver='auto', tol=0.001), 'model__alpha': 100, 'model__fit_intercept': True, 'model__normalize': True, 'polynomial_fit__degree': 5} : \n",
      "train_score: -1.73775,test_score: 0.03984\n",
      "{'model': Ridge(alpha=0.1, copy_X=True, fit_intercept=True, max_iter=None,\n",
      "   normalize=True, random_state=None, solver='auto', tol=0.001), 'model__alpha': 100, 'model__fit_intercept': True, 'model__normalize': True, 'polynomial_fit__degree': 6} : \n",
      "train_score: -1.97882,test_score: 0.04273\n",
      "{'model': Ridge(alpha=0.1, copy_X=True, fit_intercept=True, max_iter=None,\n",
      "   normalize=True, random_state=None, solver='auto', tol=0.001), 'model__alpha': 100, 'model__fit_intercept': True, 'model__normalize': True, 'polynomial_fit__degree': 7} : \n",
      "train_score: -1.29460,test_score: 0.05181\n",
      "{'model': Ridge(alpha=0.1, copy_X=True, fit_intercept=True, max_iter=None,\n",
      "   normalize=True, random_state=None, solver='auto', tol=0.001), 'model__alpha': 100, 'model__fit_intercept': True, 'model__normalize': True, 'polynomial_fit__degree': 8} : \n",
      "train_score: -1.82149,test_score: 0.05469\n",
      "{'model': Ridge(alpha=0.1, copy_X=True, fit_intercept=True, max_iter=None,\n",
      "   normalize=True, random_state=None, solver='auto', tol=0.001), 'model__alpha': 100, 'model__fit_intercept': True, 'model__normalize': True, 'polynomial_fit__degree': 9} : \n",
      "train_score: -0.50686,test_score: 0.06214\n",
      "{'model': Ridge(alpha=0.1, copy_X=True, fit_intercept=True, max_iter=None,\n",
      "   normalize=True, random_state=None, solver='auto', tol=0.001), 'model__alpha': 100, 'model__fit_intercept': True, 'model__normalize': False, 'polynomial_fit__degree': 1} : \n",
      "train_score: -0.30992,test_score: 0.50692\n",
      "{'model': Ridge(alpha=0.1, copy_X=True, fit_intercept=True, max_iter=None,\n",
      "   normalize=True, random_state=None, solver='auto', tol=0.001), 'model__alpha': 100, 'model__fit_intercept': True, 'model__normalize': False, 'polynomial_fit__degree': 2} : \n",
      "train_score: -1.83990,test_score: 0.54255\n",
      "{'model': Ridge(alpha=0.1, copy_X=True, fit_intercept=True, max_iter=None,\n",
      "   normalize=True, random_state=None, solver='auto', tol=0.001), 'model__alpha': 100, 'model__fit_intercept': True, 'model__normalize': False, 'polynomial_fit__degree': 3} : \n",
      "train_score: -0.45407,test_score: 0.68383\n",
      "{'model': Ridge(alpha=0.1, copy_X=True, fit_intercept=True, max_iter=None,\n",
      "   normalize=True, random_state=None, solver='auto', tol=0.001), 'model__alpha': 100, 'model__fit_intercept': True, 'model__normalize': False, 'polynomial_fit__degree': 4} : \n",
      "train_score: -1.88073,test_score: 0.69289\n",
      "{'model': Ridge(alpha=0.1, copy_X=True, fit_intercept=True, max_iter=None,\n",
      "   normalize=True, random_state=None, solver='auto', tol=0.001), 'model__alpha': 100, 'model__fit_intercept': True, 'model__normalize': False, 'polynomial_fit__degree': 5} : \n",
      "train_score: -6.64000,test_score: 0.69819\n",
      "{'model': Ridge(alpha=0.1, copy_X=True, fit_intercept=True, max_iter=None,\n",
      "   normalize=True, random_state=None, solver='auto', tol=0.001), 'model__alpha': 100, 'model__fit_intercept': True, 'model__normalize': False, 'polynomial_fit__degree': 6} : \n",
      "train_score: -3.83056,test_score: 0.69993\n",
      "{'model': Ridge(alpha=0.1, copy_X=True, fit_intercept=True, max_iter=None,\n",
      "   normalize=True, random_state=None, solver='auto', tol=0.001), 'model__alpha': 100, 'model__fit_intercept': True, 'model__normalize': False, 'polynomial_fit__degree': 7} : \n",
      "train_score: -23.48316,test_score: 0.70012\n",
      "{'model': Ridge(alpha=0.1, copy_X=True, fit_intercept=True, max_iter=None,\n",
      "   normalize=True, random_state=None, solver='auto', tol=0.001), 'model__alpha': 100, 'model__fit_intercept': True, 'model__normalize': False, 'polynomial_fit__degree': 8} : \n",
      "train_score: -72.61858,test_score: 0.70263\n",
      "{'model': Ridge(alpha=0.1, copy_X=True, fit_intercept=True, max_iter=None,\n",
      "   normalize=True, random_state=None, solver='auto', tol=0.001), 'model__alpha': 100, 'model__fit_intercept': True, 'model__normalize': False, 'polynomial_fit__degree': 9} : \n",
      "train_score: -2870.61751,test_score: 0.70681\n",
      "{'model': Ridge(alpha=0.1, copy_X=True, fit_intercept=True, max_iter=None,\n",
      "   normalize=True, random_state=None, solver='auto', tol=0.001), 'model__alpha': 100, 'model__fit_intercept': False, 'model__normalize': True, 'polynomial_fit__degree': 1} : \n",
      "train_score: -61.34406,test_score: -26.98199\n",
      "{'model': Ridge(alpha=0.1, copy_X=True, fit_intercept=True, max_iter=None,\n",
      "   normalize=True, random_state=None, solver='auto', tol=0.001), 'model__alpha': 100, 'model__fit_intercept': False, 'model__normalize': True, 'polynomial_fit__degree': 2} : \n",
      "train_score: -72.57583,test_score: -12.10311\n",
      "{'model': Ridge(alpha=0.1, copy_X=True, fit_intercept=True, max_iter=None,\n",
      "   normalize=True, random_state=None, solver='auto', tol=0.001), 'model__alpha': 100, 'model__fit_intercept': False, 'model__normalize': True, 'polynomial_fit__degree': 3} : \n",
      "train_score: -70.69076,test_score: -11.95609\n",
      "{'model': Ridge(alpha=0.1, copy_X=True, fit_intercept=True, max_iter=None,\n",
      "   normalize=True, random_state=None, solver='auto', tol=0.001), 'model__alpha': 100, 'model__fit_intercept': False, 'model__normalize': True, 'polynomial_fit__degree': 4} : \n",
      "train_score: -242.41176,test_score: -12.70508\n",
      "{'model': Ridge(alpha=0.1, copy_X=True, fit_intercept=True, max_iter=None,\n",
      "   normalize=True, random_state=None, solver='auto', tol=0.001), 'model__alpha': 100, 'model__fit_intercept': False, 'model__normalize': True, 'polynomial_fit__degree': 5} : \n",
      "train_score: -258.36102,test_score: -12.68057\n",
      "{'model': Ridge(alpha=0.1, copy_X=True, fit_intercept=True, max_iter=None,\n",
      "   normalize=True, random_state=None, solver='auto', tol=0.001), 'model__alpha': 100, 'model__fit_intercept': False, 'model__normalize': True, 'polynomial_fit__degree': 6} : \n",
      "train_score: -872.29781,test_score: -11.73108\n",
      "{'model': Ridge(alpha=0.1, copy_X=True, fit_intercept=True, max_iter=None,\n",
      "   normalize=True, random_state=None, solver='auto', tol=0.001), 'model__alpha': 100, 'model__fit_intercept': False, 'model__normalize': True, 'polynomial_fit__degree': 7} : \n",
      "train_score: -612.74058,test_score: -11.72671\n",
      "{'model': Ridge(alpha=0.1, copy_X=True, fit_intercept=True, max_iter=None,\n",
      "   normalize=True, random_state=None, solver='auto', tol=0.001), 'model__alpha': 100, 'model__fit_intercept': False, 'model__normalize': True, 'polynomial_fit__degree': 8} : \n",
      "train_score: -69708.07651,test_score: -11.36922\n",
      "{'model': Ridge(alpha=0.1, copy_X=True, fit_intercept=True, max_iter=None,\n",
      "   normalize=True, random_state=None, solver='auto', tol=0.001), 'model__alpha': 100, 'model__fit_intercept': False, 'model__normalize': True, 'polynomial_fit__degree': 9} : \n",
      "train_score: -55326.01464,test_score: -11.38288\n",
      "{'model': Ridge(alpha=0.1, copy_X=True, fit_intercept=True, max_iter=None,\n",
      "   normalize=True, random_state=None, solver='auto', tol=0.001), 'model__alpha': 100, 'model__fit_intercept': False, 'model__normalize': False, 'polynomial_fit__degree': 1} : \n",
      "train_score: -61.34406,test_score: -26.98199\n",
      "{'model': Ridge(alpha=0.1, copy_X=True, fit_intercept=True, max_iter=None,\n",
      "   normalize=True, random_state=None, solver='auto', tol=0.001), 'model__alpha': 100, 'model__fit_intercept': False, 'model__normalize': False, 'polynomial_fit__degree': 2} : \n",
      "train_score: -72.57583,test_score: -12.10311\n",
      "{'model': Ridge(alpha=0.1, copy_X=True, fit_intercept=True, max_iter=None,\n",
      "   normalize=True, random_state=None, solver='auto', tol=0.001), 'model__alpha': 100, 'model__fit_intercept': False, 'model__normalize': False, 'polynomial_fit__degree': 3} : \n",
      "train_score: -70.69076,test_score: -11.95609\n",
      "{'model': Ridge(alpha=0.1, copy_X=True, fit_intercept=True, max_iter=None,\n",
      "   normalize=True, random_state=None, solver='auto', tol=0.001), 'model__alpha': 100, 'model__fit_intercept': False, 'model__normalize': False, 'polynomial_fit__degree': 4} : \n",
      "train_score: -242.41176,test_score: -12.70508\n",
      "{'model': Ridge(alpha=0.1, copy_X=True, fit_intercept=True, max_iter=None,\n",
      "   normalize=True, random_state=None, solver='auto', tol=0.001), 'model__alpha': 100, 'model__fit_intercept': False, 'model__normalize': False, 'polynomial_fit__degree': 5} : \n",
      "train_score: -258.36102,test_score: -12.68057\n",
      "{'model': Ridge(alpha=0.1, copy_X=True, fit_intercept=True, max_iter=None,\n",
      "   normalize=True, random_state=None, solver='auto', tol=0.001), 'model__alpha': 100, 'model__fit_intercept': False, 'model__normalize': False, 'polynomial_fit__degree': 6} : \n",
      "train_score: -872.29781,test_score: -11.73108\n",
      "{'model': Ridge(alpha=0.1, copy_X=True, fit_intercept=True, max_iter=None,\n",
      "   normalize=True, random_state=None, solver='auto', tol=0.001), 'model__alpha': 100, 'model__fit_intercept': False, 'model__normalize': False, 'polynomial_fit__degree': 7} : \n",
      "train_score: -612.74058,test_score: -11.72671\n",
      "{'model': Ridge(alpha=0.1, copy_X=True, fit_intercept=True, max_iter=None,\n",
      "   normalize=True, random_state=None, solver='auto', tol=0.001), 'model__alpha': 100, 'model__fit_intercept': False, 'model__normalize': False, 'polynomial_fit__degree': 8} : \n",
      "train_score: -69708.07651,test_score: -11.36922\n",
      "{'model': Ridge(alpha=0.1, copy_X=True, fit_intercept=True, max_iter=None,\n",
      "   normalize=True, random_state=None, solver='auto', tol=0.001), 'model__alpha': 100, 'model__fit_intercept': False, 'model__normalize': False, 'polynomial_fit__degree': 9} : \n",
      "train_score: -55326.01464,test_score: -11.38288\n",
      "{'model': Ridge(alpha=0.1, copy_X=True, fit_intercept=True, max_iter=None,\n",
      "   normalize=True, random_state=None, solver='auto', tol=0.001), 'model__alpha': 1000, 'model__fit_intercept': True, 'model__normalize': True, 'polynomial_fit__degree': 1} : \n",
      "train_score: -2.04618,test_score: 0.00121\n",
      "{'model': Ridge(alpha=0.1, copy_X=True, fit_intercept=True, max_iter=None,\n",
      "   normalize=True, random_state=None, solver='auto', tol=0.001), 'model__alpha': 1000, 'model__fit_intercept': True, 'model__normalize': True, 'polynomial_fit__degree': 2} : \n",
      "train_score: -2.05019,test_score: 0.00140\n",
      "{'model': Ridge(alpha=0.1, copy_X=True, fit_intercept=True, max_iter=None,\n",
      "   normalize=True, random_state=None, solver='auto', tol=0.001), 'model__alpha': 1000, 'model__fit_intercept': True, 'model__normalize': True, 'polynomial_fit__degree': 3} : \n",
      "train_score: -2.03802,test_score: 0.00270\n",
      "{'model': Ridge(alpha=0.1, copy_X=True, fit_intercept=True, max_iter=None,\n",
      "   normalize=True, random_state=None, solver='auto', tol=0.001), 'model__alpha': 1000, 'model__fit_intercept': True, 'model__normalize': True, 'polynomial_fit__degree': 4} : \n",
      "train_score: -2.04869,test_score: 0.00298\n",
      "{'model': Ridge(alpha=0.1, copy_X=True, fit_intercept=True, max_iter=None,\n",
      "   normalize=True, random_state=None, solver='auto', tol=0.001), 'model__alpha': 1000, 'model__fit_intercept': True, 'model__normalize': True, 'polynomial_fit__degree': 5} : \n",
      "train_score: -2.01707,test_score: 0.00416\n",
      "{'model': Ridge(alpha=0.1, copy_X=True, fit_intercept=True, max_iter=None,\n",
      "   normalize=True, random_state=None, solver='auto', tol=0.001), 'model__alpha': 1000, 'model__fit_intercept': True, 'model__normalize': True, 'polynomial_fit__degree': 6} : \n",
      "train_score: -2.04292,test_score: 0.00449\n",
      "{'model': Ridge(alpha=0.1, copy_X=True, fit_intercept=True, max_iter=None,\n",
      "   normalize=True, random_state=None, solver='auto', tol=0.001), 'model__alpha': 1000, 'model__fit_intercept': True, 'model__normalize': True, 'polynomial_fit__degree': 7} : \n",
      "train_score: -1.96393,test_score: 0.00550\n",
      "{'model': Ridge(alpha=0.1, copy_X=True, fit_intercept=True, max_iter=None,\n",
      "   normalize=True, random_state=None, solver='auto', tol=0.001), 'model__alpha': 1000, 'model__fit_intercept': True, 'model__normalize': True, 'polynomial_fit__degree': 8} : \n",
      "train_score: -2.02581,test_score: 0.00584\n",
      "{'model': Ridge(alpha=0.1, copy_X=True, fit_intercept=True, max_iter=None,\n",
      "   normalize=True, random_state=None, solver='auto', tol=0.001), 'model__alpha': 1000, 'model__fit_intercept': True, 'model__normalize': True, 'polynomial_fit__degree': 9} : \n",
      "train_score: -1.83244,test_score: 0.00670\n",
      "{'model': Ridge(alpha=0.1, copy_X=True, fit_intercept=True, max_iter=None,\n",
      "   normalize=True, random_state=None, solver='auto', tol=0.001), 'model__alpha': 1000, 'model__fit_intercept': True, 'model__normalize': False, 'polynomial_fit__degree': 1} : \n",
      "train_score: -1.54381,test_score: 0.14716\n",
      "{'model': Ridge(alpha=0.1, copy_X=True, fit_intercept=True, max_iter=None,\n",
      "   normalize=True, random_state=None, solver='auto', tol=0.001), 'model__alpha': 1000, 'model__fit_intercept': True, 'model__normalize': False, 'polynomial_fit__degree': 2} : \n",
      "train_score: -1.93989,test_score: 0.16164\n",
      "{'model': Ridge(alpha=0.1, copy_X=True, fit_intercept=True, max_iter=None,\n",
      "   normalize=True, random_state=None, solver='auto', tol=0.001), 'model__alpha': 1000, 'model__fit_intercept': True, 'model__normalize': False, 'polynomial_fit__degree': 3} : \n",
      "train_score: 0.22780,test_score: 0.42099\n",
      "{'model': Ridge(alpha=0.1, copy_X=True, fit_intercept=True, max_iter=None,\n",
      "   normalize=True, random_state=None, solver='auto', tol=0.001), 'model__alpha': 1000, 'model__fit_intercept': True, 'model__normalize': False, 'polynomial_fit__degree': 4} : \n",
      "train_score: -2.54169,test_score: 0.45279\n",
      "{'model': Ridge(alpha=0.1, copy_X=True, fit_intercept=True, max_iter=None,\n",
      "   normalize=True, random_state=None, solver='auto', tol=0.001), 'model__alpha': 1000, 'model__fit_intercept': True, 'model__normalize': False, 'polynomial_fit__degree': 5} : \n",
      "train_score: -18.41862,test_score: 0.61370\n",
      "{'model': Ridge(alpha=0.1, copy_X=True, fit_intercept=True, max_iter=None,\n",
      "   normalize=True, random_state=None, solver='auto', tol=0.001), 'model__alpha': 1000, 'model__fit_intercept': True, 'model__normalize': False, 'polynomial_fit__degree': 6} : \n",
      "train_score: -2.60610,test_score: 0.61817\n",
      "{'model': Ridge(alpha=0.1, copy_X=True, fit_intercept=True, max_iter=None,\n",
      "   normalize=True, random_state=None, solver='auto', tol=0.001), 'model__alpha': 1000, 'model__fit_intercept': True, 'model__normalize': False, 'polynomial_fit__degree': 7} : \n",
      "train_score: -120.38788,test_score: 0.62618\n",
      "{'model': Ridge(alpha=0.1, copy_X=True, fit_intercept=True, max_iter=None,\n",
      "   normalize=True, random_state=None, solver='auto', tol=0.001), 'model__alpha': 1000, 'model__fit_intercept': True, 'model__normalize': False, 'polynomial_fit__degree': 8} : \n",
      "train_score: -30.97981,test_score: 0.63517\n",
      "{'model': Ridge(alpha=0.1, copy_X=True, fit_intercept=True, max_iter=None,\n",
      "   normalize=True, random_state=None, solver='auto', tol=0.001), 'model__alpha': 1000, 'model__fit_intercept': True, 'model__normalize': False, 'polynomial_fit__degree': 9} : \n",
      "train_score: -166.09716,test_score: 0.63399\n",
      "{'model': Ridge(alpha=0.1, copy_X=True, fit_intercept=True, max_iter=None,\n",
      "   normalize=True, random_state=None, solver='auto', tol=0.001), 'model__alpha': 1000, 'model__fit_intercept': False, 'model__normalize': True, 'polynomial_fit__degree': 1} : \n",
      "train_score: -61.77761,test_score: -27.34175\n",
      "{'model': Ridge(alpha=0.1, copy_X=True, fit_intercept=True, max_iter=None,\n",
      "   normalize=True, random_state=None, solver='auto', tol=0.001), 'model__alpha': 1000, 'model__fit_intercept': False, 'model__normalize': True, 'polynomial_fit__degree': 2} : \n",
      "train_score: -40.49375,test_score: -21.45632\n",
      "{'model': Ridge(alpha=0.1, copy_X=True, fit_intercept=True, max_iter=None,\n",
      "   normalize=True, random_state=None, solver='auto', tol=0.001), 'model__alpha': 1000, 'model__fit_intercept': False, 'model__normalize': True, 'polynomial_fit__degree': 3} : \n",
      "train_score: -38.35323,test_score: -21.13778\n",
      "{'model': Ridge(alpha=0.1, copy_X=True, fit_intercept=True, max_iter=None,\n",
      "   normalize=True, random_state=None, solver='auto', tol=0.001), 'model__alpha': 1000, 'model__fit_intercept': False, 'model__normalize': True, 'polynomial_fit__degree': 4} : \n",
      "train_score: -240.35767,test_score: -17.26208\n",
      "{'model': Ridge(alpha=0.1, copy_X=True, fit_intercept=True, max_iter=None,\n",
      "   normalize=True, random_state=None, solver='auto', tol=0.001), 'model__alpha': 1000, 'model__fit_intercept': False, 'model__normalize': True, 'polynomial_fit__degree': 5} : \n",
      "train_score: -254.29937,test_score: -17.13128\n",
      "{'model': Ridge(alpha=0.1, copy_X=True, fit_intercept=True, max_iter=None,\n",
      "   normalize=True, random_state=None, solver='auto', tol=0.001), 'model__alpha': 1000, 'model__fit_intercept': False, 'model__normalize': True, 'polynomial_fit__degree': 6} : \n",
      "train_score: -2288.38944,test_score: -17.24529\n",
      "{'model': Ridge(alpha=0.1, copy_X=True, fit_intercept=True, max_iter=None,\n",
      "   normalize=True, random_state=None, solver='auto', tol=0.001), 'model__alpha': 1000, 'model__fit_intercept': False, 'model__normalize': True, 'polynomial_fit__degree': 7} : \n",
      "train_score: -2518.43774,test_score: -17.10730\n",
      "{'model': Ridge(alpha=0.1, copy_X=True, fit_intercept=True, max_iter=None,\n",
      "   normalize=True, random_state=None, solver='auto', tol=0.001), 'model__alpha': 1000, 'model__fit_intercept': False, 'model__normalize': True, 'polynomial_fit__degree': 8} : \n",
      "train_score: -260.35380,test_score: -16.98867\n",
      "{'model': Ridge(alpha=0.1, copy_X=True, fit_intercept=True, max_iter=None,\n",
      "   normalize=True, random_state=None, solver='auto', tol=0.001), 'model__alpha': 1000, 'model__fit_intercept': False, 'model__normalize': True, 'polynomial_fit__degree': 9} : \n",
      "train_score: -795.36514,test_score: -16.85815\n",
      "{'model': Ridge(alpha=0.1, copy_X=True, fit_intercept=True, max_iter=None,\n",
      "   normalize=True, random_state=None, solver='auto', tol=0.001), 'model__alpha': 1000, 'model__fit_intercept': False, 'model__normalize': False, 'polynomial_fit__degree': 1} : \n",
      "train_score: -61.77761,test_score: -27.34175\n",
      "{'model': Ridge(alpha=0.1, copy_X=True, fit_intercept=True, max_iter=None,\n",
      "   normalize=True, random_state=None, solver='auto', tol=0.001), 'model__alpha': 1000, 'model__fit_intercept': False, 'model__normalize': False, 'polynomial_fit__degree': 2} : \n",
      "train_score: -40.49375,test_score: -21.45632\n",
      "{'model': Ridge(alpha=0.1, copy_X=True, fit_intercept=True, max_iter=None,\n",
      "   normalize=True, random_state=None, solver='auto', tol=0.001), 'model__alpha': 1000, 'model__fit_intercept': False, 'model__normalize': False, 'polynomial_fit__degree': 3} : \n",
      "train_score: -38.35323,test_score: -21.13778\n",
      "{'model': Ridge(alpha=0.1, copy_X=True, fit_intercept=True, max_iter=None,\n",
      "   normalize=True, random_state=None, solver='auto', tol=0.001), 'model__alpha': 1000, 'model__fit_intercept': False, 'model__normalize': False, 'polynomial_fit__degree': 4} : \n",
      "train_score: -240.35767,test_score: -17.26208\n",
      "{'model': Ridge(alpha=0.1, copy_X=True, fit_intercept=True, max_iter=None,\n",
      "   normalize=True, random_state=None, solver='auto', tol=0.001), 'model__alpha': 1000, 'model__fit_intercept': False, 'model__normalize': False, 'polynomial_fit__degree': 5} : \n",
      "train_score: -254.29937,test_score: -17.13128\n",
      "{'model': Ridge(alpha=0.1, copy_X=True, fit_intercept=True, max_iter=None,\n",
      "   normalize=True, random_state=None, solver='auto', tol=0.001), 'model__alpha': 1000, 'model__fit_intercept': False, 'model__normalize': False, 'polynomial_fit__degree': 6} : \n",
      "train_score: -2288.38944,test_score: -17.24529\n",
      "{'model': Ridge(alpha=0.1, copy_X=True, fit_intercept=True, max_iter=None,\n",
      "   normalize=True, random_state=None, solver='auto', tol=0.001), 'model__alpha': 1000, 'model__fit_intercept': False, 'model__normalize': False, 'polynomial_fit__degree': 7} : \n",
      "train_score: -2518.43774,test_score: -17.10730\n",
      "{'model': Ridge(alpha=0.1, copy_X=True, fit_intercept=True, max_iter=None,\n",
      "   normalize=True, random_state=None, solver='auto', tol=0.001), 'model__alpha': 1000, 'model__fit_intercept': False, 'model__normalize': False, 'polynomial_fit__degree': 8} : \n",
      "train_score: -260.35380,test_score: -16.98867\n",
      "{'model': Ridge(alpha=0.1, copy_X=True, fit_intercept=True, max_iter=None,\n",
      "   normalize=True, random_state=None, solver='auto', tol=0.001), 'model__alpha': 1000, 'model__fit_intercept': False, 'model__normalize': False, 'polynomial_fit__degree': 9} : \n",
      "train_score: -795.36514,test_score: -16.85815\n"
     ]
    },
    {
     "name": "stderr",
     "output_type": "stream",
     "text": [
      "/Users/aspiela/anaconda/envs/p37/lib/python3.7/site-packages/sklearn/utils/deprecation.py:125: FutureWarning: You are accessing a training score ('mean_train_score'), which will not be available by default any more in 0.21. If you need training scores, please set return_train_score=True\n",
      "  warnings.warn(*warn_args, **warn_kwargs)\n"
     ]
    }
   ],
   "source": [
    "for param, train_score, test_score in zip(grid_results[\"params\"], grid_results[\"mean_test_score\"], grid_results[\"mean_train_score\"]):\n",
    "    print(param, \": \\ntrain_score: {:.5f},test_score: {:.5f}\".format(train_score, test_score))"
   ]
  },
  {
   "cell_type": "code",
   "execution_count": 196,
   "metadata": {},
   "outputs": [],
   "source": [
    "np.set_printoptions(precision=4, suppress=True)"
   ]
  },
  {
   "cell_type": "code",
   "execution_count": 167,
   "metadata": {},
   "outputs": [
    {
     "data": {
      "text/plain": [
       "Pipeline(memory=None,\n",
       "     steps=[('scale', StandardScaler(copy=True, with_mean=True, with_std=True)), ('polynomial_fit', PolynomialFeatures(degree=10, include_bias=False, interaction_only=False)), ('model', Ridge(alpha=0.0, copy_X=True, fit_intercept=True, max_iter=None,\n",
       "   normalize=False, random_state=None, solver='auto', tol=0.001))])"
      ]
     },
     "execution_count": 167,
     "metadata": {},
     "output_type": "execute_result"
    }
   ],
   "source": [
    "pipe.fit(x[:, None], y[:, None])"
   ]
  },
  {
   "cell_type": "code",
   "execution_count": 176,
   "metadata": {},
   "outputs": [
    {
     "name": "stdout",
     "output_type": "stream",
     "text": [
      "{'0.0': 'r2=0.1227, mse=0.0024', '0.01': 'r2=0.1470, mse=0.0022', '0.1': 'r2=0.1662, mse=0.0021', '1': 'r2=0.1675, mse=0.0020', '10': 'r2=0.1459, mse=0.0020'}\n"
     ]
    }
   ],
   "source": [
    "alpha_list = [0., 0.01, 0.1, 1, 10]\n",
    "r2_scores = {}\n",
    "X_train, X_test, y_train, y_test = train_test_split(x, y, test_size=0.2, random_state=13)\n",
    "for a in alpha_list:\n",
    "    jobs = [(\"scale\", StandardScaler()), \n",
    "            (\"polynomial_fit\", PolynomialFeatures(degree=10, include_bias=False)),\n",
    "            (\"model\", Ridge(alpha=a))]\n",
    "    pipe = Pipeline(jobs)\n",
    "    pipe.fit(X_train[:, None], y_train[:, None])\n",
    "    y_hat = pipe.predict(X_test[:, None])\n",
    "    r2_scores[str(a)] = \"r2={:.4f}, mse={:.4f}\".format(\n",
    "                            pipe.score(y_test[:, None], y_hat), \n",
    "                            mean_squared_error(y_test[:, None], y_hat))\n",
    "print(r2_scores)"
   ]
  },
  {
   "cell_type": "code",
   "execution_count": 177,
   "metadata": {},
   "outputs": [
    {
     "name": "stdout",
     "output_type": "stream",
     "text": [
      "{'0.0': 'r2=0.1227, mse=0.0024',\n",
      " '0.01': 'r2=0.1470, mse=0.0022',\n",
      " '0.1': 'r2=0.1662, mse=0.0021',\n",
      " '1': 'r2=0.1675, mse=0.0020',\n",
      " '10': 'r2=0.1459, mse=0.0020'}\n"
     ]
    }
   ],
   "source": [
    "import pprint as pp\n",
    "pp.pprint(r2_scores)"
   ]
  },
  {
   "cell_type": "code",
   "execution_count": 208,
   "metadata": {},
   "outputs": [
    {
     "data": {
      "text/plain": [
       "Pipeline(memory=None,\n",
       "     steps=[('scale', StandardScaler(copy=True, with_mean=True, with_std=True)), ('polynomial_fit', PolynomialFeatures(degree=3, include_bias=False, interaction_only=False)), ('model', Ridge(alpha=0.1, copy_X=True, fit_intercept=True, max_iter=None,\n",
       "   normalize=True, random_state=None, solver='auto', tol=0.001))])"
      ]
     },
     "execution_count": 208,
     "metadata": {},
     "output_type": "execute_result"
    }
   ],
   "source": [
    "jobs = [(\"scale\", StandardScaler()), \n",
    "        (\"polynomial_fit\", PolynomialFeatures(degree=3, include_bias=False)),\n",
    "        (\"model\", Ridge(alpha=0.1, normalize=True))]\n",
    "pipe = Pipeline(jobs)\n",
    "pipe.fit(x[:, None], y)"
   ]
  },
  {
   "cell_type": "code",
   "execution_count": 241,
   "metadata": {},
   "outputs": [
    {
     "data": {
      "image/png": "[encoded data removed]",
      "text/plain": [
       "<Figure size 432x288 with 1 Axes>"
      ]
     },
     "metadata": {
      "needs_background": "light"
     },
     "output_type": "display_data"
    }
   ],
   "source": [
    "plt.scatter(x, np.squeeze(grid.predict(x[:, None])), c='r', alpha=0.2, s=40)\n",
    "plt.scatter(x, y, c='g', alpha=0.2, s=40)\n",
    "plt.show()"
   ]
  },
  {
   "cell_type": "code",
   "execution_count": 209,
   "metadata": {},
   "outputs": [
    {
     "data": {
      "image/png": "[encoded data removed]",
      "text/plain": [
       "<Figure size 432x288 with 1 Axes>"
      ]
     },
     "metadata": {
      "needs_background": "light"
     },
     "output_type": "display_data"
    }
   ],
   "source": [
    "plt.scatter(x, np.squeeze(pipe.predict(x[:, None])), c='r', alpha=0.2, s=40)\n",
    "plt.scatter(x, y, c='g', alpha=0.2, s=40)\n",
    "plt.show()"
   ]
  },
  {
   "cell_type": "code",
   "execution_count": 169,
   "metadata": {},
   "outputs": [
    {
     "name": "stdout",
     "output_type": "stream",
     "text": [
      "rms_error = 0.009195605935748457\n"
     ]
    }
   ],
   "source": [
    "y_hat = np.squeeze(pipe.predict(x[:, None]))\n",
    "rms_error = 0.\n",
    "for y_touple in zip(y, y_hat):\n",
    "    rms_error += np.subtract(*y_touple)**2\n",
    "rms_error = rms_error/len(y)\n",
    "print(f'rms_error = {rms_error}')"
   ]
  },
  {
   "cell_type": "code",
   "execution_count": 89,
   "metadata": {},
   "outputs": [
    {
     "data": {
      "text/plain": [
       "array([[1296.97459923]])"
      ]
     },
     "execution_count": 89,
     "metadata": {},
     "output_type": "execute_result"
    }
   ],
   "source": [
    "pipe.predict([[5.]])"
   ]
  },
  {
   "cell_type": "code",
   "execution_count": 109,
   "metadata": {},
   "outputs": [],
   "source": [
    "from sklearn.metrics import mean_squared_error, r2_score"
   ]
  },
  {
   "cell_type": "code",
   "execution_count": 108,
   "metadata": {},
   "outputs": [
    {
     "data": {
      "text/plain": [
       "0.010088033577657413"
      ]
     },
     "execution_count": 108,
     "metadata": {},
     "output_type": "execute_result"
    }
   ],
   "source": [
    "mean_squared_error(y, y_hat)"
   ]
  },
  {
   "cell_type": "code",
   "execution_count": 151,
   "metadata": {},
   "outputs": [
    {
     "data": {
      "text/plain": [
       "0.6297626491262998"
      ]
     },
     "execution_count": 151,
     "metadata": {},
     "output_type": "execute_result"
    }
   ],
   "source": [
    "r2_score(y, y_hat)"
   ]
  },
  {
   "cell_type": "code",
   "execution_count": 115,
   "metadata": {},
   "outputs": [
    {
     "data": {
      "text/plain": [
       "0.5333998360055159"
      ]
     },
     "execution_count": 115,
     "metadata": {},
     "output_type": "execute_result"
    }
   ],
   "source": [
    "pipe.score(x[:, None], y)"
   ]
  },
  {
   "cell_type": "code",
   "execution_count": 144,
   "metadata": {},
   "outputs": [
    {
     "data": {
      "text/plain": [
       "-0.7602911889184321"
      ]
     },
     "execution_count": 144,
     "metadata": {},
     "output_type": "execute_result"
    }
   ],
   "source": [
    "cross_val_score(pipe, x[:, None], y, cv=10).mean()"
   ]
  },
  {
   "cell_type": "code",
   "execution_count": 116,
   "metadata": {},
   "outputs": [],
   "source": [
    "import seaborn as sns"
   ]
  },
  {
   "cell_type": "code",
   "execution_count": 117,
   "metadata": {},
   "outputs": [
    {
     "data": {
      "image/png": "[encoded data removed]",
      "text/plain": [
       "<Figure size 432x288 with 1 Axes>"
      ]
     },
     "metadata": {
      "needs_background": "light"
     },
     "output_type": "display_data"
    }
   ],
   "source": [
    "sns.residplot(x, y)\n",
    "plt.show()"
   ]
  },
  {
   "cell_type": "code",
   "execution_count": 124,
   "metadata": {},
   "outputs": [
    {
     "data": {
      "image/png": "[encoded data removed]",
      "text/plain": [
       "<Figure size 432x288 with 1 Axes>"
      ]
     },
     "metadata": {
      "needs_background": "light"
     },
     "output_type": "display_data"
    }
   ],
   "source": [
    "sns.distplot(y-y_hat, hist=False)\n",
    "plt.show()"
   ]
  },
  {
   "cell_type": "code",
   "execution_count": 125,
   "metadata": {},
   "outputs": [],
   "source": [
    "import pandas as pd"
   ]
  },
  {
   "cell_type": "code",
   "execution_count": 126,
   "metadata": {},
   "outputs": [],
   "source": [
    "path = 'https://ibm.box.com/shared/static/q6iiqb1pd7wo8r3q28jvgsrprzezjqk3.csv'"
   ]
  },
  {
   "cell_type": "code",
   "execution_count": 127,
   "metadata": {},
   "outputs": [
    {
     "data": {
      "text/html": [
       "<div>\n",
       "<style scoped>\n",
       "    .dataframe tbody tr th:only-of-type {\n",
       "        vertical-align: middle;\n",
       "    }\n",
       "\n",
       "    .dataframe tbody tr th {\n",
       "        vertical-align: top;\n",
       "    }\n",
       "\n",
       "    .dataframe thead th {\n",
       "        text-align: right;\n",
       "    }\n",
       "</style>\n",
       "<table border=\"1\" class=\"dataframe\">\n",
       "  <thead>\n",
       "    <tr style=\"text-align: right;\">\n",
       "      <th></th>\n",
       "      <th>Unnamed: 0</th>\n",
       "      <th>symboling</th>\n",
       "      <th>normalized-losses</th>\n",
       "      <th>make</th>\n",
       "      <th>aspiration</th>\n",
       "      <th>num-of-doors</th>\n",
       "      <th>body-style</th>\n",
       "      <th>drive-wheels</th>\n",
       "      <th>engine-location</th>\n",
       "      <th>wheel-base</th>\n",
       "      <th>length</th>\n",
       "      <th>width</th>\n",
       "      <th>height</th>\n",
       "      <th>curb-weight</th>\n",
       "      <th>engine-type</th>\n",
       "      <th>num-of-cylinders</th>\n",
       "      <th>engine-size</th>\n",
       "      <th>fuel-system</th>\n",
       "      <th>bore</th>\n",
       "      <th>stroke</th>\n",
       "      <th>compression-ratio</th>\n",
       "      <th>horsepower</th>\n",
       "      <th>peak-rpm</th>\n",
       "      <th>city-mpg</th>\n",
       "      <th>highway-mpg</th>\n",
       "      <th>price</th>\n",
       "      <th>city-L/100km</th>\n",
       "      <th>horsepower-binned</th>\n",
       "      <th>diesel</th>\n",
       "      <th>gas</th>\n",
       "    </tr>\n",
       "  </thead>\n",
       "  <tbody>\n",
       "    <tr>\n",
       "      <th>0</th>\n",
       "      <td>0</td>\n",
       "      <td>3</td>\n",
       "      <td>122</td>\n",
       "      <td>alfa-romero</td>\n",
       "      <td>std</td>\n",
       "      <td>two</td>\n",
       "      <td>convertible</td>\n",
       "      <td>rwd</td>\n",
       "      <td>front</td>\n",
       "      <td>88.6</td>\n",
       "      <td>0.811148</td>\n",
       "      <td>0.890278</td>\n",
       "      <td>48.8</td>\n",
       "      <td>2548</td>\n",
       "      <td>dohc</td>\n",
       "      <td>four</td>\n",
       "      <td>130</td>\n",
       "      <td>mpfi</td>\n",
       "      <td>3.47</td>\n",
       "      <td>2.68</td>\n",
       "      <td>9.0</td>\n",
       "      <td>111.0</td>\n",
       "      <td>5000.0</td>\n",
       "      <td>21</td>\n",
       "      <td>27</td>\n",
       "      <td>13495.0</td>\n",
       "      <td>11.190476</td>\n",
       "      <td>Medium</td>\n",
       "      <td>0</td>\n",
       "      <td>1</td>\n",
       "    </tr>\n",
       "    <tr>\n",
       "      <th>1</th>\n",
       "      <td>1</td>\n",
       "      <td>3</td>\n",
       "      <td>122</td>\n",
       "      <td>alfa-romero</td>\n",
       "      <td>std</td>\n",
       "      <td>two</td>\n",
       "      <td>convertible</td>\n",
       "      <td>rwd</td>\n",
       "      <td>front</td>\n",
       "      <td>88.6</td>\n",
       "      <td>0.811148</td>\n",
       "      <td>0.890278</td>\n",
       "      <td>48.8</td>\n",
       "      <td>2548</td>\n",
       "      <td>dohc</td>\n",
       "      <td>four</td>\n",
       "      <td>130</td>\n",
       "      <td>mpfi</td>\n",
       "      <td>3.47</td>\n",
       "      <td>2.68</td>\n",
       "      <td>9.0</td>\n",
       "      <td>111.0</td>\n",
       "      <td>5000.0</td>\n",
       "      <td>21</td>\n",
       "      <td>27</td>\n",
       "      <td>16500.0</td>\n",
       "      <td>11.190476</td>\n",
       "      <td>Medium</td>\n",
       "      <td>0</td>\n",
       "      <td>1</td>\n",
       "    </tr>\n",
       "    <tr>\n",
       "      <th>2</th>\n",
       "      <td>2</td>\n",
       "      <td>1</td>\n",
       "      <td>122</td>\n",
       "      <td>alfa-romero</td>\n",
       "      <td>std</td>\n",
       "      <td>two</td>\n",
       "      <td>hatchback</td>\n",
       "      <td>rwd</td>\n",
       "      <td>front</td>\n",
       "      <td>94.5</td>\n",
       "      <td>0.822681</td>\n",
       "      <td>0.909722</td>\n",
       "      <td>52.4</td>\n",
       "      <td>2823</td>\n",
       "      <td>ohcv</td>\n",
       "      <td>six</td>\n",
       "      <td>152</td>\n",
       "      <td>mpfi</td>\n",
       "      <td>2.68</td>\n",
       "      <td>3.47</td>\n",
       "      <td>9.0</td>\n",
       "      <td>154.0</td>\n",
       "      <td>5000.0</td>\n",
       "      <td>19</td>\n",
       "      <td>26</td>\n",
       "      <td>16500.0</td>\n",
       "      <td>12.368421</td>\n",
       "      <td>Medium</td>\n",
       "      <td>0</td>\n",
       "      <td>1</td>\n",
       "    </tr>\n",
       "    <tr>\n",
       "      <th>3</th>\n",
       "      <td>3</td>\n",
       "      <td>2</td>\n",
       "      <td>164</td>\n",
       "      <td>audi</td>\n",
       "      <td>std</td>\n",
       "      <td>four</td>\n",
       "      <td>sedan</td>\n",
       "      <td>fwd</td>\n",
       "      <td>front</td>\n",
       "      <td>99.8</td>\n",
       "      <td>0.848630</td>\n",
       "      <td>0.919444</td>\n",
       "      <td>54.3</td>\n",
       "      <td>2337</td>\n",
       "      <td>ohc</td>\n",
       "      <td>four</td>\n",
       "      <td>109</td>\n",
       "      <td>mpfi</td>\n",
       "      <td>3.19</td>\n",
       "      <td>3.40</td>\n",
       "      <td>10.0</td>\n",
       "      <td>102.0</td>\n",
       "      <td>5500.0</td>\n",
       "      <td>24</td>\n",
       "      <td>30</td>\n",
       "      <td>13950.0</td>\n",
       "      <td>9.791667</td>\n",
       "      <td>Medium</td>\n",
       "      <td>0</td>\n",
       "      <td>1</td>\n",
       "    </tr>\n",
       "    <tr>\n",
       "      <th>4</th>\n",
       "      <td>4</td>\n",
       "      <td>2</td>\n",
       "      <td>164</td>\n",
       "      <td>audi</td>\n",
       "      <td>std</td>\n",
       "      <td>four</td>\n",
       "      <td>sedan</td>\n",
       "      <td>4wd</td>\n",
       "      <td>front</td>\n",
       "      <td>99.4</td>\n",
       "      <td>0.848630</td>\n",
       "      <td>0.922222</td>\n",
       "      <td>54.3</td>\n",
       "      <td>2824</td>\n",
       "      <td>ohc</td>\n",
       "      <td>five</td>\n",
       "      <td>136</td>\n",
       "      <td>mpfi</td>\n",
       "      <td>3.19</td>\n",
       "      <td>3.40</td>\n",
       "      <td>8.0</td>\n",
       "      <td>115.0</td>\n",
       "      <td>5500.0</td>\n",
       "      <td>18</td>\n",
       "      <td>22</td>\n",
       "      <td>17450.0</td>\n",
       "      <td>13.055556</td>\n",
       "      <td>Medium</td>\n",
       "      <td>0</td>\n",
       "      <td>1</td>\n",
       "    </tr>\n",
       "  </tbody>\n",
       "</table>\n",
       "</div>"
      ],
      "text/plain": [
       "   Unnamed: 0  symboling  normalized-losses ... horsepower-binned diesel gas\n",
       "0           0          3                122 ...            Medium      0   1\n",
       "1           1          3                122 ...            Medium      0   1\n",
       "2           2          1                122 ...            Medium      0   1\n",
       "3           3          2                164 ...            Medium      0   1\n",
       "4           4          2                164 ...            Medium      0   1\n",
       "\n",
       "[5 rows x 30 columns]"
      ]
     },
     "execution_count": 127,
     "metadata": {},
     "output_type": "execute_result"
    }
   ],
   "source": [
    "df = pd.read_csv(path)\n",
    "df.head()"
   ]
  },
  {
   "cell_type": "code",
   "execution_count": 128,
   "metadata": {},
   "outputs": [
    {
     "data": {
      "text/plain": [
       "Unnamed: 0             int64\n",
       "symboling              int64\n",
       "normalized-losses      int64\n",
       "make                  object\n",
       "aspiration            object\n",
       "num-of-doors          object\n",
       "body-style            object\n",
       "drive-wheels          object\n",
       "engine-location       object\n",
       "wheel-base           float64\n",
       "length               float64\n",
       "width                float64\n",
       "height               float64\n",
       "curb-weight            int64\n",
       "engine-type           object\n",
       "num-of-cylinders      object\n",
       "engine-size            int64\n",
       "fuel-system           object\n",
       "bore                 float64\n",
       "stroke               float64\n",
       "compression-ratio    float64\n",
       "horsepower           float64\n",
       "peak-rpm             float64\n",
       "city-mpg               int64\n",
       "highway-mpg            int64\n",
       "price                float64\n",
       "city-L/100km         float64\n",
       "horsepower-binned     object\n",
       "diesel                 int64\n",
       "gas                    int64\n",
       "dtype: object"
      ]
     },
     "execution_count": 128,
     "metadata": {},
     "output_type": "execute_result"
    }
   ],
   "source": [
    "df.dtypes"
   ]
  },
  {
   "cell_type": "code",
   "execution_count": 132,
   "metadata": {},
   "outputs": [
    {
     "data": {
      "text/plain": [
       "four    115\n",
       "two      86\n",
       "Name: num-of-doors, dtype: int64"
      ]
     },
     "execution_count": 132,
     "metadata": {},
     "output_type": "execute_result"
    }
   ],
   "source": [
    "df['num-of-doors'].value_counts()"
   ]
  },
  {
   "cell_type": "code",
   "execution_count": 138,
   "metadata": {},
   "outputs": [
    {
     "name": "stdout",
     "output_type": "stream",
     "text": [
      "Evaluate a score by cross-validation\n",
      "\n",
      "    Read more in the :ref:`User Guide <cross_validation>`.\n",
      "\n",
      "    Parameters\n",
      "    ----------\n",
      "    estimator : estimator object implementing 'fit'\n",
      "        The object to use to fit the data.\n",
      "\n",
      "    X : array-like\n",
      "        The data to fit. Can be for example a list, or an array.\n",
      "\n",
      "    y : array-like, optional, default: None\n",
      "        The target variable to try to predict in the case of\n",
      "        supervised learning.\n",
      "\n",
      "    groups : array-like, with shape (n_samples,), optional\n",
      "        Group labels for the samples used while splitting the dataset into\n",
      "        train/test set.\n",
      "\n",
      "    scoring : string, callable or None, optional, default: None\n",
      "        A string (see model evaluation documentation) or\n",
      "        a scorer callable object / function with signature\n",
      "        ``scorer(estimator, X, y)``.\n",
      "\n",
      "    cv : int, cross-validation generator or an iterable, optional\n",
      "        Determines the cross-validation splitting strategy.\n",
      "        Possible inputs for cv are:\n",
      "\n",
      "        - None, to use the default 3-fold cross validation,\n",
      "        - integer, to specify the number of folds in a `(Stratified)KFold`,\n",
      "        - :term:`CV splitter`,\n",
      "        - An iterable yielding (train, test) splits as arrays of indices.\n",
      "\n",
      "        For integer/None inputs, if the estimator is a classifier and ``y`` is\n",
      "        either binary or multiclass, :class:`StratifiedKFold` is used. In all\n",
      "        other cases, :class:`KFold` is used.\n",
      "\n",
      "        Refer :ref:`User Guide <cross_validation>` for the various\n",
      "        cross-validation strategies that can be used here.\n",
      "\n",
      "        .. versionchanged:: 0.20\n",
      "            ``cv`` default value if None will change from 3-fold to 5-fold\n",
      "            in v0.22.\n",
      "\n",
      "    n_jobs : int or None, optional (default=None)\n",
      "        The number of CPUs to use to do the computation.\n",
      "        ``None`` means 1 unless in a :obj:`joblib.parallel_backend` context.\n",
      "        ``-1`` means using all processors. See :term:`Glossary <n_jobs>`\n",
      "        for more details.\n",
      "\n",
      "    verbose : integer, optional\n",
      "        The verbosity level.\n",
      "\n",
      "    fit_params : dict, optional\n",
      "        Parameters to pass to the fit method of the estimator.\n",
      "\n",
      "    pre_dispatch : int, or string, optional\n",
      "        Controls the number of jobs that get dispatched during parallel\n",
      "        execution. Reducing this number can be useful to avoid an\n",
      "        explosion of memory consumption when more jobs get dispatched\n",
      "        than CPUs can process. This parameter can be:\n",
      "\n",
      "            - None, in which case all the jobs are immediately\n",
      "              created and spawned. Use this for lightweight and\n",
      "              fast-running jobs, to avoid delays due to on-demand\n",
      "              spawning of the jobs\n",
      "\n",
      "            - An int, giving the exact number of total jobs that are\n",
      "              spawned\n",
      "\n",
      "            - A string, giving an expression as a function of n_jobs,\n",
      "              as in '2*n_jobs'\n",
      "\n",
      "    error_score : 'raise' | 'raise-deprecating' or numeric\n",
      "        Value to assign to the score if an error occurs in estimator fitting.\n",
      "        If set to 'raise', the error is raised.\n",
      "        If set to 'raise-deprecating', a FutureWarning is printed before the\n",
      "        error is raised.\n",
      "        If a numeric value is given, FitFailedWarning is raised. This parameter\n",
      "        does not affect the refit step, which will always raise the error.\n",
      "        Default is 'raise-deprecating' but from version 0.22 it will change\n",
      "        to np.nan.\n",
      "\n",
      "    Returns\n",
      "    -------\n",
      "    scores : array of float, shape=(len(list(cv)),)\n",
      "        Array of scores of the estimator for each run of the cross validation.\n",
      "\n",
      "    Examples\n",
      "    --------\n",
      "    >>> from sklearn import datasets, linear_model\n",
      "    >>> from sklearn.model_selection import cross_val_score\n",
      "    >>> diabetes = datasets.load_diabetes()\n",
      "    >>> X = diabetes.data[:150]\n",
      "    >>> y = diabetes.target[:150]\n",
      "    >>> lasso = linear_model.Lasso()\n",
      "    >>> print(cross_val_score(lasso, X, y, cv=3))  # doctest: +ELLIPSIS\n",
      "    [0.33150734 0.08022311 0.03531764]\n",
      "\n",
      "    See Also\n",
      "    ---------\n",
      "    :func:`sklearn.model_selection.cross_validate`:\n",
      "        To run cross-validation on multiple metrics and also to return\n",
      "        train scores, fit times and score times.\n",
      "\n",
      "    :func:`sklearn.model_selection.cross_val_predict`:\n",
      "        Get predictions from each split of cross-validation for diagnostic\n",
      "        purposes.\n",
      "\n",
      "    :func:`sklearn.metrics.make_scorer`:\n",
      "        Make a scorer from a performance metric or loss function.\n",
      "\n",
      "    \n"
     ]
    }
   ],
   "source": [
    "print(cross_val_score.__doc__)"
   ]
  },
  {
   "cell_type": "code",
   "execution_count": 234,
   "metadata": {},
   "outputs": [],
   "source": [
    "from ipywidgets import interact, interactive, fixed, interact_manual"
   ]
  },
  {
   "cell_type": "code",
   "execution_count": 235,
   "metadata": {},
   "outputs": [],
   "source": [
    "x = np.linspace(-3, 3, 10)\n",
    "def f(intercept, slope):\n",
    "    plt.plot(x, intercept + x*slope)"
   ]
  },
  {
   "cell_type": "code",
   "execution_count": 236,
   "metadata": {},
   "outputs": [
    {
     "data": {
      "application/vnd.jupyter.widget-view+json": {
       "model_id": "7a2ace37480a4e3bb8abe7fe02fe37d8",
       "version_major": 2,
       "version_minor": 0
      },
      "text/plain": [
       "interactive(children=(IntSlider(value=0, description='intercept', max=3, min=-3), FloatSlider(value=0.0, descr…"
      ]
     },
     "metadata": {},
     "output_type": "display_data"
    },
    {
     "data": {
      "text/plain": [
       "<function __main__.f(intercept, slope)>"
      ]
     },
     "execution_count": 236,
     "metadata": {},
     "output_type": "execute_result"
    }
   ],
   "source": [
    "interact(f, intercept=(-3, 3, 1), slope=(-1, 1, 0.1))"
   ]
  },
  {
   "cell_type": "code",
   "execution_count": null,
   "metadata": {},
   "outputs": [],
   "source": []
  }
 ],
 "metadata": {
  "kernelspec": {
   "display_name": "Python 3",
   "language": "python",
   "name": "python3"
  },
  "language_info": {
   "codemirror_mode": {
    "name": "ipython",
    "version": 3
   },
   "file_extension": ".py",
   "mimetype": "text/x-python",
   "name": "python",
   "nbconvert_exporter": "python",
   "pygments_lexer": "ipython3",
   "version": "3.7.1"
  }
 },
 "nbformat": 4,
 "nbformat_minor": 2
}
